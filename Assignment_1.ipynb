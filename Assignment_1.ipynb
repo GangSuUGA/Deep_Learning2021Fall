{
 "cells": [
  {
   "cell_type": "markdown",
   "metadata": {
    "id": "-pgc5CELZsO2"
   },
   "source": [
    "## Assignment 1 - Gradient Descent Algorithms with PyTorch\n",
    "The following code cell is used to generate some noisy data (don't change this code).  You will need to use the data generated here to train a linear model $y=ax+b$ (i.e., Perform gradient descent on the two parameters $a$ and $b$). \n",
    "\n",
    "\n",
    "1.   You will need to code two algorithms (1) Gradient Descent + regular momentum, and (2) Adam, using PyTorch \"autograd\".\n",
    "2.   Check your results against the linear regression model. You can do linear regression using \"sklearn.linear_model\" (Hint: you need to convert tensor to numpy array.)\n",
    "\n",
    "\n",
    "\n",
    "\n"
   ]
  },
  {
   "cell_type": "code",
   "execution_count": 1,
   "metadata": {
    "id": "kuDFZCgdwE27"
   },
   "outputs": [],
   "source": [
    "import torch\n",
    "torch.manual_seed(42)\n",
    "x = torch.rand(100,1)\n",
    "y = 1 + 2 * x + .1 * torch.rand(100, 1)"
   ]
  },
  {
   "cell_type": "code",
   "execution_count": 2,
   "metadata": {
    "colab": {
     "base_uri": "https://localhost:8080/"
    },
    "executionInfo": {
     "elapsed": 12,
     "status": "ok",
     "timestamp": 1630443310668,
     "user": {
      "displayName": "James Yang",
      "photoUrl": "",
      "userId": "05522971510241172115"
     },
     "user_tz": 240
    },
    "id": "-R-1-3K7ZaSf",
    "outputId": "299e2146-8fa1-49c3-a6bd-d94e8ce62284"
   },
   "outputs": [
    {
     "data": {
      "text/plain": [
       "(tensor([-0.6430], requires_grad=True), tensor([0.7113], requires_grad=True))"
      ]
     },
     "execution_count": 2,
     "metadata": {},
     "output_type": "execute_result"
    }
   ],
   "source": [
    "a = torch.randn(1, requires_grad=True)\n",
    "b = torch.randn(1, requires_grad=True)\n",
    "a, b"
   ]
  },
  {
   "cell_type": "markdown",
   "metadata": {
    "id": "mJd4pArDd7c6"
   },
   "source": [
    "## Your code goes here:"
   ]
  },
  {
   "cell_type": "code",
   "execution_count": 3,
   "metadata": {},
   "outputs": [
    {
     "data": {
      "text/plain": [
       "torch.Size([100, 2])"
      ]
     },
     "execution_count": 3,
     "metadata": {},
     "output_type": "execute_result"
    }
   ],
   "source": [
    "train_loader = torch.cat([x,y],1)\n",
    "train_loader.shape"
   ]
  },
  {
   "cell_type": "code",
   "execution_count": 4,
   "metadata": {},
   "outputs": [
    {
     "name": "stderr",
     "output_type": "stream",
     "text": [
      "C:\\Users\\gs70055\\Anaconda3\\envs\\su\\lib\\site-packages\\torch\\nn\\modules\\loss.py:528: UserWarning: Using a target size (torch.Size([])) that is different to the input size (torch.Size([1])). This will likely lead to incorrect results due to broadcasting. Please ensure they have the same size.\n",
      "  return F.mse_loss(input, target, reduction=self.reduction)\n"
     ]
    },
    {
     "name": "stdout",
     "output_type": "stream",
     "text": [
      "('Epoch:', 1, 'Loss:', 0.9364055199837458)\n",
      "('Epoch:', 2, 'Loss:', 0.13793398094247095)\n",
      "('Epoch:', 3, 'Loss:', 0.07979742394047207)\n",
      "('Epoch:', 4, 'Loss:', 0.04549877153505804)\n",
      "('Epoch:', 5, 'Loss:', 0.02598368959443178)\n",
      "('Epoch:', 6, 'Loss:', 0.014988622188948284)\n",
      "('Epoch:', 7, 'Loss:', 0.00878952315197239)\n",
      "('Epoch:', 8, 'Loss:', 0.005295818898866855)\n",
      "('Epoch:', 9, 'Loss:', 0.0033279871555168938)\n",
      "('Epoch:', 10, 'Loss:', 0.0022204540438860933)\n",
      "('Epoch:', 11, 'Loss:', 0.0015977751878335767)\n",
      "('Epoch:', 12, 'Loss:', 0.0012481764408590833)\n",
      "('Epoch:', 13, 'Loss:', 0.0010522587835352225)\n",
      "('Epoch:', 14, 'Loss:', 0.000942745598996595)\n",
      "('Epoch:', 15, 'Loss:', 0.000881735633538483)\n",
      "('Epoch:', 16, 'Loss:', 0.0008479142187047728)\n",
      "('Epoch:', 17, 'Loss:', 0.0008292761065270326)\n",
      "('Epoch:', 18, 'Loss:', 0.0008191044814935822)\n",
      "('Epoch:', 19, 'Loss:', 0.0008136271994737854)\n",
      "('Epoch:', 20, 'Loss:', 0.0008107277791255285)\n",
      "('Epoch:', 21, 'Loss:', 0.0008092396902164012)\n",
      "('Epoch:', 22, 'Loss:', 0.0008085107543247716)\n",
      "('Epoch:', 23, 'Loss:', 0.0008081813410916539)\n",
      "('Epoch:', 24, 'Loss:', 0.0008080529323376595)\n",
      "('Epoch:', 25, 'Loss:', 0.0008080327557526346)\n",
      "('Epoch:', 26, 'Loss:', 0.0008080536945271888)\n",
      "('Epoch:', 27, 'Loss:', 0.0008080958243311898)\n",
      "('Epoch:', 28, 'Loss:', 0.0008081372642897122)\n",
      "('Epoch:', 29, 'Loss:', 0.0008081762341925014)\n",
      "('Epoch:', 30, 'Loss:', 0.0008082113909279087)\n",
      "tensor([2.0132], requires_grad=True) tensor([1.0462], requires_grad=True)\n"
     ]
    }
   ],
   "source": [
    "from torch.nn import MSELoss\n",
    "from torch.optim import SGD,Adam\n",
    "\n",
    "optimizer = SGD([a,b], lr=1e-3, momentum=0.95)\n",
    "loss_fn = MSELoss()\n",
    "\n",
    "running_loss = 0.0\n",
    "epochs = 30\n",
    "for epoch in range(epochs):\n",
    "    for batch in train_loader:\n",
    "        m, n = batch\n",
    "        preds = a*m + b\n",
    "        loss = loss_fn(preds, n)\n",
    "        loss.backward()\n",
    "        optimizer.step()\n",
    "        optimizer.zero_grad()\n",
    "        #print(loss.item())\n",
    "        running_loss += loss.item()\n",
    "    print((\"Epoch:\",epoch+1, \"Loss:\",running_loss/len(train_loader)))\n",
    "    running_loss = 0.0\n",
    "print(a,b)"
   ]
  },
  {
   "cell_type": "code",
   "execution_count": 5,
   "metadata": {},
   "outputs": [
    {
     "name": "stdout",
     "output_type": "stream",
     "text": [
      "('Epoch:', 1, 'Loss:', 0.0007609089023208071)\n",
      "('Epoch:', 2, 'Loss:', 0.0007833293968668898)\n",
      "('Epoch:', 3, 'Loss:', 0.0007830142439821941)\n",
      "('Epoch:', 4, 'Loss:', 0.0007830120383107441)\n",
      "('Epoch:', 5, 'Loss:', 0.0007830069671747708)\n",
      "('Epoch:', 6, 'Loss:', 0.0007830038907360404)\n",
      "('Epoch:', 7, 'Loss:', 0.0007830051996519671)\n",
      "('Epoch:', 8, 'Loss:', 0.0007830015875653373)\n",
      "('Epoch:', 9, 'Loss:', 0.0007830007780468407)\n",
      "('Epoch:', 10, 'Loss:', 0.0007829998075779088)\n",
      "('Epoch:', 11, 'Loss:', 0.0007830004367794175)\n",
      "('Epoch:', 12, 'Loss:', 0.0007829965527345451)\n",
      "('Epoch:', 13, 'Loss:', 0.0007829982547322345)\n",
      "('Epoch:', 14, 'Loss:', 0.0007829939632200933)\n",
      "('Epoch:', 15, 'Loss:', 0.0007829969125261016)\n",
      "('Epoch:', 16, 'Loss:', 0.0007829922261466038)\n",
      "('Epoch:', 17, 'Loss:', 0.0007829910930600192)\n",
      "('Epoch:', 18, 'Loss:', 0.0007829863582783503)\n",
      "('Epoch:', 19, 'Loss:', 0.0007829893893075735)\n",
      "('Epoch:', 20, 'Loss:', 0.0007829892342444112)\n",
      "('Epoch:', 21, 'Loss:', 0.0007829908352518089)\n",
      "('Epoch:', 22, 'Loss:', 0.0007829888498964977)\n",
      "('Epoch:', 23, 'Loss:', 0.0007829861684184891)\n",
      "('Epoch:', 24, 'Loss:', 0.0007829839588897869)\n",
      "('Epoch:', 25, 'Loss:', 0.0007829852570699813)\n",
      "('Epoch:', 26, 'Loss:', 0.000782984733643275)\n",
      "('Epoch:', 27, 'Loss:', 0.0007829827653733901)\n",
      "('Epoch:', 28, 'Loss:', 0.0007829836629822751)\n",
      "('Epoch:', 29, 'Loss:', 0.00078298473693863)\n",
      "('Epoch:', 30, 'Loss:', 0.0007829863891504374)\n",
      "tensor([2.0153], requires_grad=True) tensor([1.0454], requires_grad=True)\n"
     ]
    }
   ],
   "source": [
    "from torch.nn import MSELoss\n",
    "from torch.optim import SGD,Adam\n",
    "\n",
    "optimizer = Adam([a,b], lr=1e-3)\n",
    "loss_fn = MSELoss()\n",
    "\n",
    "running_loss = 0.0\n",
    "epochs = 30\n",
    "for epoch in range(epochs):\n",
    "    for batch in train_loader:\n",
    "        m, n = batch\n",
    "        preds = a*m + b\n",
    "        loss = loss_fn(preds, n)\n",
    "        loss.backward()\n",
    "        optimizer.step()\n",
    "        optimizer.zero_grad()\n",
    "        #print(loss.item())\n",
    "        running_loss += loss.item()\n",
    "    print((\"Epoch:\",epoch+1, \"Loss:\",running_loss/len(train_loader)))\n",
    "    running_loss = 0.0\n",
    "print(a,b)"
   ]
  },
  {
   "cell_type": "code",
   "execution_count": 6,
   "metadata": {
    "id": "m4hcTpsw__Gz"
   },
   "outputs": [
    {
     "data": {
      "text/plain": [
       "LinearRegression()"
      ]
     },
     "execution_count": 6,
     "metadata": {},
     "output_type": "execute_result"
    }
   ],
   "source": [
    "from sklearn import linear_model\n",
    "regr = linear_model.LinearRegression()\n",
    "regr.fit(x, y)"
   ]
  },
  {
   "cell_type": "code",
   "execution_count": 7,
   "metadata": {},
   "outputs": [
    {
     "data": {
      "text/plain": [
       "array([[2.0108864]], dtype=float32)"
      ]
     },
     "execution_count": 7,
     "metadata": {},
     "output_type": "execute_result"
    }
   ],
   "source": [
    "regr.coef_"
   ]
  },
  {
   "cell_type": "code",
   "execution_count": 8,
   "metadata": {},
   "outputs": [
    {
     "data": {
      "text/plain": [
       "array([1.0401307], dtype=float32)"
      ]
     },
     "execution_count": 8,
     "metadata": {},
     "output_type": "execute_result"
    }
   ],
   "source": [
    "regr.intercept_"
   ]
  },
  {
   "cell_type": "markdown",
   "metadata": {},
   "source": [
    "# Conclusion: "
   ]
  },
  {
   "cell_type": "markdown",
   "metadata": {},
   "source": [
    " - Adma shows much faster convergence than SGD&Momentum from the perspective of loss. "
   ]
  }
 ],
 "metadata": {
  "colab": {
   "authorship_tag": "ABX9TyNn5EgYowc0epLdgSn3mX93",
   "collapsed_sections": [],
   "name": "Assignment_1.ipynb",
   "provenance": [
    {
     "file_id": "10eZYT-ExC_NOlfAr84h2r0x4s9-iJTP2",
     "timestamp": 1630443353038
    }
   ]
  },
  "kernelspec": {
   "display_name": "Python 3",
   "language": "python",
   "name": "python3"
  },
  "language_info": {
   "codemirror_mode": {
    "name": "ipython",
    "version": 3
   },
   "file_extension": ".py",
   "mimetype": "text/x-python",
   "name": "python",
   "nbconvert_exporter": "python",
   "pygments_lexer": "ipython3",
   "version": "3.8.10"
  }
 },
 "nbformat": 4,
 "nbformat_minor": 1
}
