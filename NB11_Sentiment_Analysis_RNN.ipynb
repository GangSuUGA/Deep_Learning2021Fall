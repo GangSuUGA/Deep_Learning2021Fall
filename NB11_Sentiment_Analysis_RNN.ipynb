{
 "cells": [
  {
   "cell_type": "code",
   "execution_count": 1,
   "metadata": {
    "colab": {
     "base_uri": "https://localhost:8080/"
    },
    "executionInfo": {
     "elapsed": 9678,
     "status": "ok",
     "timestamp": 1634001920869,
     "user": {
      "displayName": "James Yang",
      "photoUrl": "https://lh3.googleusercontent.com/a/default-user=s64",
      "userId": "05522971510241172115"
     },
     "user_tz": 240
    },
    "id": "F5D-_k5UWgzP",
    "outputId": "ed5886bf-cec1-43dc-fe8d-f40972d2ccf6"
   },
   "outputs": [
    {
     "name": "stdout",
     "output_type": "stream",
     "text": [
      "Collecting d2l==0.17.0\n",
      "  Downloading d2l-0.17.0-py3-none-any.whl (83 kB)\n",
      "\u001b[?25l\r",
      "\u001b[K     |████                            | 10 kB 15.7 MB/s eta 0:00:01\r",
      "\u001b[K     |███████▉                        | 20 kB 7.5 MB/s eta 0:00:01\r",
      "\u001b[K     |███████████▉                    | 30 kB 4.9 MB/s eta 0:00:01\r",
      "\u001b[K     |███████████████▊                | 40 kB 4.4 MB/s eta 0:00:01\r",
      "\u001b[K     |███████████████████▊            | 51 kB 4.0 MB/s eta 0:00:01\r",
      "\u001b[K     |███████████████████████▋        | 61 kB 4.6 MB/s eta 0:00:01\r",
      "\u001b[K     |███████████████████████████▋    | 71 kB 5.1 MB/s eta 0:00:01\r",
      "\u001b[K     |███████████████████████████████▌| 81 kB 5.7 MB/s eta 0:00:01\r",
      "\u001b[K     |████████████████████████████████| 83 kB 1.1 MB/s \n",
      "\u001b[?25hRequirement already satisfied: matplotlib in /usr/local/lib/python3.7/dist-packages (from d2l==0.17.0) (3.2.2)\n",
      "Requirement already satisfied: numpy in /usr/local/lib/python3.7/dist-packages (from d2l==0.17.0) (1.19.5)\n",
      "Requirement already satisfied: pandas in /usr/local/lib/python3.7/dist-packages (from d2l==0.17.0) (1.1.5)\n",
      "Requirement already satisfied: jupyter in /usr/local/lib/python3.7/dist-packages (from d2l==0.17.0) (1.0.0)\n",
      "Requirement already satisfied: requests in /usr/local/lib/python3.7/dist-packages (from d2l==0.17.0) (2.23.0)\n",
      "Requirement already satisfied: qtconsole in /usr/local/lib/python3.7/dist-packages (from jupyter->d2l==0.17.0) (5.1.1)\n",
      "Requirement already satisfied: ipykernel in /usr/local/lib/python3.7/dist-packages (from jupyter->d2l==0.17.0) (4.10.1)\n",
      "Requirement already satisfied: nbconvert in /usr/local/lib/python3.7/dist-packages (from jupyter->d2l==0.17.0) (5.6.1)\n",
      "Requirement already satisfied: jupyter-console in /usr/local/lib/python3.7/dist-packages (from jupyter->d2l==0.17.0) (5.2.0)\n",
      "Requirement already satisfied: ipywidgets in /usr/local/lib/python3.7/dist-packages (from jupyter->d2l==0.17.0) (7.6.5)\n",
      "Requirement already satisfied: notebook in /usr/local/lib/python3.7/dist-packages (from jupyter->d2l==0.17.0) (5.3.1)\n",
      "Requirement already satisfied: tornado>=4.0 in /usr/local/lib/python3.7/dist-packages (from ipykernel->jupyter->d2l==0.17.0) (5.1.1)\n",
      "Requirement already satisfied: ipython>=4.0.0 in /usr/local/lib/python3.7/dist-packages (from ipykernel->jupyter->d2l==0.17.0) (5.5.0)\n",
      "Requirement already satisfied: traitlets>=4.1.0 in /usr/local/lib/python3.7/dist-packages (from ipykernel->jupyter->d2l==0.17.0) (5.1.0)\n",
      "Requirement already satisfied: jupyter-client in /usr/local/lib/python3.7/dist-packages (from ipykernel->jupyter->d2l==0.17.0) (5.3.5)\n",
      "Requirement already satisfied: decorator in /usr/local/lib/python3.7/dist-packages (from ipython>=4.0.0->ipykernel->jupyter->d2l==0.17.0) (4.4.2)\n",
      "Requirement already satisfied: simplegeneric>0.8 in /usr/local/lib/python3.7/dist-packages (from ipython>=4.0.0->ipykernel->jupyter->d2l==0.17.0) (0.8.1)\n",
      "Requirement already satisfied: prompt-toolkit<2.0.0,>=1.0.4 in /usr/local/lib/python3.7/dist-packages (from ipython>=4.0.0->ipykernel->jupyter->d2l==0.17.0) (1.0.18)\n",
      "Requirement already satisfied: setuptools>=18.5 in /usr/local/lib/python3.7/dist-packages (from ipython>=4.0.0->ipykernel->jupyter->d2l==0.17.0) (57.4.0)\n",
      "Requirement already satisfied: pickleshare in /usr/local/lib/python3.7/dist-packages (from ipython>=4.0.0->ipykernel->jupyter->d2l==0.17.0) (0.7.5)\n",
      "Requirement already satisfied: pygments in /usr/local/lib/python3.7/dist-packages (from ipython>=4.0.0->ipykernel->jupyter->d2l==0.17.0) (2.6.1)\n",
      "Requirement already satisfied: pexpect in /usr/local/lib/python3.7/dist-packages (from ipython>=4.0.0->ipykernel->jupyter->d2l==0.17.0) (4.8.0)\n",
      "Requirement already satisfied: six>=1.9.0 in /usr/local/lib/python3.7/dist-packages (from prompt-toolkit<2.0.0,>=1.0.4->ipython>=4.0.0->ipykernel->jupyter->d2l==0.17.0) (1.15.0)\n",
      "Requirement already satisfied: wcwidth in /usr/local/lib/python3.7/dist-packages (from prompt-toolkit<2.0.0,>=1.0.4->ipython>=4.0.0->ipykernel->jupyter->d2l==0.17.0) (0.2.5)\n",
      "Requirement already satisfied: ipython-genutils~=0.2.0 in /usr/local/lib/python3.7/dist-packages (from ipywidgets->jupyter->d2l==0.17.0) (0.2.0)\n",
      "Requirement already satisfied: widgetsnbextension~=3.5.0 in /usr/local/lib/python3.7/dist-packages (from ipywidgets->jupyter->d2l==0.17.0) (3.5.1)\n",
      "Requirement already satisfied: jupyterlab-widgets>=1.0.0 in /usr/local/lib/python3.7/dist-packages (from ipywidgets->jupyter->d2l==0.17.0) (1.0.2)\n",
      "Requirement already satisfied: nbformat>=4.2.0 in /usr/local/lib/python3.7/dist-packages (from ipywidgets->jupyter->d2l==0.17.0) (5.1.3)\n",
      "Requirement already satisfied: jupyter-core in /usr/local/lib/python3.7/dist-packages (from nbformat>=4.2.0->ipywidgets->jupyter->d2l==0.17.0) (4.8.1)\n",
      "Requirement already satisfied: jsonschema!=2.5.0,>=2.4 in /usr/local/lib/python3.7/dist-packages (from nbformat>=4.2.0->ipywidgets->jupyter->d2l==0.17.0) (2.6.0)\n",
      "Requirement already satisfied: Send2Trash in /usr/local/lib/python3.7/dist-packages (from notebook->jupyter->d2l==0.17.0) (1.8.0)\n",
      "Requirement already satisfied: terminado>=0.8.1 in /usr/local/lib/python3.7/dist-packages (from notebook->jupyter->d2l==0.17.0) (0.12.1)\n",
      "Requirement already satisfied: jinja2 in /usr/local/lib/python3.7/dist-packages (from notebook->jupyter->d2l==0.17.0) (2.11.3)\n",
      "Requirement already satisfied: python-dateutil>=2.1 in /usr/local/lib/python3.7/dist-packages (from jupyter-client->ipykernel->jupyter->d2l==0.17.0) (2.8.2)\n",
      "Requirement already satisfied: pyzmq>=13 in /usr/local/lib/python3.7/dist-packages (from jupyter-client->ipykernel->jupyter->d2l==0.17.0) (22.3.0)\n",
      "Requirement already satisfied: ptyprocess in /usr/local/lib/python3.7/dist-packages (from terminado>=0.8.1->notebook->jupyter->d2l==0.17.0) (0.7.0)\n",
      "Requirement already satisfied: MarkupSafe>=0.23 in /usr/local/lib/python3.7/dist-packages (from jinja2->notebook->jupyter->d2l==0.17.0) (2.0.1)\n",
      "Requirement already satisfied: pyparsing!=2.0.4,!=2.1.2,!=2.1.6,>=2.0.1 in /usr/local/lib/python3.7/dist-packages (from matplotlib->d2l==0.17.0) (2.4.7)\n",
      "Requirement already satisfied: kiwisolver>=1.0.1 in /usr/local/lib/python3.7/dist-packages (from matplotlib->d2l==0.17.0) (1.3.2)\n",
      "Requirement already satisfied: cycler>=0.10 in /usr/local/lib/python3.7/dist-packages (from matplotlib->d2l==0.17.0) (0.10.0)\n",
      "Requirement already satisfied: bleach in /usr/local/lib/python3.7/dist-packages (from nbconvert->jupyter->d2l==0.17.0) (4.1.0)\n",
      "Requirement already satisfied: testpath in /usr/local/lib/python3.7/dist-packages (from nbconvert->jupyter->d2l==0.17.0) (0.5.0)\n",
      "Requirement already satisfied: pandocfilters>=1.4.1 in /usr/local/lib/python3.7/dist-packages (from nbconvert->jupyter->d2l==0.17.0) (1.5.0)\n",
      "Requirement already satisfied: defusedxml in /usr/local/lib/python3.7/dist-packages (from nbconvert->jupyter->d2l==0.17.0) (0.7.1)\n",
      "Requirement already satisfied: mistune<2,>=0.8.1 in /usr/local/lib/python3.7/dist-packages (from nbconvert->jupyter->d2l==0.17.0) (0.8.4)\n",
      "Requirement already satisfied: entrypoints>=0.2.2 in /usr/local/lib/python3.7/dist-packages (from nbconvert->jupyter->d2l==0.17.0) (0.3)\n",
      "Requirement already satisfied: webencodings in /usr/local/lib/python3.7/dist-packages (from bleach->nbconvert->jupyter->d2l==0.17.0) (0.5.1)\n",
      "Requirement already satisfied: packaging in /usr/local/lib/python3.7/dist-packages (from bleach->nbconvert->jupyter->d2l==0.17.0) (21.0)\n",
      "Requirement already satisfied: pytz>=2017.2 in /usr/local/lib/python3.7/dist-packages (from pandas->d2l==0.17.0) (2018.9)\n",
      "Requirement already satisfied: qtpy in /usr/local/lib/python3.7/dist-packages (from qtconsole->jupyter->d2l==0.17.0) (1.11.2)\n",
      "Requirement already satisfied: chardet<4,>=3.0.2 in /usr/local/lib/python3.7/dist-packages (from requests->d2l==0.17.0) (3.0.4)\n",
      "Requirement already satisfied: urllib3!=1.25.0,!=1.25.1,<1.26,>=1.21.1 in /usr/local/lib/python3.7/dist-packages (from requests->d2l==0.17.0) (1.24.3)\n",
      "Requirement already satisfied: certifi>=2017.4.17 in /usr/local/lib/python3.7/dist-packages (from requests->d2l==0.17.0) (2021.5.30)\n",
      "Requirement already satisfied: idna<3,>=2.5 in /usr/local/lib/python3.7/dist-packages (from requests->d2l==0.17.0) (2.10)\n",
      "Installing collected packages: d2l\n",
      "Successfully installed d2l-0.17.0\n"
     ]
    }
   ],
   "source": [
    "!pip install d2l==0.17.0"
   ]
  },
  {
   "cell_type": "markdown",
   "metadata": {
    "id": "9j0Eok5fWgzR",
    "origin_pos": 0
   },
   "source": [
    "# Sentiment Analysis: Using Recurrent Neural Networks\n",
    "\n",
    "Like word similarity and analogy tasks,\n",
    "we can also apply pretrained word vectors\n",
    "to sentiment analysis.\n",
    "We will do this on movie reviews, using the [IMDb dataset](http://ai.stanford.edu/~amaas/data/sentiment/) with text representations\n",
    "that were pretrained on large-scale corpora (GloVe model).\n",
    "We feed these token representations\n",
    "into a multilayer bidirectional RNN\n",
    "to obtain the text sequence representation,\n",
    "which will be transformed into \n",
    "sentiment analysis outputs :cite:`Maas.Daly.Pham.ea.2011`.\n",
    "\n",
    "![This section feeds pretrained GloVe to an RNN-based architecture for sentiment analysis.](https://github.com/d2l-ai/d2l-pytorch-colab/blob/master/img/nlp-map-sa-rnn.svg?raw=1)\n"
   ]
  },
  {
   "cell_type": "code",
   "execution_count": 3,
   "metadata": {
    "executionInfo": {
     "elapsed": 53123,
     "status": "ok",
     "timestamp": 1634002357783,
     "user": {
      "displayName": "James Yang",
      "photoUrl": "https://lh3.googleusercontent.com/a/default-user=s64",
      "userId": "05522971510241172115"
     },
     "user_tz": 240
    },
    "id": "8lzD81ptWgzS",
    "origin_pos": 2,
    "tab": [
     "pytorch"
    ]
   },
   "outputs": [],
   "source": [
    "import torch\n",
    "from torch import nn\n",
    "from d2l import torch as d2l\n",
    "\n",
    "batch_size = 64\n",
    "train_iter, test_iter, vocab = d2l.load_data_imdb(batch_size)"
   ]
  },
  {
   "cell_type": "code",
   "execution_count": 35,
   "metadata": {
    "colab": {
     "base_uri": "https://localhost:8080/"
    },
    "executionInfo": {
     "elapsed": 101,
     "status": "ok",
     "timestamp": 1634004013235,
     "user": {
      "displayName": "James Yang",
      "photoUrl": "https://lh3.googleusercontent.com/a/default-user=s64",
      "userId": "05522971510241172115"
     },
     "user_tz": 240
    },
    "id": "aLsim8v5Jvx4",
    "outputId": "e571cbaa-2252-4714-bfed-ee199aae541d"
   },
   "outputs": [
    {
     "data": {
      "text/plain": [
       "49346"
      ]
     },
     "execution_count": 35,
     "metadata": {},
     "output_type": "execute_result"
    }
   ],
   "source": [
    "len(vocab)"
   ]
  },
  {
   "cell_type": "code",
   "execution_count": 32,
   "metadata": {
    "colab": {
     "base_uri": "https://localhost:8080/"
    },
    "executionInfo": {
     "elapsed": 83,
     "status": "ok",
     "timestamp": 1634003845272,
     "user": {
      "displayName": "James Yang",
      "photoUrl": "https://lh3.googleusercontent.com/a/default-user=s64",
      "userId": "05522971510241172115"
     },
     "user_tz": 240
    },
    "id": "3eoyBrnjI3MD",
    "outputId": "d956c0e5-5219-413c-9a81-aba95436e640"
   },
   "outputs": [
    {
     "name": "stdout",
     "output_type": "stream",
     "text": [
      "tensor([[ 122,    1,  168,  ...,    0,    0,    0],\n",
      "        [   8,  458, 6007,  ...,    0,    0,    0],\n",
      "        [1299,   65, 9961,  ...,    0,    0,    0],\n",
      "        ...,\n",
      "        [ 871,  202, 1765,  ...,   44,   16,    1],\n",
      "        [   8,  231,    2,  ...,    0,    0,    0],\n",
      "        [   0, 7543,    2,  ...,    0,    0,    0]])\n",
      "tensor([0, 0, 0, 0, 1, 0, 0, 0, 0, 1, 0, 0, 1, 1, 0, 0, 1, 0, 0, 1, 1, 1, 1, 1,\n",
      "        0, 1, 0, 1, 0, 1, 0, 0, 1, 0, 1, 0, 1, 1, 1, 0, 0, 0, 0, 0, 1, 1, 0, 1,\n",
      "        0, 1, 1, 0, 0, 0, 0, 1, 0, 1, 1, 1, 0, 1, 1, 1])\n"
     ]
    }
   ],
   "source": [
    "for batch in train_iter:\n",
    "  print (batch[0])\n",
    "  print (batch[1])\n",
    "  break"
   ]
  },
  {
   "cell_type": "code",
   "execution_count": 34,
   "metadata": {
    "colab": {
     "base_uri": "https://localhost:8080/",
     "height": 35
    },
    "executionInfo": {
     "elapsed": 81,
     "status": "ok",
     "timestamp": 1634004007414,
     "user": {
      "displayName": "James Yang",
      "photoUrl": "https://lh3.googleusercontent.com/a/default-user=s64",
      "userId": "05522971510241172115"
     },
     "user_tz": 240
    },
    "id": "Kh87f_KUOm-p",
    "outputId": "fddb5fbd-53a6-404e-b8c0-f52f50fe1dd0"
   },
   "outputs": [
    {
     "data": {
      "application/vnd.google.colaboratory.intrinsic+json": {
       "type": "string"
      },
      "text/plain": [
       "\"It's\""
      ]
     },
     "execution_count": 34,
     "metadata": {},
     "output_type": "execute_result"
    }
   ],
   "source": [
    "vocab.to_tokens(122)"
   ]
  },
  {
   "cell_type": "markdown",
   "metadata": {
    "id": "_FdQp4CSWgzT",
    "origin_pos": 3
   },
   "source": [
    "## Representing Single Text with RNNs\n",
    "\n",
    "In text classifications tasks,\n",
    "such as sentiment analysis,\n",
    "a varying-length text sequence \n",
    "will be transformed into fixed-length categories.\n",
    "In the following `BiRNN` class,\n",
    "while each token of a text sequence\n",
    "gets its individual\n",
    "pretrained GloVe\n",
    "representation via the embedding layer\n",
    "(`self.embedding`),\n",
    "the entire sequence\n",
    "is encoded by a bidirectional RNN (`self.encoder`).\n",
    "More concretely,\n",
    "the hidden states (at the last layer)\n",
    "of the bidirectional LSTM\n",
    "at both the initial and final time steps\n",
    "are concatenated \n",
    "as the representation of the text sequence.\n",
    "This single text representation\n",
    "is then transformed into output categories\n",
    "by a fully-connected layer (`self.decoder`)\n",
    "with two outputs (\"positive\" and \"negative\").\n"
   ]
  },
  {
   "cell_type": "markdown",
   "metadata": {
    "id": "oMK1hOORNE2H"
   },
   "source": [
    "\n",
    "## Recall Bidirectional RNN (We use LSTM in this example)"
   ]
  },
  {
   "cell_type": "markdown",
   "metadata": {
    "id": "dkDI-8HyNCDU"
   },
   "source": [
    "![image.png](data:image/png;base64,iVBORw0KGgoAAAANSUhEUgAAAZkAAADmCAYAAAAHpvhuAAAgAElEQVR4AexdBXjUSBsOroe7He6ux+F22OHO4e5e3N1dftyLW3F31xb3FigOFSj1vv/zpqTNZrPWbsu2ZJ5nN8lkMvJmMt/MZyNACxoCGgIaAhoCGgIRhIAQQflq2WoIaAhoCGgIaAgg0ojMrVu3sHXrVg1yDQENAQMInDx5EocOHTJwV4vWEIiaCEQakTlx4gRy5MiBHz9+RE2ktFprCEQwAitWrEDp0qUjuBQtew2ByEUg0oiMr68v8ubNi927d0duC7XSbAyBAHx18whDnYLg7uYehueiziPv3r1D5syZcfv27ahT6UisqZeHG374B1lcop+XJ775BFr8XJR9INAHX92/WV79AF+4eX63/DkTT0QakWE9Zs2aheLFi5uoknY72iIQ5IH5YwZg7cEbJpv447MzTp44DVc3759pg3Bi81wMnbYGfiafjroJunfvjnr16kXdBkRQzR+c2owBw2fivZcpYhGE25fO4KrTs5CaeLy5g0F9+uLy8y8hcdH25Lsrxg/ui72XQttvqK1fXz/CiVMX8PlHQHASHzcsGj8Qyx2uG3okTPGRSmR8fHxQsmRJDBgwIEyV1R6KyggEYeW47ug2bhV8TExGnW/uQ8N6jTBiWD+UKlMFxx5+EBse5PcF47s1wqC5O6IyEEbr/unTJ2TNmhULFy40mu53uvnW8RDq1WuGy88/G292gBum9P0PHfrZoWmNv9Bt3JqQ9I5HVqJ6nf/w+LN/SFz0O/mOKb1aYuSSfTBFiolHvQYtMXxAZ5SuWB933nqJcLi73EKzmtWx+fxzq8ETqUSGtfbw8EDRokUxYsQIBAT8pKBWa46Wka0i4OiwAGWrt8YnU994kAdaFU+HBiM24uqOyRCEWNhwyTmkWQFu91GjdEnYX34VEhfdTp48eSLKLxcsWBDdmmZ5e3zeo90/f2Pe/rsmn722ZSwSpCoCR+fHKJc2Nko3H6PzzLrRbVC76zSTA7DOQ1Ho4tjyYajSbDCktb/Bqnu5oEKmxOi3/BQcZnWAECMVTjwLZWE/O7USxf+uhxfuJmaDBgvQvWE2kXn+/DmmT5+OoUOHYtiwYRb9+MyUKVPE2dny5csxcOBACIIgss42bNgAP7/ozADRBfy3vPL7iMZlC2Lqzjsmm+/58CASCwKm7LiF75+ccfm6ox577PCCPihSoyuszz02WT2jCShLmThxYpi+EX5T/L5IWFauXIn27duL30jVqlVx4MABo+VG55vHlg5E8X+6wsdkI4Mw7N88SF2mDXwC/XHn6mU4f9KVSwS5PUS5/Lmx4WL0m6AEfrmPCoXyYfPVdyaRcj61DIIQB5svu+LLq4e4eucxdMlJIAY3Ko12E7eYzMucBGYTmbNnz6J69eqoXLlymH41atTAv//+iwYNGqBJkybiBxQ7dmyR4GhExpxXFXXT3HOYhawFquKNr+k23N4xBYKQCIefGk4c9Pk2imXPis1X3prOMBJT7NixA1WqVAnT98Hv6p9//hG/kUaNGqFu3briN5IkSRJxghaJzbCdogI+o2GJHBix7pIZdfqMipnjo3qvRUbTLupdG+X/m6AYVI0+EiVuHlvcF3nKtYY5urv7Z3WBkCg77hrRo3m4fw6y5q8M52AuWrgwMJvIhKsUxcMdO3bE33//jbt3TS+BFY9ql1EQgUltyqFix6lGa/75zVOcP3Ma4zpVgxAnM1bvP4WLV+/gu+oiNxB9axdGo6GrjOYZlW/WrFlTnJC9fv06KjcjXHV/f2MLMmfIiwuvjUw4fL/h9tWLOL79f0gdR0DdHtNw5sw5PHNVF/I/OboA6bOVwkM3U1KLcFU9kh/2RdeqedFi7Caj5bo+v4+zp0+je51CiJOmGHaeOoMrt+7DVw0Kj3sonjUjFh8zrUBgtFAg8owxpYr06tULf/31l2YvIwES3Y+BH/BP/gwYuPSE0Zbev7AfE8ePRsksiZEkW2mMHz8O0xeuxftvugt5KZPNo5oie4X2Zs3cpGeiypErfq72f/dwZH53ZCxaH1/Uu4AIj5/na6ycOw09WteEIMRGi97DMG7cJBy59kQVPt/Xl5ErTRqsueCiej8qRgZ63EWRTGkx7+ADo9W/fMge48fYIWfyGMhUrCYmjh+Leau2w1NVTuqLNn/nQIsxG4zmac7NSF3JHDlyBJkyZcLbt7bF5jAHqMhKExioNq2IrNKtX07Qu6vIky4FFh42Z0b0DTWyJUSlHvNNVuTChqFIkaWcVZbzJguLxARLly5F/vz5tUkYgDldqqJgnb5mCerPL+8DIV5Woywg8TV6OaN89hQYuOp8JL7ViC3K7c4upE+VAXudQoX3BksMfI78iQS0n7nXYBLpxoSWpVCs2SjpMuRo6RgVqUSmYsWKmDFjRkhltZNQBN68eSMKjT09PUMjo8GZ5/3DyJQiFTaaIZD0eXEGaeII6Lv4uMmW33GYiaRpCsDxU/Qhyl5eXqLB8q5du0y2/3dIMKRBMfzdepxZTZ3cuhQS566Jj6qzclkWQR9Rt3AatJ+yTxZpO6f+/v54+PAhXr58aXalXhz/H1KmzoYzLobZilJm7y9vRmxBwNx9pkUVC3tXQ64qPaDUAV63bh0cHBykLE0eI43IUDstX758oOX/7xA4YNy4YdrokFh8/PgRDRs2xOHDh6MdNF/uOCBDslSwvxFs62KsgY+OLUMsIRZWnTcth7h3cC6SpcqDa+9UhTbGirHZe3S9VKpUKZutX2RXrF/dQijfdqLpYoPc0LhwShRsMMyMVc9n1CuSDq3HbTedbySkoBnHlStXwBVshw4dxPcfJ04ctGnTxuzSHx9ahJSpsuPcG1MUFjizehgEIRmOPDEt0V/Svyayle+kp93JCXHLli1BzpQ5wWIiQzsXWu5PnjxZXJVwZSL9Jk2ahHnz5oHLKer6jx8/HlOnTsWcOXPQvHlzUfd/9uzZmDBhAjZv3mxO/aJsmgsXLmDUKP2lplqDqE00d+7ckFskyBJ2ErbSkSqy1GJikDCeNm2aqP7Ke0xnzmro9OnTYhlUm5Xy5pF5jRs3LkQpY9OmTeIKS56O53zX/DAYnj17Jr5TvmvmQXX1mTNnwv27N/xenkWWlCmw+vwbMa2xv/1zO0OIlw3X3pueiNzcNQnJ0hbFg69GGPbGCovAe66uriI+xEGOLXHjO6KPMoZr166J74CY8xuh9iY9YvCc798WnWV++fIl5B2rtW3NmmADyKdPn4a0TZ6OmPD7f/AgWH6watUqESumIQ68d/r0GRGfMc1Ko1Sz4SbfVOCne8iXVECL8WYY6Qa8Q418qdBltm1M6Pit0viWJh3yH5WjzA2u59YgZaosOPbUtKL30v41EDPN33A2/YlhTteKyFOrn6om3uPHj1G4cGFxDDJVT4uJDP0rZcuWTQcQOTjkJ5M606NsvHjxDKYj0YnOgQMJbYBMBdpFlC9fXifZuXPnwNmMHFf5udQBiXGyZMl00mXPnh3v37/XyU/tgh+1PE/5ecyYMbFnzx7xsaZNmxpMV6ZMGTHNqVOn9NKkTp0ar99+BPydUSJLKkzZbtpGZkrr4kiUtw6+KNfnKg04urAH0uavbZo9ovJsREfduXMHSZMm1cNEwpi2LwwckGPFimUwHQ2WbS2QjUP/alJblMfatWuLVWbfNNQ29q+DBw+K6chCV+Yxdeo08d76oY2Qs3JHk8aFb29uQ0JBwAwH0ywguD1C8YwpMWm36f4YGdgHBQXhxYsXsLOz08GhZ8+eZhfv7XwC2dKmw6ZLpr57f3SrkB6ZqvbUY4GpFTaobiFU6jpL7ZYYxwkTJ0amZDQWExmCwtnM3r179ToRByY3NzexAuQtcrDr16+fDngFChSAi4sLvn3TNZQy2JIoemPIkCFwcnIyWnu6EEmfPr3espNEmsR848aNOtjxY+QMl+55GJiOM0IOaAULFgRnj8Sf78hU8Pb2hrOzs+h9Qf6Rt2rVSlTMkGyXONMi209OzOgaiB+G/F1z9s4VWdy4ccFVEt99cD180K58LrSZYGqbB3c0KpgCRZuMMIPlAcztUhUlmgw3K605WHBGzX5tjcCPjixQrvTk2CZKlAhXr14VvV6wHLKOqQTTuHFjnXTVqlXDq1evbFL4L33/yklKwoQJcenSpZC28ftnH+7UqZNO2zjxYl/hfYavX7+KExri1LdvX1EWIXlqv7V9ItLnqgBnE8Yfl9cNgxAzJU48Ni34/npvHzKnzYYjZqQ1py8cO3YMR48eNSep0TQ0Upf3FY6bZgf/d6ieLxNGrLtg/BHvZyiZKhbqDl5uPJ149zNqFcqEAcsMa4VyDKFnfXt7e6P5WUxkpNzu3bsnDigSMDFixABncMpAFoqUhkdp9qtMF52u3d3d0adPH1AuYyyQ5ciVn7GZAI1X5fjlzJkz5ENm3v379xfvkz0XlkBLc3n+ajKB48ePg+9XSsdVCgcHZWCHozGiMmwZ3wqFavU2OnsK/OSE3EkEdJq5X/m4/nXQV9QrlhWDVwSzVfQTWBZDgsgVoFr/tSwn3dRkd0mY8UhCrUbIunXrppOuWbNmuhnZ4BUnKPHjx9ept9pgS3MFOQZkpysDPRwwjXJS5ut6FYWyZsP2W5+Uj+hcL+tXCwkyl4OrGSygU8v6I2uJRvhqxmpZpxADFySiEmfBQBKzoumrTo4Tv2tLwvROVVC500yjj3y7fwhJYwqYuPWm0XS8+f3xYeTIlAOHHxtXRBo0aJDINuOE11AIM5HhBynvZFwa37ypX3klkSlbtqyhukSbePLaKdcwFvhScuXKheHDjfOc79+/D84S5R1w8ODBYtacFTO+d+/exooyek/J6uI7Jb9VHjjDlJfPc0kuJKVzdHQU08hlS9I9jydHkD9XEZx/bZhn/ObqZiSOmQhbbpha8gMfb2xBzlwlcfuDdYT+Hz58QKFChfQGOan+YT3SHYwct1SpUomze2V+SiITFVjJXNGQzStvH1fv8kCioWT7cpWmDGS5ZMmSRUUpKBAjW5RDs5HrlI/Irn3RqeKfKN58gizO0KkfetYqii4zg1nBhlJZEs9vj7Z/4Q1KIkP2GQO/f66y+V2RiEtcDGV5L8+sRM78FfHcyLz2xs4piBMvA86/NundDHtmdEbR2j1NuvPhWEf2p9rYL9UxzESGHShBggQhnYydibtfKgOFnfKOqJQ/KNNH9WvOiikU509iCai1iYMyCTPlL6YCfb/JMSTb5fr166hQoYJod2SOoN9QGVTkUAoe5bIkss24DxBXMvLVDF3SywNlS6wjPwr9EITpXWqi5YhQr7hM4+XqiN6d22PPjVc4tawX0haqD3Oc5E7u9A/+G71ev5gwxpDIUIipnEmHMbuQx5QrmTRp0qjKy3r06KHzfqm5ExUCJ1Lyfsn+KGfVctUiv89zrubICpQCV8SJEyeGsj9J912vbUPR4pXxMJgL/zPaDzsWjkL3UUvww/0ZimVIjln7jRsi8sF317agSPGqeGCtZQwgTvAigsh07doVo0eP1sOPk3RVTylBXuhT7y8MWqar/v/hwWl0ad8Bl166Yc2QushdrbeetpiEdcjR+zXqlC6M5SfUDVpD0v1k2f/5558YOXKkPFrn3KpERtIYkZdATRl5R4uORIbsLg7MHCzGjh0rzvA4w+nSpYuoXac2+5g/fz7ol4q8e1Ph8+fP4kxPjmPatGnFQX//fjPYSyYKoLqkPG+2QwqXL18W73G2LZfLUB1d3i4Ks8nKM0RYvd/cQp2KFbDfMXSlcmPbBDHv6et2oOO/FTBt21WpWIPHx6dWo0rt//DSgCcAgw8auRFZRIbvjKxUZSBrVY5/VCEyFy9e1Kn3H3/8Aaq3SqFcuXLi1h5UBpC3b9u2bVISUR7Je8acgK4Y2Q7NBy0OeQaBb1EhjYDMVXtiy4LhqNigp2n2V8BX9GpcHTPM6GOhBZk+i6iVDCeg/N7ofks+mSdWZEtzMqsMH+4eQqXy/+Da61Ah1r6ZHURnmKt27kSDyuWw/pxpo+jNU7qh+YC5Zss7uTrlBMNQsBqRobPLffv2iQJhCqD5oyaKUmsiIokMhaik8pQXWfrjc1QdNiYfUQORM3cCTIE5V3IcRLhfDmd0VHCgo0O+hO/fdX0Gc+aWIUMGs8tbvXq1zofKzta6dWu1KlkcR3Vy+SDAWb2EAxUN+G7Jg6fAX0rHVY1kB0QiSJaeKWHlo7P2aNSsE66/COaxe3u8wpLpYzFm5DCs2HFCVVVS3phXjifQumlLnLin/4HJ01l6HllEJmXKlKJNBPsZvw+qflOBgn1HwpXHqEJkKKDPnTu3Tt2lnW/pc43cDbJ5lAosnHxJgaxY9h32IYPB/yNGdG2OyWsOwi+QSi0BuHxgI4aNGI3Rk+bg6Wfj7J8A7y9YPLo7BkzfYLKPGayDgRsRRWRIXCS/dbSjSZcunQ7OhlYOl3bMQ9P2A/H0fbBilefb+5g5fiRGDRuOLUdMbEYWGIAz2xagecfBeBNKpwy0PDSa8iOOZVQEUAtWIzLyj8TYeUQSGQqhKOegBpulvzx58oAzLrKPzA2c5XP2RnaWFBgnl7NQ+M+PSB7HtBSQsyOZG7hCILGSY8vnDb1Yc/NlOhJD+SqFMydJLlOkSBFwRspA4ikvn7YwDBJbiGqrpsKDCwew71RYthcOxMVDO3DqtvV9TkUWkZFjZ+zcFoiMy/3ruHT7qanXCbJ15G2R5DJbtmwR4znZI3tMLpsh+1UyyuZ3R+/TJoPXW2zeuAXvvxsWMBvKw+P1PWzcus80m8hQBkbiI4rIEFd5UMq2yUkw9O1fObwdx6+bXrHI8xfPvd2wc/NGPLeQnShpxklEUZmv1YgMhT+cyVIGI//VqlVLpxOaRWQC3LBoyjjsv2oZUFSL5jKSLChLf3xOTWNKCZh0zVUTeexcqcgD1VY5c5MH2ppQI0vSNqPQnzNASwW8a9eu1cGSHzeNW00FV8eTGDN+Nt6pTzTEx5UEbOfOnaImFMuguioDLXzlA4pkE0F2D9WoLSHQpuocmfdJwGkEKZcVWKN8ifhKmFH2QD67/PvgOTUupTQ8mkNk/L4+w6Qx43DDWUdYEa5qO9+7go1rVmHupGHIlSYB6g38n8n86AJHXndp4sQ2ZMyYMWSvKHkbuQom8eE3xGf/9z/T5ZisyC9KQCUcTm7DG5SCf+4nJA/nz5/XkYlSLkv3M7YQpD5ARSS1YDUiw5kKl/7KsGjRIp1OaA6ReX/NXnxm/FZ9RQJl/r/qWtIIkmb8Uj24qlEqQEgbUEn4cBZHYbslriM4gHNVIf+geU6NJdodGAvzupeHkLAInA0rd4kW+vK82Y7t27eL5XFAYKBdjNwQTxJkUzPL1velpyU5ibraj2riXMnRvb7afcZR1VuafRvDWn5PSWTI8pDsj+TplCtEc4jM1Q0jxHez944RNpO8EDPOnc4fwOLFy3Fw2ypkTiDg38Gmt1KgLQzZgFLfYX/k4Ef2SefOnUNKHTNmTEgapqWxMmUzPFd+QyEP2cAJbX8M9QnGUw7Jn7E0ZHeZCqaIzKNHj0QFCQlnHsNqtmCqLpbep80k60NCqBasSmSUgysL5ExNDow5RObA3C6ie5E7+jJStTZEehz5x2Qp0VpZHjgIU9NEuYwlu4lCfmmlxIHGUiIjCYepYEADTjmmJHiGw3fUy5MQJdsGW1EbSkdtNcpepHypxcLVjeTBQXpOriTA1Sutfqn2zFWWLQfixlUEBzv5jzInzkYplKfCA4mR/D7P+RxZAmoEwliblURGIsrKZ8KiXTa9w99IlKMmIuQT+fYUeZMIqGsGkWFbpA3W2HcosGZ75Fb9TMPBWupbPNIAlT+ytW05UOZKLTpln+A17dwop+SP52pp2L/MWXGYIjIkxGTNyzGk4oUtBMriWS+bJzKBft/x+L4THJ3uolu17Iifoyou3XHCo+evjRrxyUGmIJXUnR3a0h+fo+2PJPCW56s8Z1qCyk4lD5THKAVyXGXww6MDTCmwDPJUaSFvTqCsg+VxNs1AH0/yzkbioFyqenx8A8c7jrh9Yj1SxBDQfOgSODk64e0XXQUEqXyyjPjBS/lKPHSlLEnitUvpSDyTJ09ukddYqUy1o9fXtzh78jiOHzuCq46WsUvV8jMnjlpyxYoVs1obpDKtTWR8v3/Ffac7cLpzGVVyJECO6t3h6OSI569NOx+V6mTOMeiDE/JYQGSU3Ar2R654pUkVy+TEi/IXqd9wkkZCZNSezM8Lty6fAY2BT567BlPimA/OD3Hi+DEcPXIcj14ZN+A0Bwdz0pBVxu3kwxtMERmuhjiOSPiR4NB3oRTevXiA48eO4+iRY3j8xjqeK6S8TR1pM8d6SYpAyvRhXslwP3OlMaZaIaTwEjA8GjLG/PH5KeZOGIkRA7siRRwB+co3wLChQzF7xQ4YsS/SaQ8HYbpXIX/d0h81qsg2MUeuIBEZflzyQHnM+vW69hv0P8V2k+jJA2VVHNhMBWql0RqdP0lDjbIn+QfL/KlCLCeQjqd2YpidHdrWpcV1fLTuPRRDh43AoSuGhblKtg3zVdrxUEU1RYoUOu9UzcrfVLsM3X/78BKGd2uIWIKAWgOCHXAaSmut+IgS/FO9nBhKP0PGmErhuSGL//dPr2DCcDsM7NJUxKdy404YajcUq3adshYUYj6WEhnO9pV+CtVYfvTHJWEhHfktGQqBnm+xeKodsicXkDCfaRuqm8fs0aJGsAbk9J1hUS4xVBPD8REl+KcnAXlYsmSJDnYcO+TmAlcPbULzKsHs9PkHzfDhJs88nOc0xyABpIxNLYSZyHAJSD9VUmfhUc1ISDnrNuVWxuOeg+jsbtaBUCqtVnG1OM6W6LaDbCtLf3zOXH9qkgEZO5g8UI4ht3yVWARqszWqbpJFY8wdA/OWfL+dOaPrQoXbAkirDekdqPkQWt6/OmJnqAhzOPd0WijlxSP18SXCJm+n0u5B0jKTpwnP+Y9HDkggCJi+K3JkchFFZGihLceTch81OxlJvielJX/fWHDcMQmCkARHn5rhR8VYRgbuWUpkOLmhOyKp/jwqJ1ssSkl02b+UrGX9Krmjxp/xUa6zcZcp0nNnVgyEEDMtzr22jjcIKV9DR2sRGSURkU80ON7IuQzEl/aHynB8QXcI8bPg2tuI6RfK8qRrYkCDTEMyS4uJDAdFGl1yeSe3AGfDObOXhHjUpKKMhrYc8s5HWQRdmRjS5Dm0oJu4x/uVd5ELlASYuUeqFJLIUv2XgTYDJBxSoOM8yk4kFpcULx3J46dqs9x4TbpHC36y7iTVQPp/os2RRJBIEEnA+JHKsaV3bJZLtmFwcEP9PIlRtLkuW08qR3lkZybhk/KU2zPI08rZI2SN0LWENcPBeT0gxE6H868iZ6CwNpHhx0aPDtzqQcKSR872qUwhbUhFgkPsuAqVp+OAzRm+msEdcZ7RuTziZamK90pt3kB/vHn5FI8ePhTlAJwIGv49wpPnLvBR5gHAUiLDOkkrdraDLFTaVSkD+y0VAqS2Gupf8ue+Ou1DYrKmN6prLsnT8nx4/bxIUqgp1JnCytThv7YGkeH3Tja7hIt05BbclBFy1SLF8cj+oT8hDkC/mjmRpsR/kdZ2Cb0aNWqAP0PBYiLDQZGdSN5o+TmFm1zGKWfF8jQ8V69UIOzq5EHKEi3x3bQjYUNtirR4rlxIALZu3SoaolLgSfYS+bQUmkvu8tUqRGM8Emk1S2fOApV4EXNpcOKeHMr78muqRzP4OJ9DqlgC+i817ElVWTfKiaS8DO3QyEmGlIZsPEsF4soyldfDGnCgaA7TWzApnwzbtbWJjORTTsJIeaSWIIOcWCvT8FrVXUnQF9TOkQAl20zWb6zvZ4zt3hjlK1YS7bDIxjT0q1SxAv5tOwAvVfwfhoXISHJD1lupECOvqNzjNL8bU+HkykEQhJQ462rGDqjeL1AqdUz803+ZqWytdt8aRIZajcr3zw3M1LaLqFy5csjEVt6IIM+nKJZcwL/Ddc0n5Gki4pycDmpNSmYOamVYTGQ4Y+eyl3YU1CqQ/ygAorCT1u6chfGaA608DdXd2LlUebHfnqFE6tioMyB4UydWOCgwwOpWumpAhDWOWlnkSdapUweceXDgID7SqsNQvsSoaNGiqgMJV0dU76T1NLHjYM88JTsbqjNSAE8sldhypkxBKcP1HZSHJcaeu6Eek03ViwSEbDeWrz9bCm4N607iyHRKWZNaez+/csL/5s/C2LETsP/SYyDIBw6b/odpM2Zj76kb8JVPKLxfoEyaWKg3ZDHuXzuJ+bNnYMzYCTh0KeJsAkhkKMvj6sMagStCvju+N/n74TnfD1fyDLT857eg9o3w/ap5hfZ6egzJBQFDV4WyTwNlHnD5bgICA0X5HNlYxn5MqxbCQmTI9mJ72SeM4Sj1XbbbHJ97E1sWR4rCjeH08D5WL52PiePGYPnWw/ihQnM+3NiOhDFiY6r9WZw7uBUzp03G+Clz4OgS2v/V2hueOE4ELNn7Ra0ssr7JLiN3hJqO9AbCwZurQWpvknVGuR37hCGWlOul9YgtxMX83edx2sEeM6ZOwoSp83DvdYToH4Y0gxpl5GZIHKyQG7ITi4mM7Fmrn765ugUJhRiYdSDY2Z37s4uYs9Q+0ma04WkQNc3k8hhz8mLHMsbLNCcPY2nmd6+IeH9WgcSiPbxhCfZdslzWZawMU/fe3TuN3t17Y9eJS7h+eivKFimIBi07YJm9AzZN7w5BSIg9t0MlRp9u7kCSODFRtGoTzPnfWly56YiTGyYjefKM2HnDuD2QqboYuk8iQ20/azvINFReeOIvbKDTxGQ48CB4CfL4/C4stdd1ihie/MVnP91H3qQC/rXTdWga7nwtzcDvLWrlToYUWYph2OS5OHrhKhxvHEWxjMnRY7a+J+WjywYglhAX9dr1xarNe3Db6S4WDGyA1HwnQY4AACAASURBVHmq45l7xKyLyb0wbkJgaaPDln7/3J6IESsuGrbvh7X2e3HHyQkzetZB+oK14RyBbCG2n6srY8GmiMz1bfyAUuAaJx6Bbpg0sBs2nlTz6musSZF/jysM2rGoCcmN1YbpKVfhFsfWD4HoXDYtctQO3hbg7c0D6Np7BJzdI1HW5f0Bo/t0xUHHdz+b54la2WMgdblgD84n/jcEpcv9C0fXUEdJR5cNFFkHPWbtCoXky22kjyeg7yIrD6Y/SyC7j7IsQyu30Ir8+rMNoxpASFoStPP3//IE/bt3w+kH1vXlFuB6A5liCajSS1d7MrJb7/bgCFLFFFCoTh98khkSdymbCblrKjf1CsL4FiUgxEuF9SdDV73PTtEYPD52PYgYtV6uNqlp+2tDEEY0KQQhfnrYXwjVHn2wd6bY9gMPjLj6CEfFpU0XJc6Joaxsish4vLqBun+XQN9xszFx1GAssDdflmCogZERTx680mbG3HLJlqJgz7SWjbk5hqY7sXosSpStiXnz52HAADtceRI5tgNSDQI93uDYiQshdk4/Xl1AxjgCei2RiEWQnqfXkY0LIEHOf/BVxslxPrcWcahYclRSaJBK+P2Oztd3oWzxUhg3Zz5GDhqAraetw+Ijkvcv7MOwIYPQsVU9ZEybFjkK/42efftjzNSlePtD9kIiCfbza7klcVLsuy9znfP9OUqmjYPa/RWuaLxd8Fe62Pirna7R8Z5pbSAkyo07HyNxchVJ+IQU4/UcJVMIqNhtfkgUTzaNbQEhSX7cdYuYd0fN17Zt2+qUqXZhU0SGFfTzfIej+x1w89FrtfraZNzixYvB3f3CGsjTlTYiC2sehp5zvn8VDodO4KMpSzZDGVgx3nE3d0lNgJ03Dcy8fZzxV9rYqNZbdwa9bkR9CEkK4qGHCiPeivWLKlm5v32K/Q4H8NhVNvhaofLfvn7Ao8eP8fylCz5//YqP713x9Mljg1poVijSaBaTW5dEolw18UX22p3PrUZsIQYWHtVl+368vUc0fZi8U050f6B9mXTIWrUHojGJwfsrmxCbas0Ocq7Pd7QslgK5ag/Um8gZBd3MmydOnBCVnriaMRVsjsiYqrAt3qd7B0mVOSz14yqGfp7ozl9uUBmWvGz5maX9ayJO6pJ4EWJd64uXL16GCP4/3dotDhQTtsnsY/w+oHq2BCjdZorYtDfOL+HhKxt1bLnBWt3CjoDvB1TNlhBl2k7VyWNBjyqIk/4vcHPHb5/e4O3nYGXlk8v6QIiVFmedQ5WXPZ4cFb1dDFlD9yv+ePnyVciqWifTKH7hMLcbhFgZcMk1VO709V6w6vfozXTv74cXL19ZTYGKih3UEjSm4CGHVCMycjR+4TnlOvQYYI7GzS+spkVFe7y6Dbt+vXHYkRuz+aJ2zvjIWTd0W4TXV3eg/+gF8P65mj+2tA+EmOlw1iVURvPi7CrEFmJi+bl3wI8XGNBvBFylByyqjZY4KiHg/vhIsBbd+lD/XAEez1AyTUzUHhSskDB/VH8ccORMOgijGxdGkvz1dDYv2z7pPwh/5MKTH8CHq9swZOLyaElk7P7NjWRFW+h4RtkwqgmEpAXhHAC8vrgZQ6ettRqRoYakmp9KQ/1LIzKGkNHiw43Amf/1FYX4q88+x5UDK1AgQ2rkq9EVnn5+ePXgPPp264FTdyVXFP7oXy0L4uepDw8ZC/nallEQYmXC7fdfsXmWHeZuORvuemkZ2D4Cp5b0giAkwvEnofs7ebteQoYYAibudYTTyY3oO3o+KCoK+vYCBf8QUKHrAp2GzerwN1IUaYIvX15jdJ8eOHQn6rDgdRpi5CLI8yFyxxX0bIOmtCqCVGU6wv3jKwzv3QMn70nKN0Yyi6BbGpGJIGC1bAFP17sYb9cPw0aMwLTFm+Hq6oI5o/qh3+DBGD5yHE7obEDmjUk9W2LkEgcd6Pw8X2PykO7o0bMP5q/dG7Lq0UmkXUQ7BE6umYQmXUZCRwwX5ItdyyaiXZfuGDN1IV66BaucBXx5gvaN6sL+gu5WIx8enUfvTu3Qa+BQbD9+M9phxAYFfnBCq4b1seuK7mZ+b++dRq+O7dB7wHDsOnXnl7ZdIzK/FP7fo3APd12zcg83N4vZFt+/h7LQfg/UtFYaQsDXK1TuYihNaHwgvLxDZRWh8b/DWQC8fH592zUi8zv0Na2NGgIaAhoCvwgBjcj8IuC1YjUENAQ0BH4HBDQi8zu8Za2NGgIaAhoCvwgBjcj8IuC1YjUENAQ0BH4HBDQi8zu8Za2NGgIaAhoCvwgBjcj8IuC1YjUENAQ0BH4HBMJFZLg3CXf2M7THwe8AoNZGDQElAtxP5td75lXWSrvWEPg1CISLyFy+fFnc7MlSF/e/pqlaqRoCkYMAN7GrVatW5BSmlaIhYOMIhIvIDBgwAC1atLDxJmrVszUE5Ds5Gq1bUKDV/C0ZLcfKN7n98Ny5c62c6++aXRACZG6GjKEQEPD7OU4N8A8wBknIvSDZ7qkhkZF0EmYi8/nzZ2TKlEnc0z6S6qoVE+URCMLeVbOw/sBV81oS4IG1cydj35Xn5qW3gVSnT58Wdzs1xwW6DVTXpqvwzukEJsxYis9mOnu4d3obpi7cDD+bbpWVKufrhkVTJ+DUPfN2i/X5+BzTJ0zE3XchLtCtVBHT2YSZyNSvXx9t2rQxXYKWQkPgJwJH10xE8+5j8c5T2t0jCAfXz0Hzhv+ifIU6OKrixO/1neOoX+tfHHX6YPM40oN2rly5sHDhQpuvq61X0NP5Klo2bIz9V0MnGG/vnkXfTq1RrWIFDJ6zVa8J/t8/Y3LvFhgwa5vevegV4YO5du0xeLY9vKSFjO8XLJ00GPVr10C1Jj3wUu5lVmx8EC7unI/ajbvgpWfkrvgsJjIU9vfq1Qtly5bVBP7Rq+dGaGveXN+F8hXr4qF8ByoE4Z3LM4xtUw6CkBqXuUmISnDcOxtlqv8HV/XbKk9EftTbt29RpUoVdO3aNfILj24lBrijT+MqmLT5sk7LvD0+4eKexYgpCOg0+6DOvZCLby/RoHwprDjxKCQqup2cXDkS1VoMhs4CL9AXLx/fRu28fyBRvgZwk4iPovFrR/6H+r1mRshGZoqiQi7NJjI/fvzAqVOnULVqVaRKlUrcE/3+/fvgHtdUADh79qzIOjt37pzZx/Pnz+Phw4cg4dJCdEbACz1ql8TAperbaQ+tnx9pSrbR/Wh04PBDn39LoevMPTqxtnDh7u6OnTt3iiuYEiVKwMnJSfzxu+BmdpZ8D0zL74jPOTs720LzfkkdLqwfjaJV20HNDebjw3MgCImx6w73KFIPN7ZNRP6yTfExGvLN/D45oUKhgthxW2VHSv93+CtDHNQeaGSX3m9PUalQPqw5q+uxWh1J68SaTWS4SU3mzJnF/UEyZsyIChUqIF++fOIvZ86cyJo1K7Jly2b2T0pPIemXL1+s0xotF5tE4NXFtcieuwwe6C3hgaDvz1A8pYB/h603Wvf7+2Yga4GqkO1nZjR9ZN3ctm0b4saNK34XhQoVQunSpcVvIm/evMiePXuYvoscOXKIO6VGVhtsqpxANzT9Kw+Grj6vWq0lvauLO2O+kTiuaqn8XFGtYFbM2OOkdjdKxznM6oqC1bupyp3e39iC+NyG+dADo21cbdcYZZoMjbTVjNlEJigoCK9evQL3o0+XLh3OnDkDPz8/fPv2DZzN0TbA0p+bmxu4QtJC9EZgYa+aKNVshGoj315ahzhCXKw4+RCvnt7DrbtP1DXKvj1EqawZsUixt7tqppEYye2yuXqhynLBggXx5s0bcDttfhfs35Z+E0zP7+l3tT37cGMrMmfOiwtvVVzUB7mjUeEUKN16Er67v8PNGzfx0VMlHYC53WvgrxajI7EnREZR39CiTA50n3NAtbCDc7ogZpLcuPHKEw+dbuHBC2lDQN3k/OYyZSmEGx/UsdNNHf4rs4mMvCgKNqlZ9vx5qFBOfl871xAIRcAdDYplQY+56h+Gw+zuiBkvCboMHoc5s2dg/JBuaNrRDq++KT8Af3SrkgsNh68NzdqGzsjybd++Pf7++2/4+yvrbkMVtfGq7JvVBVmKN8I3lXp6v7mMHIkEFK3dDjNmzMa0qZPQqF5DbD51Xy/1lXUjkC53JbgE72umdz8qRvi9Podc6dNj46X3KtUPwPAmRZEobV4MnzQds2ZMR9/2zdB7wgr9jf7cH6J4pjSYvf+eSj7WjwoTkWE1+vfvj/Lly4MzOS1oCBhE4PMtFMiQAnMc1ASxQRjWqBBiJcmCtUdv/MziK/7JlQSNRuizz2Z2rYSCtQcbLMoWbpDI8NvQQtgQmNq+LIo0HK768F2H2aLQv9GAefj0PXjc2TGhFf7IWgEvv+ka07y5sgapUmbH6WfRh1Py/PhypEmTExffq0xifjijYqY4SFWgBi48CF7B+Lw8gfTx42PugbsKPN3QuGh6tJm2WxEfMZdhJjI+Pj4iv5k8aS2EHwHOhDdt2iSyWcKfm+3k4PXwKDKnSIn1l1WW7l7PUTy5gBr9l+lUeEDNP/FH0ZZQKpOtGdEEWUq3gi1PTsk6S5MmDZ4+farTJu3CHAQC0ad6blTqpm7IurRfLcRKVRgvZfIYpx1TIAixsf2qbv9ye3wA6ZOlw/bruvHm1CKy0nDFa4nS06VN45AyYzE8UlnmfbixBfEEAVN3y7Za9nFGyaQCqvXV/b4AH3Stmh3/9PmfTlMputi6dSus7cElzESGtZszZw4aNWqkU1HtIhgBrvA+fjSsAaPEid4T6I4kurFavtxxQIZkqbDlpr6dy9tLGxFbEDDXQcbuCPyI2tnjIUWpNnpEZtO4VshYtCHcleDZ2HXz5s0xefJkG6tVVKiOHzqXz4YafRfrVzbQE82KJUeeerqrnJ1T2otEZsc1XWLi+ew4MidLhXUXXurn9QtiKNOmjO7q1atYsmQJunfvLsrwLLGpOr3aDikyl8YLlcXZgbk9IMRJj0tvQlXqvj87gZQxBNQeuFzRYn/0rpkHlTvrEnOOWevWrUOPHj1EuaLioTBfWkxkuIK5dOmSqGa5atUqUZvs6NGjIeqaV65cAQGlxpik1kxVZfmP8XfvKpdwYW6DTT7o6OiICRMmmFW3ESNGoFu3biFpKfwlRnLMpHPGU3WcQYkx71H9le/IVKCKrLEyPnwIJgp8T2rpGHfjRjCLS1lfquKyj/j4B+DHkxPInCIF1l3SHQRYv0MLe0OIkxEX3oQu/789PoKkgoA6g5QfBrB6RGP8Wco2VzIcQIgJB5FBgwahVKlSuHDhgvhjPPsDg4uLiyqefL9MZ4uqy5zZSqrYUj+UjqwzV28M7DO8lu5JR0k1m/2E4fr162J+0n0+8/oNLdeD0LdGHlTsOkdMJ//z+3gdOeIK6DJPLtsLQJ/qWSGkKImnnrrsMrdHwSuZbQriI88zMs8fPXqElClTilqIgiCEHMeNG2d2NS5tHoeUGYriod5KJghjmhdD0gKN4SHL7Zr9eLGcqbtuyWJ56oMuVbiSUa5wgpOxTta097KYyFB7JnHixCEgyQHjeerUqcUl4MGDBw2mYbrq1asrGh69Lsn64ozFVDh27BgKFCgAD4/Q7nH8+HGj2DVs2FDM9tChQ3rpEiVKBFdX064mRo8erfes/F1u3rxZLKNatWoG01F1neHIkSN6aWLFioWXr94B3k9RKGNKzNqrr1ZpP7El/shSBe9l48PuqW0hCMlx8L6+HcCMzhVQ+N+hYpm29kd3MhJ+MWLECDmX4qjyzzBx4kS9e1IaHvlebC3cu3fPaJ1phMqwYcMGo+lOnAi2k8qSJYteupkzZ4t5zOxcHkXq679jL5djSBMnARYeCe1Hfq/PI5UgoNFIffnd64urkSpVTpx9YXrCFRl4cxJCfCjHlr/vmTNnml28y6mVSJsmB86/DV2tBD8ciD41sqFQU12CNaBmdsTLXBEu32UfGB8I+oqGRdKj/cx9qmVTO7Jo0aIi+141gYWRFhMZqi1TfZnsADlYPGccZycMnLUcPnxYZKfJ01ErbceOHSEzOwvrG2WSc7DgbN5YIGuMaq/LlunOKNghSaT79OmjhzFnyQ8eBH9oUrrkyZPjjz/+AAkDZ418R6YCZ8x8D3wf8vdTs2ZN7N+/P4TVR6PCtWvXgsRLSpc7d26Rd0sjXAa+awcHB9DmiWkmTZoEEkofHzLPvdCkZFZ0naXfoW/vno5UmUrg5U9bXM9nZ5EjaVx0nKIm5/NDp4o50XT0RlNNM+s+VYS5ErOWqjAnCSS2XJFKOPHI90L8JNf/XMkQq+LFi+uk4+DD+JcvbYO9IwfRy8sLJBB0hitvW5IkSbBx40bRIJvpuZI5cOCA6PlAno6Elf2Z/ZWBK7yRI0eKedWtWxfbt28XzSN47+D8nshSrIHOjJzxQd+dUT57aozefE3Mg7PxEU1LIm2RBnD+pq98dGH1UKTPVxWupj+Fn/kZP/Cbo1eH8IZhw4bpYLhgwQKzs/R/ewl5M6bHugv69Vg+uC5yV+0ZktftvbOQIG4S/O+YjBX9826Q2z0UyZQWCw6rKeMEJ9q3b59o5yW9s5CMw3BiMZGRynj8+DHixImjA5jExpHS8Dh9+nSdNH/99Zf8drQ8J7uqd+/eJo1M+YFykDckaCOPlDMK+Qdbo0YNHcw4gPH+6tWrdeLNveCyWJ6/mot6ssxix44dko7GgmqB77ZIkSJ6t/434F+UaqrLSxcT+X3G8A710MFuJrZsXokmNSthwMyN6kZibo4okiUDlp+2jqUyB3MaT1qbPbVr164QnIgrZ+1qGpgtW7bUScf+YuuBxEHeVxIkSKCq4CBNNqS0nLQow/r168W8OImRh8+OO5Htz/w4L5MtSPfP2U9HlVrNYb9lC8b1aYNqDTvj7gf1lcrUDpVQ/r+J0qPhPpJ7QJlpeAM1DyVceFy0aJEFWf5A2wp50G22Pp7fXt1As5pVMH7xeqxbPBVVK1TGsr1XVPN2ObMcGf8sCsfP+sRZ/gA5FTNmzJBHhek8zESGM7N48eKFABYzZswQHr28JlOmUPsjlAf5OxAZ8qiHDtVf8stx4Tmx6Ny5szJa55qrQTl+PP/f/4K1Qsi65AojPKxH5aCYNGlSPXbb+PHBvF15PbhSkYcXL16AbCLOUJXh7bVNyJm7DO4GT2R1bwd64fyRvdiwaSvuPFPT/w9Ofmf7JGQvUhtvZZpFuhlZdvXs2TORyLDe1gxbtmzReV8kMnJWqFQWlQPkeFLYauuBDkDpqUNebyVLmBNN5eSzU6dOek2rXbs26DlET9ElyBOty+fH4BVn9J5hhMv9q9i8cQMOnr6mavUuPuTtgkr5smL+IcMzddXMjUQ2aNAA8+bNM5LCvFtKIrN06VLxQWp2cUylvEqtv0i5H57fCwWrdVJtu6/HO+zfaQ/7HQ549UVFO+BnJkv710P51mOlLA0eOYbRa4XaJMngQyo3wkxkOJByJiN1OM506XpGGZQrmXLlyimTRLtrztJMzVDINuHHyGWpqUANPglnHrn6IYuKBIqyD64qwxrevXunJ5Dcu3evTnZ0hiovn+fDh+uuTCiDYjxnu/rhB/rV/wt9FhzSv2VWjA961CmFAUuOmZXanEQ0JOaqy9rsKbJ+5FhxUFZbqbZq1UonXVRYyRDXtm0pMwudNHJFJg/UlpLf5zlnxOTzS4EeDTh2GJpgXd0yEUUqtdZjmUnPmzpe3jgWRau0g5vxibqpbHTu8xuMiJUMiTQ1ujiYc9JOF0XsM9OmTdMpX7rwd3uIKkULwT6MCg1B7g9RsUghbL1mWm5Ldjjrc/PmTan4MB2tRmQ4YEoaNPKaULAl73TkPUfHwIF+9uzZokYZ29i6dWuMHTtW1LZRay87VsKECUN40WpppDjyg+UyEeJZqVIlEVdrLGfJF5e/I/KNpUCtGHZ+CnfldSDhkc9wODOnfQj592rhw539KP93ddx6p87eUHtGiru1exYq1e+Gz1ZaxTDfiCIylHPJseSAIR9gpTaxf8jTRRUiQ7mfvN4kIPJ3zlU1B0zKGqV05HJI8ju2n9qovLdnjwGHp0GeGNSsKkasPCnBZf7R4zkaVamAzVZWXY4IIsOVP78ZYqFc/TGOMlm1cG7DeFRs0CtMqvyrRrRBKzvTCkksl66R4sePD0uUE9Tqa1Uio+SvskAOglJn4zG6ERkOIBTG0zs1VbrJLiDrg7x+8qKLFSsGqigrw8CBA0VNPHMFz8xDjiPPqfklH+iVZZh7rZx9yt/R4sWLxXKpmp4nT56QOpDwSAaHHGTomZuzc2Ph1MZpaNTeDs5uhpfyyuedbx5G04YtcP6pGq9Nmdr868gkMmr++aIqkaH/wmTJkoX0A3IwJFX29+/fi7I7TrY4wZL3V/nMnN8LVzLGHON+d72JlvXrYdu5UG0yU2/X79sHTOrTGmOWy9WcTT1l3v2IIDLEhwogVKTitzRq1CgdzHhf0sjTraUfFg3vgF4TV+Ob2YoNATi3bR6atBsES/Yt4zcf3n3DrEZkSJWlGUz+/PnBHwWrEqWWOpx8ANMFLvxXnIFzUOeLs/TH58h3NcYPVdaQu4OWKVNGnOVLhpfcuoAfkRR4zbavWbNGihKPXD2oCcl1EskuWBYF7hKOPDZu3FiWIuynFOzL5WscRCjvYeDMlN62GeibS17+ypXBLsU5S2U8WUWmwpFNi7DxoKQhZCK1vwc2LJyBo7eD62IitUW3I4vIcIZKj8xUU5d/F5R9ybG0hZWM99f3eP3etEd09gl53SW5DK3FGU+VZ6WSACdEDLSho3aiUoFF7eV9fnwB0+csN39nzDM7MXfFbnXFEbUCLIiLKCJDcYI8ULtTju1///0nvx16HuCJlXOm4cw9fU2z0EShZ96fn2P29Jl48sUyTgLHRI6N4QlWJTI0QGPnIWuFP54rB0bziIwPjjvswk0jgmC1RlNwRtuRsP5oFKYniFQriOZMPj7iqoyEVT5TpcaYJMyTHiUOnBFIeXP1wUGHHdeSsHz5cp0OyM6olJ+o5efp+gg7dh6Am4FZD11blCxZUidvquOyjVwuDx4c7C9MySqRVi5UDCDv1nwVT4XevlqlxThz0xnMwOANzqI5EbGGiqa8ECW7jPiRtclBlt8EV7zsD2nTptXB2xwiE/DtPfZs3wkXN9N8Q1/v7/DyNvDCZRX+7PoCl8+fwfa181E+35/oOtP0RIErFflASNVmBs54OakkIaGSgFw9nkSVckTKIvmsJZbugWZ2AzOTyVpv/inbuGLFCvMfMJBSKfhXGmyTYMux5U6rxkwSgoLMFDwFhQ0dblDJSae5HBe1ZluNyHDGpiaApkaGHDRziIzHg4PivggjN6ir4Kk1JLLjZs2aJbZLuZylfYxkKyTVqWPHjmJafmAM7DQkTgZnKdKDiqNSI4m4kvctJ3KKR8TLNcPqQ0iQH0+NcKmU+vtTp06FZGBI2xsGrm5okyO9T8obWDbfKWU0thQ40O3evVsczEj0lT/abnAQpE2P8h6vOQgalBkYaaiSyPA9q4V27dqF4Eg8zSEyV+1pQJsABx+HGu6q5c24XfPtMHyhg6HbIfFn96zGsGGjsWjGUCQSBLSZor+tcUjinydU8JGrtHOly5U8CSf7uhSULEEaHkv4UNZnS4HCbb5ztb7AOJoSNGvWTPU+WcqcAErcDGPtMkVklIbYNG6XuArG8o2oe2Trk7VpCYdHWRerEhnJ4ExeSFhkMqeWD4QgpMLpV6ZnbPKyIuucMgjuqUP2BwczKXDApbCOMzZ5oO0JZ/rU5GLgrIADtCW8ThpscjBi/nIBPONI8AwHX7Qqnhy5TFjKk1hKxINH1rlDhw5Inz69DhGrU6dOSDpOLGjFTKM843UwXLuIukNCzg+ErB22Rf5jG2jLQUNJrjJ4Lb/Pcz43ZMgQnfdrTl2lQVTCku9ZLhiX8giLdtn0tiURP2dNfA3tclJ2eseVI1qjzWh9S3i9hFKE2w1kNJPISEbEUhvpAUTSIpUTZuXKlytitptEyRLHkFIVI/JIVh9XmMp+QFVr9g8SUNa7Xr16emn++ecfkdX+5MkTk1U0RWQon5Fw5TFFihSwtpq9yUrKEvCdkchQIzCswapExhwVZoMrmaAAfPNwh7u7B0Y1LYz4Of/By6+e8Pz+Q30TK5UWs/NTI4Iqo5b++Jw5Pr9YLGc97AB0aikP5EXL5TG8R7YBl5uU3UiBHxiXwVyZmBPYyfii2cEZunTpotMR6RPp9evXOln5+3qLHePL05PIFEdA24mb4eHuDm9f9a2uWU+5uw8SDspplGqmkiKA9CGQv06ip6ZZqFMhMy/8fb7jzSsXvHrlgncfdYm1mVmYlYx4cXZqjgseszL8mUiNyIRHhTnQ31d8bx6fn6JK1oQo2Xw0PDzc4eVtfAK2dmwHdJqwyeyqc6+SDGYSGWZKAi71AcpjqfhBVpmc/UiM5SvfDBkyiITdzs7OcL0CffHe9bWodfna9T38TBBU98/v4fLqFVxcXuObGexBwwUbv9OkSROw74c3mCIyVBaScOWRq235AO/59ePP9r6Ch5fxPhDeuvL5fv36id+32kTJ3PzDTGSoSUZ+swQI7TXU9KmVxpjcb0Mt/Pj4GFOG9Uf/3l2QIVEMZCxYAX1698HkRZtU9/pWy4O2GxSmUzZk6Y8DDmUk5iwLT506JbZb6RKC9jFcWsuDZJFvb28vjxZn0ObaDHGmxAFfmtHQtkP+8fIdKB3a3Tpmj769eqFdfbp6iYlaLbuid5/+2HvBMJtCycJhvko7HioykOBJ751HyjYkeZNOI8Nw8ebuafRoWQupE8VHoyG6rsjDkJ3BR4gh+4rEwjSY0MIb3PpCjs2ff/6pun2D0kULd5xVC69un8SQvr3Qo30jxBUElKzZAn169cKK3cEsTLVnGBfRREbNb57aeKbF9AAAIABJREFUpIkrAzkePFeyk+Vt8Pv6DOMHdEDODMmQq3JHuBklMn7YvmQ8yhXJiXjJcuL4Q+tqIMrrRSUb5fcuv2/uuZLIkG0rD5TRyPGqXLmy/DYOrJmBKiXzIX6CDNhphq2LzsNhuKAdVLZs2Sxe0cuLCjORoTEmWUASIJzNqLHLlD7O5DN6eUWCAgPg4+ONdzd2ibzhkesuwsfbGz6+fmavZGhPQp4miYClP7KL6EHXnGU8Z2hsL9U05WHMmDGiOqIURx4tVzFcgShVjbkaocWzqUBhIzFWCkolmZCEP4m83FdagL8fvL19sWxALQjJi+Ohm49or+EfYFhQKBlUSnlyZqrkM7Md9FQgpeFRbldjqj2m7pP9+NVpNxIIAkasMz6QmsrL2P2I0i5TGmNydag2C1TK1wxZ/AcG+Ivv7fTqwaLj0AP3PorXfn6hnqvV2rl+fEd0nqQ7sVFLJ8VZupLh7JqsVHk/oAq/MnBglqehXQ25BgZDUBACvVxQNp2Asp30vTErnwsMCsT0DuUQK20ZuBiROSqfs/Q6orTLOAmXAtntVAiS4yVp7klpAoOCsHxgXQiJ8+KeNa1NpQIUR47X//77ryLWssswExkK8TiwyQFhnDxwQCJfW56Ggmr58k+enufn1tpBiJEKJ19GYI9RFhqGawrtufyXiAflLNTEINuJgTYD1Ngi71/toyKRoMaNIVsBDrZkP1JuwHyU4dOnT6LygBxblkVV59DggzYlUiFnnYGhUUbOaAPB8qQ8DWm/Kd3MKN+7kSLMunVu9TAIMZLhyOPvZqUPS6KIIDLsC/T0IOHHI2V3Sq8CZMuS1y9PxxmjmtGm1LaZ7csiYfZq+KSgLYEBAaIiCfuf9KM8auWodugwdp3qvQCV3WwtJTKsl5xQkmWqbCfT0G5Mrh5POZ+p4HZvH/4QBIzfdtVUUiDIHfULJEHhJmPNnoyazlQ/hbWIjNLpLSchnNxxcszJqLxPcKyUxpPQGvmgfdm0yFq9H9QZ36Epw3vGCTcnmuGdRFpMZCi8JrWlFa8cEJ6T6JQoUUJcDXAlQT6tMg2v2SENCb0ntSyGxHnr4ktEIxjON0DiQKExl9HUqqOtCYVkHORpzU9WGOUz/PDVAldNxELNDQv9iVGrRMKOWNPmSJK7cHajtjcF05OFSVVZhsAPN5A5noBOM3TdxKjVR4qjS3qpXEMqm1wxSWkomDSHxSjlb85xUpuSiJetJiKO+WF9i3/aChnq72QvUjOJgTN7rm4l/ORHxlM9WC/4f0SNHAlR+r/QWa+U5qz9LFQsX07si+yPlSpVFt9/3qzpkD5rPvE8OJ73KqJc+cpYtOui9HjIMSxERlplsw2GWL+cLMmdvNK3m6lwctkACDFS4qx8C0wDD3k5n0LamAL6rThtIIV1osNLZEj4mQc5IPJ3LsdGHs8Vn7RPj7wF/h9vIls8AW1nGPCWIE8cznMaiJJbpebg1JKsLSYyFOxxdUKVSw6i8h/jKBfhjI6DLnd/o+BInoYCQ7IGVH17+b5BxczxUbGL6WWyJY2MqLSk9BQGsk300srZKVlm5LOqdRB5PdjpMmfODLVNi2hdT5fxnPUQOwlDaZVCGxZiSMUDJbbk7Uu69w8Ok1URFxuuBGu1ycs3dE5385TvcFVmSHWSM3E6wmQ65XJeLd9A7884tNMey1euw73Xweq3t84cxNoNW+D4XOEUM+A9qmWJi2p9FuCL62Ns37wOK9ZswmPX4BWiWv5hibP2SoYTDfb3vn37qr6TuXODdyGkLIPplO+OvHrGE39l8HhyTNzhcOg6fb9wXu6f8fzZM1FeR5md9JvZrymaDZgXch0c/xxPn73AFw99LkFYiAztotgP2VeN2Wvt3LlT7CvEhit8U2FsixJIWbgpXn35iIO7tmD58lW44KS+BcIN+7EQ4qTEgVuvcOPMQaxeuRy7Dl+AYsFnqkiT98NLZDjZ5PfMSSnlVJQZ02aK3zQ9qFMhiuMBJ+n07mHI5uzxoQUQYiSE/fmncLp4FGtXrcA2h1N6u8iabJAZCajRyomP/mrKjIdlSSwmMrJnrX76yckByWIIGLs1eMdF34+PsHHbflWPo1YvPJwZUmOGQnJzZDpSUVyGWmL1Lz1n7nHVkDqImboUXvzctOjm8d04fuO5uY9bJZ3XuwcYNaA3Fq7Zgm1rZqJy5ZoYNmo0psxdiiUTeiBNxjw4/jBUPdLzwUGkihsT5eq3w5RZc7F9jwNWTe6DbHnK4Nxz661tOEujoTCJja2HS+uGQoiVEsceBePkcusUdh01zkraNLEzuqruy6PeWv8350XtsrZT1fbyUX8mQmL93qFmzkTIVLQGxk2cjo1bd2KP/ULky5odCxxu6xW5oHdNxE2cEb2HjsOiFRtwwGEPmpTPj4b951uV0NASP7w+vOSV5zihVJYhW10ZJ3+G5+vHtETseKnQbdAoLFi6Bvv370PbGsVQveME/DCqJKHMyfQ11fjp5SO8waaIzLXtY0Th5vmf28GvnNQfc7acjVBea3gB5PPsMFxtyNU3zcmX7C+yWIxp25iTj3qaQHT9Oz2y1+wv3vZ7ewc9u/XBrZ8rCfVnrBzr74HZw3pi5SFpzxAv1MkZEwkKNBUHgMNzuyB56lw48yTUuPD8xmCfV3X7zIGHxDJ1v4O0cQT0X3rKahXku+KgYek7s1oFLMhoUY8qiJelIsS1nP8HDO/dDQ7XnY3mYKl2GT5fRVqqME/bZTTfiL5JQ+xUMQVkL9caTz+Gem5uXjABiraarFt8kAdalkiFmH9kw/YLoTYq2ye1hJC4CJ6bdnigm5+RK7qFipjv1Eiherd80bNaVghx02HN0eDtvJnk+JJeEGJlhaMVF/vUIiUrnGYZ4Q02RWTe3z2E/JmzYOLKnVgxZyxGzFpndeocXsDUnucLMWf/GLVnKUTnLCkiwoaxbZGjRF3s2bsLw/r2wq5zhtWXI6L8QLfnWLd+e8hS3u/DLeRMyIEsmJ/8w/0T3ih8ZU3rUAax0pbEC5kz5483diKhIGDaruC95COirrac5yX7ycicrSg27HHAlOF9sWS7afmDuUTm0ZUjmDVzOgZ2bIhYtMsoUhXjJk7BknU7YYb3GqvDdmalHQQhEbbdlG2//eM5SqaMgX+H6Lp18XY5izQxBLQaryvnmdK2NBLlrAsTe3JZve4RnWHg51vImUBArf66ZhJL+9VArHTl8Moyt2RGq0ujWbL3rBFsisiwQW8eXsHShQuw6+glqy53rQGWoTwo6A+rDj2Xx7SDCevOlobqJMYHeeOMgz0WLl2FWxb6gTOabxhvPj3KvUbiYN15A7PwgPeonjUByrTT3Utjz4z2EOJmxfX3VpyahrENv+qx2+cOYMHCpTh986lZVVg9qi3aj91gMq3rU0dxa+Sjx0/i6vXruHDuNA4fPIjj567Cy9qCDZO1ASa2Lo4EOWrrKH24nFuNGFTjP6y7b9KNbdwCPj523ZEZ7fq8Qtl0MVG510IzSotaSZ4cpV+zGFh9XuYwNvAr6uRKhGItxlmtMRT0002UmlZsWAqxOSITlkb86mdo5a3m7cDcelEoS6UBNU0zc/OICuk2jGyCGEny4b5MtOLp4QH/n7xkz4dHkDSGALvV50ObE+SJ5kVSIHedQaLK5o9vnvAJsDLzObS0aHO2aUp39Jr2i+UrlqIZ8A5VMsVG2Y66W/4u6VMNMVKXgrMXEODjhe/ewdRvYZ9qiJnmL7jIFDifHgseiFee5UQmAB6eEacGb2nzwpt+45gmEBLlw/1Q7jLeXduCeIKA6Xvv0sc1PMPZXqqccyyylgcPtlkjMuF981Z6ng4DqZmn5oLESkVEejZ+Hm+wac0q3HpJgXUQ2pROjcyVe4Uocng+PYNRExfB6yfNuLhxJAQhKQ4+Cv2K3t/ehcSCgMm77gNBnzFh1ES4eBk2KI30RtpogZ5fP+DDVyNGjzZYb4/7B8R3PVKmRRf47RnKpI2FGv2WiTVePn0szjxmf/JCkwJJkK+RfK+mQExtVwYJslUX5Vd3DqzA3I1h2PjMBrEBfNGlXAZkqtxNxuEJwrIBNRErTSm8CwCen9mE6Sv3h7n2tNOiZiy3gLZm0IiMNdEMZ15UazalXRLOIiL18fOrBok2AasvvcfrOw7IFFdA/gbBfqv8PFwwtl83bD7BGRhDIMY3K4SYWario4xNc2k9jXkz4ok3cHbjVIxasMPmFUF+Nkg7WIjAsSV9IQiJcfRp6Orj2z0Hcaa+/PwnvLvjgO4DJ8M9APjx4rhosNl70VFZKd9RN0d8VOi9FPB9j8E9euDCM9P748gysNlT//fXkCGmgJbj5V6y/dG2eEoUajkJCHTHyF7dcMzJvP1l1BpKBSZDdn1q6c2N04iMuUhp6SxG4N3dY2jVqAGGjx2PMZPm4cL50+jTrgXsxozB8CGDscbhsizPH+hbrwxaDdcV7nq63ka7RnXQu/9AjJm2BB+kZY/sSe00eiBgP6k9itbsDg8ZNzTI+zPG92yBVl37Y/jICbjzKpjX+uqCPfLnK4oTOtseBOHgigmo07AVhgwbDvtj+irPURWpL06HUCRvAey6qWtndNZ+NmrXa4JBw4Zj7b5LNtk8jcjY5GuJRpXy88SD+w/xXVqdBP7AfScnvP2qbxDo9d0Tqk6i/b/h0aOnMjZBNMJHa0oIAuJGaz5SRwmJFlmtzx8/hJt3KPUJCvDFt28yFURZ8k+vn8P5nUzwJ7sXZU8D/QzKW9zeOeP5G5k2no01UiMyNvZCtOpoCGgIaAhEJwQ0IhOd3qbWFg0BDQENARtDQCMyNvZCtOpoCGgIaAhEJwQ0IhOd3qbWFg0BDQENARtDQCMyNvZCtOpoCGgIaAhEJwQ0IhOd3qbWFg0BDQENARtDQCMyNvZCtOpoCGgIaAhEJwQ0IhOd3qbWFg0BDQENARtDQCMyNvZCtOpoCGgIaAhEJwQ0IhOd3qbWFg0BDQENARtDQCMyNvZCtOpoCGgIaAhEJwQ0IhOd3qbWFg0BDQENARtDQCMyNvZCtOpoCGgIaAhEJwQ0IhOd3qbWFg0BDQENARtDQCMyNvZCtOpoCGgIaAhEJwQ0IhOd3qbWFg0BDQENARtDQCMyNvZCtOpoCGgIaAhEJwQ0IhOd3qbWFg0BDQENARtDQCMyNvZCtOpoCGgIaAhEJwQ0IhOd3qbWFg0BDQENARtDQCMyNvZCtOpoCGgIaAhEJwQ0IhOd3qbWFg0BDQENARtDQCMyNvZCtOpoCGgIaAhEJwQ0IhOd3qbWFg0BDQENARtDQCMyNvZCtOpoCGgIaAhEJwQ0IhOd3qbWFg0BDQENARtDQCMyNvZCtOrYHgJBQUH49u1bpFXsw4cPOHz4cKSVpxWkIRCRCGhEJiLR1fKOFgj4+PigYcOGuHDhQqS0Z86cOShXrlyklKUVoiEQ0QhoRCaiEdbyjxYI1KlTB/369YuUtpQtWxazZs2KlLK0QjQEIhoBjchENMJa/tECgR07diBz5sz4/v17hLaHbLIMGTKALDMtaAhEBwQ0IhMd3qLWhghHIDAwEKVLl8aAAQMirKxPnz7hzz//xLx58yKsDC1jDYHIRkAjMpGNuFZelEXA0dERKVOmxJo1a6zehjdv3qB8+fJo37691fPWMtQQ+JUIaETmV6KvlR3lELhy5QqyZMmCqVOnggoB4Q0/fvzArl27kC1bNlStWhXv3r0Tf66urnj69CkePnyIR48eWfTjMy9evICXl1d4q6c9ryEQbgQ0IhNuCLUMfgUCgf4B8PX1hb+/v/jjeYB/gGpVli1bhn/++QcVK1ZE5cqVLfrxmRo1aqBVq1b477//0KtXL5QsWRKCICB37tzYvn27apnmRo4cOVLMi/kVLlwYBQoUQNasWUWiQ9lM2rRpkS5dOot+fCZTpkyYMGGCudXQTRcUCH9/P/j5+QXj6+cHX38/BAYF6qbTrjQEzEBAIzJmgKQlsT0ENk/tjfz5C6BI4cIoWLAg8ubNg//sFqtWdPPmzejbt6+oHUYNsbD8Bg8eDDs7O4wdOzaEyNSsWROHDh1SLdPcyC9fvmDdunWisL9atWpwdnbGs2fP8OTJE3EVc+/ePdy/f9+iH5/h6od5hyX4vL6M+qULIF/+AihYqBCKFC6EAsWq4ODdt2HJTnvmN0dAIzK/eQeIqs2f27tKyAqAqwD+ijYfHuHNIVEha8vachmyxooVK4aePXtGeBtMFeD9/CSy/sRUwlYQkmHD5demHtXuawjoIaARGT1ItIiogMDCAbVEwlK8TkccP3UKRw4fwvW7TyK06jTGTJIkCQ4ePBgh5VD4nzp1aixerL4ii5BCVTIN/P4Fl08ew5Hjx3Fo8xLkTkginhb2V9+opNaiNASMI6ARGeP4aHdtFAGJyNTqvjBSakghP2UmU6ZMidDydu7cKcphbMZOxvMuyqQkkUmjEZkIffPRN3ONyETfdxutWyYRmeqdZkZKOzdu3IicOXOKwvCILpCKBYsWLYroYszK39f1Ckqm0IiMWWBpiVQR0IiMKizRP3LIkCGiDKBChQo62lbUpqJsYPjwYPnG8uXLUbRoUdGXllwzq1KlSihevLjo0+tXoBXZRKZu3bqYOTPiCBqNPanNxTBt2jRRGy4gIEDU7pK0vHiPzjp5bezHNNYKGpGxFpK/bz4akflN3/24ceNE4hEq2A0WnvOaxGPixIkiMhs2bBAt3ePEiaMnaM+fPz/atGnzSxAMC5Gh1tbkyZMxffp00TcY/YNJPw7sM2bMgJubm+hxefbs2eJgzyNtYqhG3K1bN/B60qRJouaXNRu+bds20f6GmObIkQNx48YViT0JPBUN6G2ANjV3795F9uzZkStXLvH98b7040qLHgPu3LljtappRMZqUP62GWlE5rd99cENr1UrWIAuEZsyZcqoItKhQwcdIsOBkDYqvyqEhcgcP35cpw1Sm6Vj0qRJ4eLigvfv3yNNmjRG0+7fv9+qTT979izohJP2LVJ9pGOpUqXQvXt3cfXC+jVr1ky00ZHuS0fa2DRo0EA0xLRW5TQiYy0kf998NCLz+757seX169fXGdTIPlMLnMVLgxmP+fLlA9k5vyqEhcjQYPPly5fiakTeFp6vWrUKr1+/BtlW/FHTa/369YgRI4ZOu7mq4YrIGtb+atgtXbpUpzyuIFlnZdi3b59OOraB3gisHTQiY21Ef7/8NCLz+71znRY3atRIZ7CqUqWKzn3pgpbu8oGZBpCSDEFKY/IYGACPjx9FD8MfP36E8keNKjqJ9A8wbVkeFiIj1Y+2LvK28PzSpUvS7ZDjjRs3ECtWLJ20u3fvDrkfESdKIpMgQQJV1hxd0SjbcPHiRatXSSMyVof0t8tQIzK/3SvXbXCTJk10BitanauF3r1766SjOq+l7DKvVxdRLnVyJEuWzOAvecqM2HXTtJv78BAZBwcHnbZwsCa7Shm4MlDKosLrRkZZhvKaihZy4pE4cWI8fvxYmQxqKxk1Qqn3oIURGpGxEDAtuR4CGpHRg+T3ilASGfr4Ugv9+/fXGfzCQmS+O59GobgxIMSIIbKhyIrS+8VKjC2X36lVQScuPESGxpTygZznarteXrt2TRTAy9PSjiUiw8qVK3Xq9scff4guZpRlqhHKy5cvK5OF+1ojMuGG8LfPQCMyv3kXUBKZv/76S5w50/eV5AGYMojWrVvrDH5hITJBfh54dv8unO7eBf1rKX/UnLp79z48vplWKLA2kVEboG/evPnLiQw9DNAjszKoKTGotUH5nKXXGpGxFDEtvRIBjcgoEfnNrpVERj5rN3YeFiJjTWitTWTOnz8vVo82JpKdydWrV385kUmYMCHs7e1FmdG5c+fAH9l4VMNWvh+NyFizh2l5WQsBjchYC8komo+SyND+Yu7cuZgzZ46ohcXjggULRGNM+aBmjMhc37MQHfpPwhfFguTH1yeYMXIo7IYOw7BhKr+hQzFo2BhcfeFpEk1rExnamNA+qEiRIuKPBqnEQqldFtnsMjnmps41ImOy22gJfgECGpH5BaDbUpFKIkP39Wph0KBBOjNnw0TmBzqXTo44eerjq0LD2fPZEaTQ8+4bagQqDaIrzpp2xGhtIpM3b17QHkX+o2Fk2IiMH+5cuYhn79zVoDQap5TJxI8fXyT2W7duBV3b8EfDTeX7IHbmEJkfb66jfYsWOHhbnwWnVjGNXaaGihZnCQIakbEErWiYVklkwq1d9uUOciYU0HjUFj20vD7dxaD2rdGqdWtxAzBuAqbza90azf/rhNOP3PSeVUZYm8hcv35dWQS43TIt7yXix6M5Kxn3e/uQJKaAEestF8QriQxlMmrOMk+dOqVTL3OJzKklwaroW69/1GuvWoRGZNRQ0eIsQUAjMpagFQ3TWofIBOKt81M4Od3FkfUTEVMQ0HfBbjjdvYcPX79HCGrWJjJqNiYkPGEhMkcW9oQgJMa++6bZfkpwlETG2tplY5oWQsLstWHudmYakVG+Ie3aUgQ0ImMpYtEsfcOGDXVmxHSCqRZ69Oihk44uTEKNMb2wY/kM9B84BDVLZIEQNyU69h2MfgOH4ujliNnjxdpExpoqzKMa5UX8XPVhObMMiAgi4/npDa5fvYrrl47ir/Qx8Wflzrh2/RruPXGBKbNXjciofQ1anCUIaETGErSiYVr6upKzgyxxK6MPRyB6VMiE1KXbwlf/plVjwkNk6HdM3maeS9pl8kqqGWPu2LFDniTk/O2D8xgzZBCG2fVH9qQCUuQuiyF2QzB5wQY92VTIQyony5Yt06lbokSJxK2UlUnpeUDZBrXVGJ97dPkARgwejL5t6yKGIKBSo04YOsQO89bsg7cyY8W1RmQUgGiXFiOgERmLIYseD9Ba/+vXr6DLfvlgRa0qd3f3EGt++vHy8vJC8+bNddJlyZJF9PUVupoB/D/cRK5EAurarY9wkMJDZNSs5dUs/ilIjx07tk67KXRXC15u7+F46yZOrJsopu85zR63b93EvUcv4GuB532lxT8F/8+fP9crUq0NNB41Fi6tHgxBSILDT8yfAmhExhii2j1zENCIjDkoRcM09KqsHEAlYkNXKl27dhVbTdf2HOike/IjNa+ojSWFx8cWIqYQE3OP6LtBkdJY6xgeIrNnzx699hgiMjFjxtRJu2WLvkKDvE1nVgyEICTFoWc+8miT53TeSe/PdnZ2OuXRd9qBAwfg4eEh5kGnpJwcULVc/i54vmbNGnz+/NmA49JAjG5aEHGz1MBbhWq5scppRMYYOto9cxDQiIw5KEXDNJwxU85CdzEDBw4M+fGa8fRKzMABjm7m+/XrF5KG6QcMGICePXuC+9JIYeOwehAS5sTN98Gbb0nxEXEMC5G5f/8+2rZtC6omKwfoEiVKiO3mIM0BvU+fPuIeLsp0efLkEffQuX37tkqzgjCqYR7EzV4HHxTq2yqJdaJIIJRlya8zZMggrihv3boFJeGTp+O56ormhzPKp4uBku1m6JRr6kIjMqYQ0u6bQkAjMqYQ0u6bh0CQJ9qWTocMf3eEpE92+aA9jt90Me95C1NJRKZmt/lmP3nixAmkSpVK3LOFxEL+4yCeOXPmkP1kaJyZPn16nTRMzzTcd4bEVy/8eIYyKWOgbKdZerdMRZB4jB8/HlOmTBE3S+MmatKPG8hx5ULW5Nu3b8UN5bj5mnRfOjJuwoQJ4jYFyvI+3bRHfEHA8HXBng2U9w1euzmidEpt+2WD+Gg3TCKgERmTEGkJzELg6z3k/UNA3RHB7KRvzpfQpWMv3H77zazHLU0kEZm/m9iJgnH6WnN5+9loNnQXQ1mU2o8DuNyrNM+lOGV6srYk1zPyAj9c2YR4Au1jpH1dfPD0yTOLZDLy/Kx5fmheDwgxk+Pgw+D34f78MlZuPqCqXRbk9//2zgM6iupt40OTooJIFfxEIGAFQaQo5QD+FZGiCKKAICJFmkgAaYKINAFpUkQElCoBBMXQCUVaAKmhBqSEHgghlEgS8nznmTBhZjPJ7oZNNjd57zmTaXfuvPN7s/eZW+cWTh47onM9sMkPL+YRkfGkLzJaWiIyGc3jKfW8d0LxaS0fVGzyJTasXoLP27XDos3BKXU3fN+pdoLqpfIf9kux+7mS8F9j20PLVACrTtzSox9ZMx3dBk5OEyIz5KMKyFL0f4hr2bmJEb5tMdXfrsoPiPw3ACUyO87E8BhmbQtxBYPEEQIWAiIyFhyy8yAEboeexPQJIzFizCTsPHr+QZJyeu3soW3gU6oUSvn46N+8L1G8ON7rMQFudORyeg93IywZ0QJaFh8cvAmcDwpAuzYdsPVEckbLuHtn5/HX/tQTBYq+hHnLV2B0/88xaPIiJNb+H3l2O94oUzKOa8mS+hxupUpXxV97Ljq/kcQQAg4ERGQcgMiuGgSiI2/oXa3ZSK8v4eGIuB3lVZG5HXoYvq2bok3nbuj5ZT+sO+Da/GCpQzwKW1cswPDho7A04J8kbxmLaFy/cY/rPb7h4RGIiXI2dDPJZOVkBiUgIpNBHS+PnXIEzoeEIFLy45QDLCkrRUBERil3ibFCQAgIAbUIiMio5S+xVggIASGgFAERGaXcJcYKASEgBNQiICKjlr/EWiEgBISAUgREZJRylxgrBISAEFCLgIiMWv4Sa4WAEBACShEQkVHKXWKsEBACQkAtAiIyavlLrBUCQkAIKEVAREYpd4mxQkAICAG1CIjIqOUvsVYICAEhoBQBERml3CXGCgEhIATUIiAio5a/xFohIASEgFIERGSUcpcYKwSEgBBQi4CIjFr+EmuFgBAQAkoREJFRyl1irBAQAkJALQIiMmr5S6wVAkJACChFQERGKXeJsUJACAgBtQiIyKjlL7FWCAgBIaAUAREZpdwlxgoBISAE1CIgIqOWv8RaISAEhIBSBERklHKXGCsEhIAQUIvjRaD+AAAUWElEQVSAiIxa/hJrhYAQEAJKERCRUcpdYqwQEAJCQC0CIjJq+UusFQJCQAgoRUBERil3ibFCQAgIAbUIiMio5S+xVggIASGgFAERGaXcJcYKASEgBNQiICKjlr/EWiEgBISAUgREZJRylxgrBISAEFCLgIiMWv4Sa4WAEBACShEQkVHKXWKsEBACQkAtAiIyavlLrBUCQkAIKEVAREYpd4mxQkAICAG1CIjIqOUvsVYICAEhoBQBERml3CXGCgEhIATUIiAio5a/xFohIASEgFIERGSUcpcYKwSEgBBQi4CIjFr+EmuFgBAQAkoREJFRyl1irBAQAkJALQIiMmr5S6wVAkJACChFQERGKXeJsUIgfRCIiYnB0aNHMXfuXAwePBjnz59PHw8mT5GAgIhMAiRp40B0dDSOHz+OvXv36mvuSxACKhOgkIwdOxatW7dGmTJl8Nhjj0HTNH3ZsWOHyo8mtidBQEQmCTjeOLVlyxZ07NgRpUuXRo4cOfQfYPbs2VGqVCl89tln+Pvvv71hVqrckxnNF198gV69euHLL79MsPDcxIkTdVuCg4PRvXt39OzZM0E8Xstzw4cPx507d1yyfc2aNfq97e7LY7z38uXL9bQOHDiQqJ20nXG3bdumx12xYoVuizld2rZgwQKX7EpPkdatWxcvKoa4GOt9+/alp0eVZzEREJExwfDmZlhYmC4iWbJkif8hVqxYES1atEClSpXij2XOnBlt27bFlStXvGluitx71qxZ8c9pZD6O61q1aun33rBhg9O4zzzzDG7duuWSrSNGjHCa3tdff62n9eeffzqNO336dD3uoEGDbOO2a9fOJbvSU6TIyEgcOnQInTp1sjDJli0bDh48mJ4eVZ7FREBExgTDW5uXL19GjRo1LD+80aNH4+7du7pJsbGx4H6mTJni47z22mvprh77+vXrYGmGJRBHcXnllVewadMmnDx5Umdy+/Zt7N69G+PGjbNw4XUvvfQSAgICcOzYMZddevXqVQQGBqJBgwYJ7v3xxx9j69atCA0N1dO7ceOGHtdRQPLly4f58+frccPDw/W49C0FsWHDhnq63bp1w6pVq3D27FmXbfNmxJs3b+r2u1oidMXWMWPGWBjnypVLb59x5VqJox4BEZk04LN3333X8qNr0qSJrVXvv/++JV69evXABtT0FljV5Cgy77zzju1jss3KXPrjdXXr1rWN68rBhQsXJrh3y5YtbS8dMmSIJe5DDz2UqLDVqVMHPE8xUyns2rULhQsXxunTpz1mtuNLxMMPPywi4zG6aS8hERkv++TXX3+1ZFTMMFl3bRf4dm4uzTBDnTlzpl1UpY+tX78+wXOyJGAXtm/fjqxZs1oYvvXWW3ZRXToWEhJiaZAm4+LFi4PVmebAN/vKlStb7su4zEAdw5kzZ/T2tdq1azueSvP75FuwYMH4EqQnDHYmMmTLEpSE9EFARMaLfvzvv//AdhdmTsbi4+MDVgXZhYiICLCdwYjLNa+Pioqyi67sMXZuYNuT+TkbNWpk+zw7d+4E6/TNcd9++23buK4cZNUkS0Lm9LhtNOQbaQQFBeklE8d4vJZpmIOfn5+e3qhRo8yHldhmFeITTzyBU6dOecxeR5F59NFHceHCBZBp165dwargF198ESy9/vzzz+mytO4xmAokJCLjRScx43Ks6nH2Fv7mm29aMkCWbBwzQC8+kkduzR52jlwaN25smzarc1gNZc7sWY34IOG7776zpMe02SZmDmwL4nFzN1zus13m3Llz5qj45JNP9LgURNVCaojM448/Dl9fX7AXpdmPxjZLsdeuXVMNndh7j4CIjBf/FSZNmpTgR8WeN0kF9iwzfnzGesKECUldotw5O5Fp2rSp7XPs37/f4yLDDgXORO6NN97QBWXYsGEJ/LFkyZJ4W1kqLVmyJIoVKwYVxzqlhsgYpdYqVargvffeQ+7cuRMwbdOmTTxT2VCLgIiMF/3VuXPnBD8mNiYnFRx7NFFounTpktQlbp9jdQ+rL9jYy/aE5C6sYjF6ZLljhJ3IsArs4sWLeimBJQUutJHjUByryx60JMNqzLJly1p8w2pM422a92UVT/369fWu5Cy9GILPNf1qhD179ujnPO0jI/2UXqeGyJAZX7iMTixsB2IVnZlpeiyxp7Tv0kr6IjJe9IRjbzH+qEaOHJmkRXbjOZo3b57kNe6e5JiFF154AUWLFsVTTz2V7KVIkSJ4/fXXwS6/7gQ7kaGQ5M+fH3nz5o1fmLnbvfU+qMjQVnY1NmdyfNtm5sfAkoqRMXKfYmOOW758eXBMCIPRXXfp0qX6vt2f65dOY+eOQGzfthnbdx/Gf3aRvHQstUTmyJEjlifk78DMlNusUpOgHgERGS/6jF2VHX9IzhqH7USmWbNmCZ8i5iZ2bduGkDD7TgQJL7h/hAMYObZj5cqVWL16dbIXljKYMTs2hN+/k/2WnchQUKpWrZpg4ZgYxx53SYtMLI7u3o5Dp+PGvNhbAPzxxx8JfMN2GAZW3dBvrKpjMITE8CUF0TjHajWOA+F4mcRC4O8TUa9mReTQNDxZswvck+TEUvXMcY7E58vCpUuXPJMgYDsOilWU5sCu6UY1msGVLyzu/i+Z05Rt7xAQkfEOd/2uRmZl/Ii4tusCazbRcWwGr7EbPX5s+Sg8pGkYtuSA+XIltu1EhqU+u8BM0J2G/8hTASiWMxPq95ljl1z8Mc6oUKhQIYvQUMxZpcP2leeeey5+sCynmXG0Ydq0aXovQXYM4BgZZ+Hi7gV4TNPwdv95zqJ67Dy7CrNHFzN4u4XPNXv2bL0E6e/vrwunXTweY0nEGDzszEDH3mX8H2Ya5kBRdqwyI3NjkKs5rmynbQIiMl70j10vph49eiRpEbt4mkWJ20zHMUztXBOaVgB/HExL78WOVtrv24lMYgNUmTk5ZvBJlWQCZ/XV+X01f6/9zU1HHUuaFSpU0Et1ZN63b9/4mMxczVP/8HyrVq30eea4zfYGZ2HztC7QtKwYu/yws6geO3/48GGUKFEivvrRXBXJbZYe2fbEEkWePHn0fcc43KeQsorQVQFwRWQ4LontYORnLE8//XSSJUKPgZGEPEpARMajON1LjBMuGj8gY53YeBAjZbtpT1itZQ3X0Kx8HjzyYnNct55QYs9OZDzVhXlix6rQcpTC9qRry3ROjr3/HnnkEb1UwkyXA2PNoX///hZf8q2bNrNbrlF1Zo5v3Y7BsA/LQstZGn+HpN5s2yyVcfApZ/s+ceJEgoUdP37//Xd9MCan9GFHDrt4nKyUnSFcrcpyRWRYkmR7oPG74PrZZ591WcisfGXPmwREZLxIn29rfDsz/5DYxmD0snE0jb2eXn75ZUt8volykCZwF8H7ArFmbQDWLpqCYtk1PF27PQLWB2Djtj244UbexfSYufBbH5yLK7nLnDlz9HYdV6tRjOfdvHmz0y7ERlyOPXFWkrn4bxDWrlmD9QF/oW7p7Mj0ZFX4rdqAdRu24GJE4rM0czLHnDlzWnjTV3zDjmNuWAFddMxtCEYXaM65lpg/46+O/BdvFs+Oxyu1vdfoH4Nbt+M6DsTHSWLjv0j3292SSM5yir3j2CZDEfFUcEVkOO+c47gZzphgJ2RnDwdi3qxfsNB/I+KmQ41E0P6DuBk39Z+nzJZ0kklARCaZ4Dx1WZ8+fSyZGDM11pPbBb4RsxHZLEoDBw68F/UW/CYNQafOn6P5WxX0ONXfaYVun3dF728n4cwt6yh0u/SNY6xGYdUQM1POMJDchQLIrsfu9i7buHFjgkZfzu9mF9ixwNm0MluWTkOXjp3Q+aN6yKppKFmpLrp/0Q1dewzCjlOJD/KjONpNHWM3ZsMYD2P2DbfpX2fh6r6lKJBJQ8M+MxG4djG+6tMLX3TpgNYdemLTkcQ/5nVm33r079YJnbt+Dt8+32LPqSs4vNEPUyf7Obuly+dTq3cZG/rNgS82jix79+5tjgJEXcG4ni3wWu2GGD5uMkYP9IXvoDEY3bMFqjX2xXXX/+Wt6cqeRwmIyHgUp/uJsdeOY90zvz1iF/gjM//wmPnbTbjo17cetMwFsTI4+dPNsH6dY1xYbZHchY237goMn5tVM449xhKbu4yzNhulBoNNYrMmBP8ZN53/QD/Xp5V3rAbjPThNjF1o3769xT98Bn6nxlnY8mtPaFomlKtZD32GTUZgUDAunj+FbnVK4OHSDfGvzSv5lnlDUaxwUfiOXYBT585j54qZaNaoDkoUegQtv17o7JYun08tkTF/T4Ylv+rVq1tY8kXin3/+uW93TAQGNXsV2QpXxIbjLMkzxGB85zr6dc2HJt5l/F5kWaUSARGZVAKd1G04ISQbVo1MktusMjIHzudljsMxI2y7SBBir6BlhbzIUbI+TrtRRZYgHS8d4Dxs/KCXwcJYs6rEcdJEljSWLVuWoNRTrVq1+IGT5seY3LUWtExFsOKE69VLFAlzNRi5c3CqXTDmKDNsZlWo3UuA9dpYjG9XTX/eJr1/toyRWTqiOTQtL5YEG5lo3JXHN05Dfk3D+4MWWZIa35bz4D2EmYGeq9pKCZEZOnRoAv+yezrHEvG34DgrOXk6zoSx9ocOehrfLLb2nvQfwyl8smHq39apfSygZCdVCYjIpCruxG/GmZfZWGxkUBxk2K9fPyxatEhfmwcdcjR6Yl/IjDy5ET45NVT4eEziN0ujZ9hNlhMjmsXU4ME1vw7aoUMH3Xq+1ZYrV07v8WSOY2wzg+cUJcagSERfRouyuZDzhQ9wyQ3xZUnsySefjPdLUt2ROSOBeS6zxKbCseCPOo2GpXPh4eJ1cNIyCvMuRrQqDy1nGWy/dL/dKDbyLD4okwdavio4ZNGeKHzVsAS0/FVxKNxzjRGeFBmWjjmPGz8dYPiJ6wIFCtgOqjXicNJRc4n47tVDqPFEZmR76g2csDRdRWFAIx9oeStjf5jnGFj8JTtuExCRcRtZyl3ATIptLI4zLfPHxqoXitDgwYOT/Cpm0LLhyKxp6PHL1pQzNIVSXrx4sT6t/vPPP693cGAnB2NhhwgKhzG7AScFZZsPmRhxjDXFh+c4magxo/Xtk6vxf5k1VO/4A9ytqucnnjndP5cZM2Yk+fSsMjPi8ts0zkLEQX8UyqyhZjeHdG+fwOtFs6Bgzc64Ycovj6wchyyahlfb/WBN+vp+VM6jwadBb1jyXWsst/c8KTLsPMCqYXaNZomQvfVYDcb5+NjJgmLCb8vw/52lR4r7gAEDEnzd9JD/9zqDKp+Otz7PjSOolk9Dsbq+9zoAWE/LnncIiMh4h3uSd+VbG7/EyG/N8Jv2XDNTdeVTwrN6vqm3x/yx32jQjsG5kBBEKvJtM1aBsQeR3WKcM+DZxTGOOcbd99tAPfPqP/v+TMihF0IQdtO1Yg0nt3R1gkt34gbOjRu3880S6zfuT62bqA+mbfP9cuNx9fWcvnFf7uw3N26KG+PkhU0/6fFbDf/TOOSRNTtWsKRhfJH0QRMlG84Bx+7Q7MjCmSXYLdoIbJthtdnatWsTnfdu5di4GRe6TdtkXKavrwT+os+a0HzIYstx2fEuAREZ7/L37N1jw/BJpQLI6VM/vurl0q6FaN99GK4lvw+AZ230SmqxmNL1f9AyPwH/4HvtMdeC0LVDV+y9aKmjSnXrJnWoAu2hYlh73PyRrrv4oWN1aFmKYvXJSCA6FIt+W4ybscCU9lWgaXmwYIe115n/qNZ6e8zUzdbjD/pAHOzKkhnH06SVEDDlM72jxLh1Ry0m+Y9spbfHTAqwbzOzRJadVCMgIpNqqFPhRtHBqFFIQ/F6A+JuFnEKvq0/xC/rg1Ph5mn5FlHo26AEtHy1EDcDVyQm92mDr35c7nbVmUefMuY8Gj+bC7nLNsUFU4Hq7vWjqFlYQ7E6vcCasjMBP6JZh8Fgy8zyofwEdwGsOhI3IkS359YZtKhYGJnyV0XQNVPdmgeMZZsWv9mTlj6Md3nPQuTVNHSdeb80F7z5N5Qrmh1ZCr6KvWGKFNs94B8VkhCRUcFLLtsYjRl9GqPIMzUwdcYM+LZtieG/rvZuRuqy7Skbccdv36BIYR8MnjID3/b6DF2++QkebB9PlvE3gpYit6ahWscfLdfHhO1H+ZwaavWYifALR9Hlo2ZYtOOsHufa8bV4Pk82NB/ip1ffnTuyE/3b1NHb4Z5r1Nej7TEWo9LUTgzmDv4YPmVrY8qs2fhp7DB0bNMUBbJoKFGvp7THpClfASIyacwhD2xObCS2+M/H9+MmIeCf+3XdD5xuOkjg6PZVGP/9WCxaFYi0UHsYuncZalaqgl82OX7aOAYBc0agQf130aZDZ0xftsNC/8j6OWjepDE6deqCXl8NwQ/DuiMX50sbdv9jaZYL0ulO0NaVmDh+POb/tRnHts1DwawaPvhmQTp9WnUfS0RGXd+J5emAQHR04lU7keGXEXo9sb5iUTgbclYfV7NpCifXzILJG+JKO+kAi9uPsFlnkBkTVjsKtttJyQUeJiAi42GgkpwQSF0CsRjw3jPQ8lbBQXPfgdQ1wut3+7rJc9ByV8TRtFBE9TqNtGWAiEza8odYIwRcJBCL2zevIyRoFV7IoSF35U9wJiwC0XfdHQXk4u3SZLRoBK70w9D+XVAkuwYtT2n0HTkRe06GpUlrM6pRIjIZ1fPy3GoTuHMFPw3rgUYN6uDlci+jcrWaaPZpL+wKyUjFmTvYusIPkyb9iNnzfsPcWTMwfuJU7D5xVW3fpjPrRWTSmUPlcTIIgdgYhIddQVh4BPiFy9s3IxAaegWRUZ7twpxBaMpjpiABEZkUhCtJCwEhIAQyOgERmYz+HyDPLwSEgBBIQQIiMikIV5IWAkJACGR0AiIyGf0/QJ5fCAgBIZCCBERkUhCuJC0EhIAQyOgERGQy+n+APL8QEAJCIAUJiMikIFxJWggIASGQ0Qn8Pzij7sxybg/yAAAAAElFTkSuQmCC)"
   ]
  },
  {
   "cell_type": "code",
   "execution_count": 4,
   "metadata": {
    "executionInfo": {
     "elapsed": 136,
     "status": "ok",
     "timestamp": 1634002367746,
     "user": {
      "displayName": "James Yang",
      "photoUrl": "https://lh3.googleusercontent.com/a/default-user=s64",
      "userId": "05522971510241172115"
     },
     "user_tz": 240
    },
    "id": "UIg7M90WWgzT",
    "origin_pos": 5,
    "tab": [
     "pytorch"
    ]
   },
   "outputs": [],
   "source": [
    "class BiRNN(nn.Module):\n",
    "    def __init__(self, vocab_size, embed_size, num_hiddens, num_layers,\n",
    "                 **kwargs):\n",
    "        super(BiRNN, self).__init__(**kwargs)\n",
    "        self.embedding = nn.Embedding(vocab_size, embed_size)\n",
    "        # Set `bidirectional` to True to get a bidirectional RNN\n",
    "        self.encoder = nn.LSTM(embed_size, num_hiddens, num_layers=num_layers,\n",
    "                               bidirectional=True)\n",
    "        self.decoder = nn.Linear(4 * num_hiddens, 2)\n",
    "\n",
    "    def forward(self, inputs):\n",
    "        # The shape of `inputs` is (batch size, no. of time steps). Because\n",
    "        # LSTM requires its input's first dimension to be the temporal\n",
    "        # dimension, the input is transposed before obtaining token\n",
    "        # representations. The output shape is (no. of time steps, batch size,\n",
    "        # word vector dimension)\n",
    "        embeddings = self.embedding(inputs.T)\n",
    "        self.encoder.flatten_parameters()\n",
    "        # Returns hidden states of the last hidden layer at different time\n",
    "        # steps. The shape of `outputs` is (no. of time steps, batch size,\n",
    "        # 2 * no. of hidden units)\n",
    "        outputs, _ = self.encoder(embeddings)\n",
    "        # Concatenate the hidden states of the initial time step and final\n",
    "        # time step to use as the input of the fully connected layer. Its\n",
    "        # shape is (batch size, 4 * no. of hidden units)\n",
    "        encoding = torch.cat((outputs[0], outputs[-1]), dim=1)\n",
    "        # Concatenate the hidden states at the initial and final time steps as\n",
    "        # the input of the fully-connected layer. Its shape is (batch size,\n",
    "        # 4 * no. of hidden units)\n",
    "        outs = self.decoder(encoding)\n",
    "        return outs"
   ]
  },
  {
   "cell_type": "markdown",
   "metadata": {
    "id": "2JuF_JzYWgzU",
    "origin_pos": 6
   },
   "source": [
    "Let us construct a bidirectional RNN with two hidden layers to represent single text for sentiment analysis.\n"
   ]
  },
  {
   "cell_type": "code",
   "execution_count": 5,
   "metadata": {
    "executionInfo": {
     "elapsed": 191,
     "status": "ok",
     "timestamp": 1634002370476,
     "user": {
      "displayName": "James Yang",
      "photoUrl": "https://lh3.googleusercontent.com/a/default-user=s64",
      "userId": "05522971510241172115"
     },
     "user_tz": 240
    },
    "id": "JybXzDKaWgzV",
    "origin_pos": 7,
    "tab": [
     "pytorch"
    ]
   },
   "outputs": [],
   "source": [
    "embed_size, num_hiddens, num_layers, devices = 100, 100, 2, d2l.try_all_gpus()\n",
    "net = BiRNN(len(vocab), embed_size, num_hiddens, num_layers)"
   ]
  },
  {
   "cell_type": "code",
   "execution_count": 6,
   "metadata": {
    "executionInfo": {
     "elapsed": 99,
     "status": "ok",
     "timestamp": 1634002386845,
     "user": {
      "displayName": "James Yang",
      "photoUrl": "https://lh3.googleusercontent.com/a/default-user=s64",
      "userId": "05522971510241172115"
     },
     "user_tz": 240
    },
    "id": "P8bHFLNwWgzW",
    "origin_pos": 9,
    "tab": [
     "pytorch"
    ]
   },
   "outputs": [],
   "source": [
    "def init_weights(m):\n",
    "    if type(m) == nn.Linear:\n",
    "        nn.init.xavier_uniform_(m.weight)\n",
    "    if type(m) == nn.LSTM:\n",
    "        for param in m._flat_weights_names:\n",
    "            if \"weight\" in param:\n",
    "                nn.init.xavier_uniform_(m._parameters[param])\n",
    "\n",
    "net.apply(init_weights);"
   ]
  },
  {
   "cell_type": "markdown",
   "metadata": {
    "id": "MlZx1QCAWgzX",
    "origin_pos": 10
   },
   "source": [
    "## Loading Pretrained Word Vectors\n",
    "\n",
    "Below we load the pretrained 100-dimensional (needs to be consistent with `embed_size`) GloVe embeddings for tokens in the vocabulary.\n"
   ]
  },
  {
   "cell_type": "code",
   "execution_count": 7,
   "metadata": {
    "colab": {
     "base_uri": "https://localhost:8080/"
    },
    "executionInfo": {
     "elapsed": 26578,
     "status": "ok",
     "timestamp": 1634002433545,
     "user": {
      "displayName": "James Yang",
      "photoUrl": "https://lh3.googleusercontent.com/a/default-user=s64",
      "userId": "05522971510241172115"
     },
     "user_tz": 240
    },
    "id": "L-E4EMdyWgzX",
    "origin_pos": 11,
    "outputId": "36ee90fc-0473-4f58-d620-dbb3d43ff7e9",
    "tab": [
     "pytorch"
    ]
   },
   "outputs": [
    {
     "name": "stdout",
     "output_type": "stream",
     "text": [
      "Downloading ../data/glove.6B.100d.zip from http://d2l-data.s3-accelerate.amazonaws.com/glove.6B.100d.zip...\n"
     ]
    }
   ],
   "source": [
    "glove_embedding = d2l.TokenEmbedding('glove.6b.100d')"
   ]
  },
  {
   "cell_type": "markdown",
   "metadata": {
    "id": "z3zXf_ZJWgzX",
    "origin_pos": 12
   },
   "source": [
    "Print the shape of the vectors\n",
    "for all the tokens in the vocabulary.\n"
   ]
  },
  {
   "cell_type": "code",
   "execution_count": 8,
   "metadata": {
    "colab": {
     "base_uri": "https://localhost:8080/"
    },
    "executionInfo": {
     "elapsed": 83,
     "status": "ok",
     "timestamp": 1634002450800,
     "user": {
      "displayName": "James Yang",
      "photoUrl": "https://lh3.googleusercontent.com/a/default-user=s64",
      "userId": "05522971510241172115"
     },
     "user_tz": 240
    },
    "id": "-yrqGBbkWgzY",
    "origin_pos": 13,
    "outputId": "df83777b-f899-4809-db24-3df413c4f013",
    "tab": [
     "pytorch"
    ]
   },
   "outputs": [
    {
     "data": {
      "text/plain": [
       "torch.Size([49346, 100])"
      ]
     },
     "execution_count": 8,
     "metadata": {},
     "output_type": "execute_result"
    }
   ],
   "source": [
    "embeds = glove_embedding[vocab.idx_to_token]\n",
    "embeds.shape"
   ]
  },
  {
   "cell_type": "markdown",
   "metadata": {
    "id": "_DCVUdmUWgzZ",
    "origin_pos": 14
   },
   "source": [
    "We use these pretrained\n",
    "word vectors\n",
    "to represent tokens in the reviews\n",
    "and will not update\n",
    "these vectors during training.\n"
   ]
  },
  {
   "cell_type": "code",
   "execution_count": 9,
   "metadata": {
    "executionInfo": {
     "elapsed": 91,
     "status": "ok",
     "timestamp": 1634002457418,
     "user": {
      "displayName": "James Yang",
      "photoUrl": "https://lh3.googleusercontent.com/a/default-user=s64",
      "userId": "05522971510241172115"
     },
     "user_tz": 240
    },
    "id": "7WTw6KBoWgzZ",
    "origin_pos": 16,
    "tab": [
     "pytorch"
    ]
   },
   "outputs": [],
   "source": [
    "net.embedding.weight.data.copy_(embeds)\n",
    "net.embedding.weight.requires_grad = False"
   ]
  },
  {
   "cell_type": "markdown",
   "metadata": {
    "id": "drO9ezDmWgzZ",
    "origin_pos": 17
   },
   "source": [
    "## Training and Evaluating the Model\n",
    "\n",
    "Now we can train the bidirectional RNN for sentiment analysis.\n"
   ]
  },
  {
   "cell_type": "code",
   "execution_count": 22,
   "metadata": {
    "colab": {
     "base_uri": "https://localhost:8080/",
     "height": 301
    },
    "executionInfo": {
     "elapsed": 634500,
     "status": "ok",
     "timestamp": 1634003455343,
     "user": {
      "displayName": "James Yang",
      "photoUrl": "https://lh3.googleusercontent.com/a/default-user=s64",
      "userId": "05522971510241172115"
     },
     "user_tz": 240
    },
    "id": "5jb2CWShWgza",
    "origin_pos": 19,
    "outputId": "1846fcab-3051-4b6d-816b-d492383e8e50",
    "tab": [
     "pytorch"
    ]
   },
   "outputs": [
    {
     "name": "stdout",
     "output_type": "stream",
     "text": [
      "loss 0.294, train acc 0.875, test acc 0.849\n",
      "273.3 examples/sec on [device(type='cuda', index=0)]\n"
     ]
    },
    {
     "data": {
      "image/svg+xml": [
       "<?xml version=\"1.0\" encoding=\"utf-8\" standalone=\"no\"?>\n",
       "<!DOCTYPE svg PUBLIC \"-//W3C//DTD SVG 1.1//EN\"\n",
       "  \"http://www.w3.org/Graphics/SVG/1.1/DTD/svg11.dtd\">\n",
       "<!-- Created with matplotlib (https://matplotlib.org/) -->\n",
       "<svg height=\"184.455469pt\" version=\"1.1\" viewBox=\"0 0 235.784375 184.455469\" width=\"235.784375pt\" xmlns=\"http://www.w3.org/2000/svg\" xmlns:xlink=\"http://www.w3.org/1999/xlink\">\n",
       " <defs>\n",
       "  <style type=\"text/css\">\n",
       "*{stroke-linecap:butt;stroke-linejoin:round;}\n",
       "  </style>\n",
       " </defs>\n",
       " <g id=\"figure_1\">\n",
       "  <g id=\"patch_1\">\n",
       "   <path d=\"M 0 184.455469 \n",
       "L 235.784375 184.455469 \n",
       "L 235.784375 -0 \n",
       "L 0 -0 \n",
       "z\n",
       "\" style=\"fill:none;\"/>\n",
       "  </g>\n",
       "  <g id=\"axes_1\">\n",
       "   <g id=\"patch_2\">\n",
       "    <path d=\"M 30.103125 146.899219 \n",
       "L 225.403125 146.899219 \n",
       "L 225.403125 10.999219 \n",
       "L 30.103125 10.999219 \n",
       "z\n",
       "\" style=\"fill:#ffffff;\"/>\n",
       "   </g>\n",
       "   <g id=\"matplotlib.axis_1\">\n",
       "    <g id=\"xtick_1\">\n",
       "     <g id=\"line2d_1\">\n",
       "      <path clip-path=\"url(#p80346aa1f9)\" d=\"M 30.103125 146.899219 \n",
       "L 30.103125 10.999219 \n",
       "\" style=\"fill:none;stroke:#b0b0b0;stroke-linecap:square;stroke-width:0.8;\"/>\n",
       "     </g>\n",
       "     <g id=\"line2d_2\">\n",
       "      <defs>\n",
       "       <path d=\"M 0 0 \n",
       "L 0 3.5 \n",
       "\" id=\"m3a95eb21cf\" style=\"stroke:#000000;stroke-width:0.8;\"/>\n",
       "      </defs>\n",
       "      <g>\n",
       "       <use style=\"stroke:#000000;stroke-width:0.8;\" x=\"30.103125\" xlink:href=\"#m3a95eb21cf\" y=\"146.899219\"/>\n",
       "      </g>\n",
       "     </g>\n",
       "     <g id=\"text_1\">\n",
       "      <!-- 1 -->\n",
       "      <defs>\n",
       "       <path d=\"M 12.40625 8.296875 \n",
       "L 28.515625 8.296875 \n",
       "L 28.515625 63.921875 \n",
       "L 10.984375 60.40625 \n",
       "L 10.984375 69.390625 \n",
       "L 28.421875 72.90625 \n",
       "L 38.28125 72.90625 \n",
       "L 38.28125 8.296875 \n",
       "L 54.390625 8.296875 \n",
       "L 54.390625 0 \n",
       "L 12.40625 0 \n",
       "z\n",
       "\" id=\"DejaVuSans-49\"/>\n",
       "      </defs>\n",
       "      <g transform=\"translate(26.921875 161.497656)scale(0.1 -0.1)\">\n",
       "       <use xlink:href=\"#DejaVuSans-49\"/>\n",
       "      </g>\n",
       "     </g>\n",
       "    </g>\n",
       "    <g id=\"xtick_2\">\n",
       "     <g id=\"line2d_3\">\n",
       "      <path clip-path=\"url(#p80346aa1f9)\" d=\"M 78.928125 146.899219 \n",
       "L 78.928125 10.999219 \n",
       "\" style=\"fill:none;stroke:#b0b0b0;stroke-linecap:square;stroke-width:0.8;\"/>\n",
       "     </g>\n",
       "     <g id=\"line2d_4\">\n",
       "      <g>\n",
       "       <use style=\"stroke:#000000;stroke-width:0.8;\" x=\"78.928125\" xlink:href=\"#m3a95eb21cf\" y=\"146.899219\"/>\n",
       "      </g>\n",
       "     </g>\n",
       "     <g id=\"text_2\">\n",
       "      <!-- 2 -->\n",
       "      <defs>\n",
       "       <path d=\"M 19.1875 8.296875 \n",
       "L 53.609375 8.296875 \n",
       "L 53.609375 0 \n",
       "L 7.328125 0 \n",
       "L 7.328125 8.296875 \n",
       "Q 12.9375 14.109375 22.625 23.890625 \n",
       "Q 32.328125 33.6875 34.8125 36.53125 \n",
       "Q 39.546875 41.84375 41.421875 45.53125 \n",
       "Q 43.3125 49.21875 43.3125 52.78125 \n",
       "Q 43.3125 58.59375 39.234375 62.25 \n",
       "Q 35.15625 65.921875 28.609375 65.921875 \n",
       "Q 23.96875 65.921875 18.8125 64.3125 \n",
       "Q 13.671875 62.703125 7.8125 59.421875 \n",
       "L 7.8125 69.390625 \n",
       "Q 13.765625 71.78125 18.9375 73 \n",
       "Q 24.125 74.21875 28.421875 74.21875 \n",
       "Q 39.75 74.21875 46.484375 68.546875 \n",
       "Q 53.21875 62.890625 53.21875 53.421875 \n",
       "Q 53.21875 48.921875 51.53125 44.890625 \n",
       "Q 49.859375 40.875 45.40625 35.40625 \n",
       "Q 44.1875 33.984375 37.640625 27.21875 \n",
       "Q 31.109375 20.453125 19.1875 8.296875 \n",
       "z\n",
       "\" id=\"DejaVuSans-50\"/>\n",
       "      </defs>\n",
       "      <g transform=\"translate(75.746875 161.497656)scale(0.1 -0.1)\">\n",
       "       <use xlink:href=\"#DejaVuSans-50\"/>\n",
       "      </g>\n",
       "     </g>\n",
       "    </g>\n",
       "    <g id=\"xtick_3\">\n",
       "     <g id=\"line2d_5\">\n",
       "      <path clip-path=\"url(#p80346aa1f9)\" d=\"M 127.753125 146.899219 \n",
       "L 127.753125 10.999219 \n",
       "\" style=\"fill:none;stroke:#b0b0b0;stroke-linecap:square;stroke-width:0.8;\"/>\n",
       "     </g>\n",
       "     <g id=\"line2d_6\">\n",
       "      <g>\n",
       "       <use style=\"stroke:#000000;stroke-width:0.8;\" x=\"127.753125\" xlink:href=\"#m3a95eb21cf\" y=\"146.899219\"/>\n",
       "      </g>\n",
       "     </g>\n",
       "     <g id=\"text_3\">\n",
       "      <!-- 3 -->\n",
       "      <defs>\n",
       "       <path d=\"M 40.578125 39.3125 \n",
       "Q 47.65625 37.796875 51.625 33 \n",
       "Q 55.609375 28.21875 55.609375 21.1875 \n",
       "Q 55.609375 10.40625 48.1875 4.484375 \n",
       "Q 40.765625 -1.421875 27.09375 -1.421875 \n",
       "Q 22.515625 -1.421875 17.65625 -0.515625 \n",
       "Q 12.796875 0.390625 7.625 2.203125 \n",
       "L 7.625 11.71875 \n",
       "Q 11.71875 9.328125 16.59375 8.109375 \n",
       "Q 21.484375 6.890625 26.8125 6.890625 \n",
       "Q 36.078125 6.890625 40.9375 10.546875 \n",
       "Q 45.796875 14.203125 45.796875 21.1875 \n",
       "Q 45.796875 27.640625 41.28125 31.265625 \n",
       "Q 36.765625 34.90625 28.71875 34.90625 \n",
       "L 20.21875 34.90625 \n",
       "L 20.21875 43.015625 \n",
       "L 29.109375 43.015625 \n",
       "Q 36.375 43.015625 40.234375 45.921875 \n",
       "Q 44.09375 48.828125 44.09375 54.296875 \n",
       "Q 44.09375 59.90625 40.109375 62.90625 \n",
       "Q 36.140625 65.921875 28.71875 65.921875 \n",
       "Q 24.65625 65.921875 20.015625 65.03125 \n",
       "Q 15.375 64.15625 9.8125 62.3125 \n",
       "L 9.8125 71.09375 \n",
       "Q 15.4375 72.65625 20.34375 73.4375 \n",
       "Q 25.25 74.21875 29.59375 74.21875 \n",
       "Q 40.828125 74.21875 47.359375 69.109375 \n",
       "Q 53.90625 64.015625 53.90625 55.328125 \n",
       "Q 53.90625 49.265625 50.4375 45.09375 \n",
       "Q 46.96875 40.921875 40.578125 39.3125 \n",
       "z\n",
       "\" id=\"DejaVuSans-51\"/>\n",
       "      </defs>\n",
       "      <g transform=\"translate(124.571875 161.497656)scale(0.1 -0.1)\">\n",
       "       <use xlink:href=\"#DejaVuSans-51\"/>\n",
       "      </g>\n",
       "     </g>\n",
       "    </g>\n",
       "    <g id=\"xtick_4\">\n",
       "     <g id=\"line2d_7\">\n",
       "      <path clip-path=\"url(#p80346aa1f9)\" d=\"M 176.578125 146.899219 \n",
       "L 176.578125 10.999219 \n",
       "\" style=\"fill:none;stroke:#b0b0b0;stroke-linecap:square;stroke-width:0.8;\"/>\n",
       "     </g>\n",
       "     <g id=\"line2d_8\">\n",
       "      <g>\n",
       "       <use style=\"stroke:#000000;stroke-width:0.8;\" x=\"176.578125\" xlink:href=\"#m3a95eb21cf\" y=\"146.899219\"/>\n",
       "      </g>\n",
       "     </g>\n",
       "     <g id=\"text_4\">\n",
       "      <!-- 4 -->\n",
       "      <defs>\n",
       "       <path d=\"M 37.796875 64.3125 \n",
       "L 12.890625 25.390625 \n",
       "L 37.796875 25.390625 \n",
       "z\n",
       "M 35.203125 72.90625 \n",
       "L 47.609375 72.90625 \n",
       "L 47.609375 25.390625 \n",
       "L 58.015625 25.390625 \n",
       "L 58.015625 17.1875 \n",
       "L 47.609375 17.1875 \n",
       "L 47.609375 0 \n",
       "L 37.796875 0 \n",
       "L 37.796875 17.1875 \n",
       "L 4.890625 17.1875 \n",
       "L 4.890625 26.703125 \n",
       "z\n",
       "\" id=\"DejaVuSans-52\"/>\n",
       "      </defs>\n",
       "      <g transform=\"translate(173.396875 161.497656)scale(0.1 -0.1)\">\n",
       "       <use xlink:href=\"#DejaVuSans-52\"/>\n",
       "      </g>\n",
       "     </g>\n",
       "    </g>\n",
       "    <g id=\"xtick_5\">\n",
       "     <g id=\"line2d_9\">\n",
       "      <path clip-path=\"url(#p80346aa1f9)\" d=\"M 225.403125 146.899219 \n",
       "L 225.403125 10.999219 \n",
       "\" style=\"fill:none;stroke:#b0b0b0;stroke-linecap:square;stroke-width:0.8;\"/>\n",
       "     </g>\n",
       "     <g id=\"line2d_10\">\n",
       "      <g>\n",
       "       <use style=\"stroke:#000000;stroke-width:0.8;\" x=\"225.403125\" xlink:href=\"#m3a95eb21cf\" y=\"146.899219\"/>\n",
       "      </g>\n",
       "     </g>\n",
       "     <g id=\"text_5\">\n",
       "      <!-- 5 -->\n",
       "      <defs>\n",
       "       <path d=\"M 10.796875 72.90625 \n",
       "L 49.515625 72.90625 \n",
       "L 49.515625 64.59375 \n",
       "L 19.828125 64.59375 \n",
       "L 19.828125 46.734375 \n",
       "Q 21.96875 47.46875 24.109375 47.828125 \n",
       "Q 26.265625 48.1875 28.421875 48.1875 \n",
       "Q 40.625 48.1875 47.75 41.5 \n",
       "Q 54.890625 34.8125 54.890625 23.390625 \n",
       "Q 54.890625 11.625 47.5625 5.09375 \n",
       "Q 40.234375 -1.421875 26.90625 -1.421875 \n",
       "Q 22.3125 -1.421875 17.546875 -0.640625 \n",
       "Q 12.796875 0.140625 7.71875 1.703125 \n",
       "L 7.71875 11.625 \n",
       "Q 12.109375 9.234375 16.796875 8.0625 \n",
       "Q 21.484375 6.890625 26.703125 6.890625 \n",
       "Q 35.15625 6.890625 40.078125 11.328125 \n",
       "Q 45.015625 15.765625 45.015625 23.390625 \n",
       "Q 45.015625 31 40.078125 35.4375 \n",
       "Q 35.15625 39.890625 26.703125 39.890625 \n",
       "Q 22.75 39.890625 18.8125 39.015625 \n",
       "Q 14.890625 38.140625 10.796875 36.28125 \n",
       "z\n",
       "\" id=\"DejaVuSans-53\"/>\n",
       "      </defs>\n",
       "      <g transform=\"translate(222.221875 161.497656)scale(0.1 -0.1)\">\n",
       "       <use xlink:href=\"#DejaVuSans-53\"/>\n",
       "      </g>\n",
       "     </g>\n",
       "    </g>\n",
       "    <g id=\"text_6\">\n",
       "     <!-- epoch -->\n",
       "     <defs>\n",
       "      <path d=\"M 56.203125 29.59375 \n",
       "L 56.203125 25.203125 \n",
       "L 14.890625 25.203125 \n",
       "Q 15.484375 15.921875 20.484375 11.0625 \n",
       "Q 25.484375 6.203125 34.421875 6.203125 \n",
       "Q 39.59375 6.203125 44.453125 7.46875 \n",
       "Q 49.3125 8.734375 54.109375 11.28125 \n",
       "L 54.109375 2.78125 \n",
       "Q 49.265625 0.734375 44.1875 -0.34375 \n",
       "Q 39.109375 -1.421875 33.890625 -1.421875 \n",
       "Q 20.796875 -1.421875 13.15625 6.1875 \n",
       "Q 5.515625 13.8125 5.515625 26.8125 \n",
       "Q 5.515625 40.234375 12.765625 48.109375 \n",
       "Q 20.015625 56 32.328125 56 \n",
       "Q 43.359375 56 49.78125 48.890625 \n",
       "Q 56.203125 41.796875 56.203125 29.59375 \n",
       "z\n",
       "M 47.21875 32.234375 \n",
       "Q 47.125 39.59375 43.09375 43.984375 \n",
       "Q 39.0625 48.390625 32.421875 48.390625 \n",
       "Q 24.90625 48.390625 20.390625 44.140625 \n",
       "Q 15.875 39.890625 15.1875 32.171875 \n",
       "z\n",
       "\" id=\"DejaVuSans-101\"/>\n",
       "      <path d=\"M 18.109375 8.203125 \n",
       "L 18.109375 -20.796875 \n",
       "L 9.078125 -20.796875 \n",
       "L 9.078125 54.6875 \n",
       "L 18.109375 54.6875 \n",
       "L 18.109375 46.390625 \n",
       "Q 20.953125 51.265625 25.265625 53.625 \n",
       "Q 29.59375 56 35.59375 56 \n",
       "Q 45.5625 56 51.78125 48.09375 \n",
       "Q 58.015625 40.1875 58.015625 27.296875 \n",
       "Q 58.015625 14.40625 51.78125 6.484375 \n",
       "Q 45.5625 -1.421875 35.59375 -1.421875 \n",
       "Q 29.59375 -1.421875 25.265625 0.953125 \n",
       "Q 20.953125 3.328125 18.109375 8.203125 \n",
       "z\n",
       "M 48.6875 27.296875 \n",
       "Q 48.6875 37.203125 44.609375 42.84375 \n",
       "Q 40.53125 48.484375 33.40625 48.484375 \n",
       "Q 26.265625 48.484375 22.1875 42.84375 \n",
       "Q 18.109375 37.203125 18.109375 27.296875 \n",
       "Q 18.109375 17.390625 22.1875 11.75 \n",
       "Q 26.265625 6.109375 33.40625 6.109375 \n",
       "Q 40.53125 6.109375 44.609375 11.75 \n",
       "Q 48.6875 17.390625 48.6875 27.296875 \n",
       "z\n",
       "\" id=\"DejaVuSans-112\"/>\n",
       "      <path d=\"M 30.609375 48.390625 \n",
       "Q 23.390625 48.390625 19.1875 42.75 \n",
       "Q 14.984375 37.109375 14.984375 27.296875 \n",
       "Q 14.984375 17.484375 19.15625 11.84375 \n",
       "Q 23.34375 6.203125 30.609375 6.203125 \n",
       "Q 37.796875 6.203125 41.984375 11.859375 \n",
       "Q 46.1875 17.53125 46.1875 27.296875 \n",
       "Q 46.1875 37.015625 41.984375 42.703125 \n",
       "Q 37.796875 48.390625 30.609375 48.390625 \n",
       "z\n",
       "M 30.609375 56 \n",
       "Q 42.328125 56 49.015625 48.375 \n",
       "Q 55.71875 40.765625 55.71875 27.296875 \n",
       "Q 55.71875 13.875 49.015625 6.21875 \n",
       "Q 42.328125 -1.421875 30.609375 -1.421875 \n",
       "Q 18.84375 -1.421875 12.171875 6.21875 \n",
       "Q 5.515625 13.875 5.515625 27.296875 \n",
       "Q 5.515625 40.765625 12.171875 48.375 \n",
       "Q 18.84375 56 30.609375 56 \n",
       "z\n",
       "\" id=\"DejaVuSans-111\"/>\n",
       "      <path d=\"M 48.78125 52.59375 \n",
       "L 48.78125 44.1875 \n",
       "Q 44.96875 46.296875 41.140625 47.34375 \n",
       "Q 37.3125 48.390625 33.40625 48.390625 \n",
       "Q 24.65625 48.390625 19.8125 42.84375 \n",
       "Q 14.984375 37.3125 14.984375 27.296875 \n",
       "Q 14.984375 17.28125 19.8125 11.734375 \n",
       "Q 24.65625 6.203125 33.40625 6.203125 \n",
       "Q 37.3125 6.203125 41.140625 7.25 \n",
       "Q 44.96875 8.296875 48.78125 10.40625 \n",
       "L 48.78125 2.09375 \n",
       "Q 45.015625 0.34375 40.984375 -0.53125 \n",
       "Q 36.96875 -1.421875 32.421875 -1.421875 \n",
       "Q 20.0625 -1.421875 12.78125 6.34375 \n",
       "Q 5.515625 14.109375 5.515625 27.296875 \n",
       "Q 5.515625 40.671875 12.859375 48.328125 \n",
       "Q 20.21875 56 33.015625 56 \n",
       "Q 37.15625 56 41.109375 55.140625 \n",
       "Q 45.0625 54.296875 48.78125 52.59375 \n",
       "z\n",
       "\" id=\"DejaVuSans-99\"/>\n",
       "      <path d=\"M 54.890625 33.015625 \n",
       "L 54.890625 0 \n",
       "L 45.90625 0 \n",
       "L 45.90625 32.71875 \n",
       "Q 45.90625 40.484375 42.875 44.328125 \n",
       "Q 39.84375 48.1875 33.796875 48.1875 \n",
       "Q 26.515625 48.1875 22.3125 43.546875 \n",
       "Q 18.109375 38.921875 18.109375 30.90625 \n",
       "L 18.109375 0 \n",
       "L 9.078125 0 \n",
       "L 9.078125 75.984375 \n",
       "L 18.109375 75.984375 \n",
       "L 18.109375 46.1875 \n",
       "Q 21.34375 51.125 25.703125 53.5625 \n",
       "Q 30.078125 56 35.796875 56 \n",
       "Q 45.21875 56 50.046875 50.171875 \n",
       "Q 54.890625 44.34375 54.890625 33.015625 \n",
       "z\n",
       "\" id=\"DejaVuSans-104\"/>\n",
       "     </defs>\n",
       "     <g transform=\"translate(112.525 175.175781)scale(0.1 -0.1)\">\n",
       "      <use xlink:href=\"#DejaVuSans-101\"/>\n",
       "      <use x=\"61.523438\" xlink:href=\"#DejaVuSans-112\"/>\n",
       "      <use x=\"125\" xlink:href=\"#DejaVuSans-111\"/>\n",
       "      <use x=\"186.181641\" xlink:href=\"#DejaVuSans-99\"/>\n",
       "      <use x=\"241.162109\" xlink:href=\"#DejaVuSans-104\"/>\n",
       "     </g>\n",
       "    </g>\n",
       "   </g>\n",
       "   <g id=\"matplotlib.axis_2\">\n",
       "    <g id=\"ytick_1\">\n",
       "     <g id=\"line2d_11\">\n",
       "      <path clip-path=\"url(#p80346aa1f9)\" d=\"M 30.103125 146.899219 \n",
       "L 225.403125 146.899219 \n",
       "\" style=\"fill:none;stroke:#b0b0b0;stroke-linecap:square;stroke-width:0.8;\"/>\n",
       "     </g>\n",
       "     <g id=\"line2d_12\">\n",
       "      <defs>\n",
       "       <path d=\"M 0 0 \n",
       "L -3.5 0 \n",
       "\" id=\"m27799b3e61\" style=\"stroke:#000000;stroke-width:0.8;\"/>\n",
       "      </defs>\n",
       "      <g>\n",
       "       <use style=\"stroke:#000000;stroke-width:0.8;\" x=\"30.103125\" xlink:href=\"#m27799b3e61\" y=\"146.899219\"/>\n",
       "      </g>\n",
       "     </g>\n",
       "     <g id=\"text_7\">\n",
       "      <!-- 0.0 -->\n",
       "      <defs>\n",
       "       <path d=\"M 31.78125 66.40625 \n",
       "Q 24.171875 66.40625 20.328125 58.90625 \n",
       "Q 16.5 51.421875 16.5 36.375 \n",
       "Q 16.5 21.390625 20.328125 13.890625 \n",
       "Q 24.171875 6.390625 31.78125 6.390625 \n",
       "Q 39.453125 6.390625 43.28125 13.890625 \n",
       "Q 47.125 21.390625 47.125 36.375 \n",
       "Q 47.125 51.421875 43.28125 58.90625 \n",
       "Q 39.453125 66.40625 31.78125 66.40625 \n",
       "z\n",
       "M 31.78125 74.21875 \n",
       "Q 44.046875 74.21875 50.515625 64.515625 \n",
       "Q 56.984375 54.828125 56.984375 36.375 \n",
       "Q 56.984375 17.96875 50.515625 8.265625 \n",
       "Q 44.046875 -1.421875 31.78125 -1.421875 \n",
       "Q 19.53125 -1.421875 13.0625 8.265625 \n",
       "Q 6.59375 17.96875 6.59375 36.375 \n",
       "Q 6.59375 54.828125 13.0625 64.515625 \n",
       "Q 19.53125 74.21875 31.78125 74.21875 \n",
       "z\n",
       "\" id=\"DejaVuSans-48\"/>\n",
       "       <path d=\"M 10.6875 12.40625 \n",
       "L 21 12.40625 \n",
       "L 21 0 \n",
       "L 10.6875 0 \n",
       "z\n",
       "\" id=\"DejaVuSans-46\"/>\n",
       "      </defs>\n",
       "      <g transform=\"translate(7.2 150.698437)scale(0.1 -0.1)\">\n",
       "       <use xlink:href=\"#DejaVuSans-48\"/>\n",
       "       <use x=\"63.623047\" xlink:href=\"#DejaVuSans-46\"/>\n",
       "       <use x=\"95.410156\" xlink:href=\"#DejaVuSans-48\"/>\n",
       "      </g>\n",
       "     </g>\n",
       "    </g>\n",
       "    <g id=\"ytick_2\">\n",
       "     <g id=\"line2d_13\">\n",
       "      <path clip-path=\"url(#p80346aa1f9)\" d=\"M 30.103125 119.719219 \n",
       "L 225.403125 119.719219 \n",
       "\" style=\"fill:none;stroke:#b0b0b0;stroke-linecap:square;stroke-width:0.8;\"/>\n",
       "     </g>\n",
       "     <g id=\"line2d_14\">\n",
       "      <g>\n",
       "       <use style=\"stroke:#000000;stroke-width:0.8;\" x=\"30.103125\" xlink:href=\"#m27799b3e61\" y=\"119.719219\"/>\n",
       "      </g>\n",
       "     </g>\n",
       "     <g id=\"text_8\">\n",
       "      <!-- 0.2 -->\n",
       "      <g transform=\"translate(7.2 123.518437)scale(0.1 -0.1)\">\n",
       "       <use xlink:href=\"#DejaVuSans-48\"/>\n",
       "       <use x=\"63.623047\" xlink:href=\"#DejaVuSans-46\"/>\n",
       "       <use x=\"95.410156\" xlink:href=\"#DejaVuSans-50\"/>\n",
       "      </g>\n",
       "     </g>\n",
       "    </g>\n",
       "    <g id=\"ytick_3\">\n",
       "     <g id=\"line2d_15\">\n",
       "      <path clip-path=\"url(#p80346aa1f9)\" d=\"M 30.103125 92.539219 \n",
       "L 225.403125 92.539219 \n",
       "\" style=\"fill:none;stroke:#b0b0b0;stroke-linecap:square;stroke-width:0.8;\"/>\n",
       "     </g>\n",
       "     <g id=\"line2d_16\">\n",
       "      <g>\n",
       "       <use style=\"stroke:#000000;stroke-width:0.8;\" x=\"30.103125\" xlink:href=\"#m27799b3e61\" y=\"92.539219\"/>\n",
       "      </g>\n",
       "     </g>\n",
       "     <g id=\"text_9\">\n",
       "      <!-- 0.4 -->\n",
       "      <g transform=\"translate(7.2 96.338437)scale(0.1 -0.1)\">\n",
       "       <use xlink:href=\"#DejaVuSans-48\"/>\n",
       "       <use x=\"63.623047\" xlink:href=\"#DejaVuSans-46\"/>\n",
       "       <use x=\"95.410156\" xlink:href=\"#DejaVuSans-52\"/>\n",
       "      </g>\n",
       "     </g>\n",
       "    </g>\n",
       "    <g id=\"ytick_4\">\n",
       "     <g id=\"line2d_17\">\n",
       "      <path clip-path=\"url(#p80346aa1f9)\" d=\"M 30.103125 65.359219 \n",
       "L 225.403125 65.359219 \n",
       "\" style=\"fill:none;stroke:#b0b0b0;stroke-linecap:square;stroke-width:0.8;\"/>\n",
       "     </g>\n",
       "     <g id=\"line2d_18\">\n",
       "      <g>\n",
       "       <use style=\"stroke:#000000;stroke-width:0.8;\" x=\"30.103125\" xlink:href=\"#m27799b3e61\" y=\"65.359219\"/>\n",
       "      </g>\n",
       "     </g>\n",
       "     <g id=\"text_10\">\n",
       "      <!-- 0.6 -->\n",
       "      <defs>\n",
       "       <path d=\"M 33.015625 40.375 \n",
       "Q 26.375 40.375 22.484375 35.828125 \n",
       "Q 18.609375 31.296875 18.609375 23.390625 \n",
       "Q 18.609375 15.53125 22.484375 10.953125 \n",
       "Q 26.375 6.390625 33.015625 6.390625 \n",
       "Q 39.65625 6.390625 43.53125 10.953125 \n",
       "Q 47.40625 15.53125 47.40625 23.390625 \n",
       "Q 47.40625 31.296875 43.53125 35.828125 \n",
       "Q 39.65625 40.375 33.015625 40.375 \n",
       "z\n",
       "M 52.59375 71.296875 \n",
       "L 52.59375 62.3125 \n",
       "Q 48.875 64.0625 45.09375 64.984375 \n",
       "Q 41.3125 65.921875 37.59375 65.921875 \n",
       "Q 27.828125 65.921875 22.671875 59.328125 \n",
       "Q 17.53125 52.734375 16.796875 39.40625 \n",
       "Q 19.671875 43.65625 24.015625 45.921875 \n",
       "Q 28.375 48.1875 33.59375 48.1875 \n",
       "Q 44.578125 48.1875 50.953125 41.515625 \n",
       "Q 57.328125 34.859375 57.328125 23.390625 \n",
       "Q 57.328125 12.15625 50.6875 5.359375 \n",
       "Q 44.046875 -1.421875 33.015625 -1.421875 \n",
       "Q 20.359375 -1.421875 13.671875 8.265625 \n",
       "Q 6.984375 17.96875 6.984375 36.375 \n",
       "Q 6.984375 53.65625 15.1875 63.9375 \n",
       "Q 23.390625 74.21875 37.203125 74.21875 \n",
       "Q 40.921875 74.21875 44.703125 73.484375 \n",
       "Q 48.484375 72.75 52.59375 71.296875 \n",
       "z\n",
       "\" id=\"DejaVuSans-54\"/>\n",
       "      </defs>\n",
       "      <g transform=\"translate(7.2 69.158437)scale(0.1 -0.1)\">\n",
       "       <use xlink:href=\"#DejaVuSans-48\"/>\n",
       "       <use x=\"63.623047\" xlink:href=\"#DejaVuSans-46\"/>\n",
       "       <use x=\"95.410156\" xlink:href=\"#DejaVuSans-54\"/>\n",
       "      </g>\n",
       "     </g>\n",
       "    </g>\n",
       "    <g id=\"ytick_5\">\n",
       "     <g id=\"line2d_19\">\n",
       "      <path clip-path=\"url(#p80346aa1f9)\" d=\"M 30.103125 38.179219 \n",
       "L 225.403125 38.179219 \n",
       "\" style=\"fill:none;stroke:#b0b0b0;stroke-linecap:square;stroke-width:0.8;\"/>\n",
       "     </g>\n",
       "     <g id=\"line2d_20\">\n",
       "      <g>\n",
       "       <use style=\"stroke:#000000;stroke-width:0.8;\" x=\"30.103125\" xlink:href=\"#m27799b3e61\" y=\"38.179219\"/>\n",
       "      </g>\n",
       "     </g>\n",
       "     <g id=\"text_11\">\n",
       "      <!-- 0.8 -->\n",
       "      <defs>\n",
       "       <path d=\"M 31.78125 34.625 \n",
       "Q 24.75 34.625 20.71875 30.859375 \n",
       "Q 16.703125 27.09375 16.703125 20.515625 \n",
       "Q 16.703125 13.921875 20.71875 10.15625 \n",
       "Q 24.75 6.390625 31.78125 6.390625 \n",
       "Q 38.8125 6.390625 42.859375 10.171875 \n",
       "Q 46.921875 13.96875 46.921875 20.515625 \n",
       "Q 46.921875 27.09375 42.890625 30.859375 \n",
       "Q 38.875 34.625 31.78125 34.625 \n",
       "z\n",
       "M 21.921875 38.8125 \n",
       "Q 15.578125 40.375 12.03125 44.71875 \n",
       "Q 8.5 49.078125 8.5 55.328125 \n",
       "Q 8.5 64.0625 14.71875 69.140625 \n",
       "Q 20.953125 74.21875 31.78125 74.21875 \n",
       "Q 42.671875 74.21875 48.875 69.140625 \n",
       "Q 55.078125 64.0625 55.078125 55.328125 \n",
       "Q 55.078125 49.078125 51.53125 44.71875 \n",
       "Q 48 40.375 41.703125 38.8125 \n",
       "Q 48.828125 37.15625 52.796875 32.3125 \n",
       "Q 56.78125 27.484375 56.78125 20.515625 \n",
       "Q 56.78125 9.90625 50.3125 4.234375 \n",
       "Q 43.84375 -1.421875 31.78125 -1.421875 \n",
       "Q 19.734375 -1.421875 13.25 4.234375 \n",
       "Q 6.78125 9.90625 6.78125 20.515625 \n",
       "Q 6.78125 27.484375 10.78125 32.3125 \n",
       "Q 14.796875 37.15625 21.921875 38.8125 \n",
       "z\n",
       "M 18.3125 54.390625 \n",
       "Q 18.3125 48.734375 21.84375 45.5625 \n",
       "Q 25.390625 42.390625 31.78125 42.390625 \n",
       "Q 38.140625 42.390625 41.71875 45.5625 \n",
       "Q 45.3125 48.734375 45.3125 54.390625 \n",
       "Q 45.3125 60.0625 41.71875 63.234375 \n",
       "Q 38.140625 66.40625 31.78125 66.40625 \n",
       "Q 25.390625 66.40625 21.84375 63.234375 \n",
       "Q 18.3125 60.0625 18.3125 54.390625 \n",
       "z\n",
       "\" id=\"DejaVuSans-56\"/>\n",
       "      </defs>\n",
       "      <g transform=\"translate(7.2 41.978437)scale(0.1 -0.1)\">\n",
       "       <use xlink:href=\"#DejaVuSans-48\"/>\n",
       "       <use x=\"63.623047\" xlink:href=\"#DejaVuSans-46\"/>\n",
       "       <use x=\"95.410156\" xlink:href=\"#DejaVuSans-56\"/>\n",
       "      </g>\n",
       "     </g>\n",
       "    </g>\n",
       "    <g id=\"ytick_6\">\n",
       "     <g id=\"line2d_21\">\n",
       "      <path clip-path=\"url(#p80346aa1f9)\" d=\"M 30.103125 10.999219 \n",
       "L 225.403125 10.999219 \n",
       "\" style=\"fill:none;stroke:#b0b0b0;stroke-linecap:square;stroke-width:0.8;\"/>\n",
       "     </g>\n",
       "     <g id=\"line2d_22\">\n",
       "      <g>\n",
       "       <use style=\"stroke:#000000;stroke-width:0.8;\" x=\"30.103125\" xlink:href=\"#m27799b3e61\" y=\"10.999219\"/>\n",
       "      </g>\n",
       "     </g>\n",
       "     <g id=\"text_12\">\n",
       "      <!-- 1.0 -->\n",
       "      <g transform=\"translate(7.2 14.798437)scale(0.1 -0.1)\">\n",
       "       <use xlink:href=\"#DejaVuSans-49\"/>\n",
       "       <use x=\"63.623047\" xlink:href=\"#DejaVuSans-46\"/>\n",
       "       <use x=\"95.410156\" xlink:href=\"#DejaVuSans-48\"/>\n",
       "      </g>\n",
       "     </g>\n",
       "    </g>\n",
       "   </g>\n",
       "   <g id=\"line2d_23\">\n",
       "    <path clip-path=\"url(#p80346aa1f9)\" d=\"M -1 52.427834 \n",
       "L 0.758176 52.722263 \n",
       "L 10.498202 55.773302 \n",
       "L 20.238227 60.838355 \n",
       "L 29.978253 65.670674 \n",
       "L 30.103125 65.699767 \n",
       "L 39.843151 93.335127 \n",
       "L 49.583176 90.144877 \n",
       "L 59.323202 90.469088 \n",
       "L 69.063227 91.260586 \n",
       "L 78.803253 92.334047 \n",
       "L 78.928125 92.365148 \n",
       "L 88.668151 96.266062 \n",
       "L 98.408176 97.746705 \n",
       "L 108.148202 98.481841 \n",
       "L 117.888227 98.755623 \n",
       "L 127.628253 98.940023 \n",
       "L 127.753125 98.952612 \n",
       "L 137.493151 101.786169 \n",
       "L 147.233176 102.986859 \n",
       "L 156.973202 102.967694 \n",
       "L 166.713227 102.809462 \n",
       "L 176.453253 102.608191 \n",
       "L 176.578125 102.581509 \n",
       "L 186.318151 108.58768 \n",
       "L 196.058176 107.352439 \n",
       "L 205.798202 106.844477 \n",
       "L 215.538227 106.563431 \n",
       "L 225.278253 106.90177 \n",
       "L 225.403125 106.895857 \n",
       "\" style=\"fill:none;stroke:#1f77b4;stroke-linecap:square;stroke-width:1.5;\"/>\n",
       "   </g>\n",
       "   <g id=\"line2d_24\">\n",
       "    <path clip-path=\"url(#p80346aa1f9)\" d=\"M -1 74.535478 \n",
       "L 0.758176 74.048978 \n",
       "L 10.498202 69.175962 \n",
       "L 20.238227 63.479432 \n",
       "L 29.978253 58.53155 \n",
       "L 30.103125 58.498987 \n",
       "L 39.843151 35.282632 \n",
       "L 49.583176 36.698257 \n",
       "L 59.323202 36.416947 \n",
       "L 69.063227 36.024474 \n",
       "L 78.803253 35.440529 \n",
       "L 78.928125 35.423167 \n",
       "L 88.668151 32.832512 \n",
       "L 98.408176 32.274429 \n",
       "L 108.148202 31.943209 \n",
       "L 117.888227 31.82524 \n",
       "L 127.628253 31.678233 \n",
       "L 127.753125 31.666891 \n",
       "L 137.493151 30.545733 \n",
       "L 147.233176 29.919591 \n",
       "L 156.973202 30.010337 \n",
       "L 166.713227 30.13738 \n",
       "L 176.453253 30.121046 \n",
       "L 176.578125 30.139375 \n",
       "L 186.318151 26.897776 \n",
       "L 196.058176 27.53753 \n",
       "L 205.798202 27.841526 \n",
       "L 215.538227 28.027554 \n",
       "L 225.278253 27.943161 \n",
       "L 225.403125 27.948667 \n",
       "\" style=\"fill:none;stroke:#bf00bf;stroke-dasharray:5.55,2.4;stroke-dashoffset:0;stroke-width:1.5;\"/>\n",
       "   </g>\n",
       "   <g id=\"line2d_25\">\n",
       "    <path clip-path=\"url(#p80346aa1f9)\" d=\"M 30.103125 36.673447 \n",
       "L 78.928125 33.727135 \n",
       "L 127.753125 31.117855 \n",
       "L 176.578125 31.253755 \n",
       "L 225.403125 31.536427 \n",
       "\" style=\"fill:none;stroke:#008000;stroke-dasharray:9.6,2.4,1.5,2.4;stroke-dashoffset:0;stroke-width:1.5;\"/>\n",
       "   </g>\n",
       "   <g id=\"patch_3\">\n",
       "    <path d=\"M 30.103125 146.899219 \n",
       "L 30.103125 10.999219 \n",
       "\" style=\"fill:none;stroke:#000000;stroke-linecap:square;stroke-linejoin:miter;stroke-width:0.8;\"/>\n",
       "   </g>\n",
       "   <g id=\"patch_4\">\n",
       "    <path d=\"M 225.403125 146.899219 \n",
       "L 225.403125 10.999219 \n",
       "\" style=\"fill:none;stroke:#000000;stroke-linecap:square;stroke-linejoin:miter;stroke-width:0.8;\"/>\n",
       "   </g>\n",
       "   <g id=\"patch_5\">\n",
       "    <path d=\"M 30.103125 146.899219 \n",
       "L 225.403125 146.899219 \n",
       "\" style=\"fill:none;stroke:#000000;stroke-linecap:square;stroke-linejoin:miter;stroke-width:0.8;\"/>\n",
       "   </g>\n",
       "   <g id=\"patch_6\">\n",
       "    <path d=\"M 30.103125 10.999219 \n",
       "L 225.403125 10.999219 \n",
       "\" style=\"fill:none;stroke:#000000;stroke-linecap:square;stroke-linejoin:miter;stroke-width:0.8;\"/>\n",
       "   </g>\n",
       "   <g id=\"legend_1\">\n",
       "    <g id=\"patch_7\">\n",
       "     <path d=\"M 140.634375 102.466406 \n",
       "L 218.403125 102.466406 \n",
       "Q 220.403125 102.466406 220.403125 100.466406 \n",
       "L 220.403125 57.432031 \n",
       "Q 220.403125 55.432031 218.403125 55.432031 \n",
       "L 140.634375 55.432031 \n",
       "Q 138.634375 55.432031 138.634375 57.432031 \n",
       "L 138.634375 100.466406 \n",
       "Q 138.634375 102.466406 140.634375 102.466406 \n",
       "z\n",
       "\" style=\"fill:#ffffff;opacity:0.8;stroke:#cccccc;stroke-linejoin:miter;\"/>\n",
       "    </g>\n",
       "    <g id=\"line2d_26\">\n",
       "     <path d=\"M 142.634375 63.530469 \n",
       "L 162.634375 63.530469 \n",
       "\" style=\"fill:none;stroke:#1f77b4;stroke-linecap:square;stroke-width:1.5;\"/>\n",
       "    </g>\n",
       "    <g id=\"line2d_27\"/>\n",
       "    <g id=\"text_13\">\n",
       "     <!-- train loss -->\n",
       "     <defs>\n",
       "      <path d=\"M 18.3125 70.21875 \n",
       "L 18.3125 54.6875 \n",
       "L 36.8125 54.6875 \n",
       "L 36.8125 47.703125 \n",
       "L 18.3125 47.703125 \n",
       "L 18.3125 18.015625 \n",
       "Q 18.3125 11.328125 20.140625 9.421875 \n",
       "Q 21.96875 7.515625 27.59375 7.515625 \n",
       "L 36.8125 7.515625 \n",
       "L 36.8125 0 \n",
       "L 27.59375 0 \n",
       "Q 17.1875 0 13.234375 3.875 \n",
       "Q 9.28125 7.765625 9.28125 18.015625 \n",
       "L 9.28125 47.703125 \n",
       "L 2.6875 47.703125 \n",
       "L 2.6875 54.6875 \n",
       "L 9.28125 54.6875 \n",
       "L 9.28125 70.21875 \n",
       "z\n",
       "\" id=\"DejaVuSans-116\"/>\n",
       "      <path d=\"M 41.109375 46.296875 \n",
       "Q 39.59375 47.171875 37.8125 47.578125 \n",
       "Q 36.03125 48 33.890625 48 \n",
       "Q 26.265625 48 22.1875 43.046875 \n",
       "Q 18.109375 38.09375 18.109375 28.8125 \n",
       "L 18.109375 0 \n",
       "L 9.078125 0 \n",
       "L 9.078125 54.6875 \n",
       "L 18.109375 54.6875 \n",
       "L 18.109375 46.1875 \n",
       "Q 20.953125 51.171875 25.484375 53.578125 \n",
       "Q 30.03125 56 36.53125 56 \n",
       "Q 37.453125 56 38.578125 55.875 \n",
       "Q 39.703125 55.765625 41.0625 55.515625 \n",
       "z\n",
       "\" id=\"DejaVuSans-114\"/>\n",
       "      <path d=\"M 34.28125 27.484375 \n",
       "Q 23.390625 27.484375 19.1875 25 \n",
       "Q 14.984375 22.515625 14.984375 16.5 \n",
       "Q 14.984375 11.71875 18.140625 8.90625 \n",
       "Q 21.296875 6.109375 26.703125 6.109375 \n",
       "Q 34.1875 6.109375 38.703125 11.40625 \n",
       "Q 43.21875 16.703125 43.21875 25.484375 \n",
       "L 43.21875 27.484375 \n",
       "z\n",
       "M 52.203125 31.203125 \n",
       "L 52.203125 0 \n",
       "L 43.21875 0 \n",
       "L 43.21875 8.296875 \n",
       "Q 40.140625 3.328125 35.546875 0.953125 \n",
       "Q 30.953125 -1.421875 24.3125 -1.421875 \n",
       "Q 15.921875 -1.421875 10.953125 3.296875 \n",
       "Q 6 8.015625 6 15.921875 \n",
       "Q 6 25.140625 12.171875 29.828125 \n",
       "Q 18.359375 34.515625 30.609375 34.515625 \n",
       "L 43.21875 34.515625 \n",
       "L 43.21875 35.40625 \n",
       "Q 43.21875 41.609375 39.140625 45 \n",
       "Q 35.0625 48.390625 27.6875 48.390625 \n",
       "Q 23 48.390625 18.546875 47.265625 \n",
       "Q 14.109375 46.140625 10.015625 43.890625 \n",
       "L 10.015625 52.203125 \n",
       "Q 14.9375 54.109375 19.578125 55.046875 \n",
       "Q 24.21875 56 28.609375 56 \n",
       "Q 40.484375 56 46.34375 49.84375 \n",
       "Q 52.203125 43.703125 52.203125 31.203125 \n",
       "z\n",
       "\" id=\"DejaVuSans-97\"/>\n",
       "      <path d=\"M 9.421875 54.6875 \n",
       "L 18.40625 54.6875 \n",
       "L 18.40625 0 \n",
       "L 9.421875 0 \n",
       "z\n",
       "M 9.421875 75.984375 \n",
       "L 18.40625 75.984375 \n",
       "L 18.40625 64.59375 \n",
       "L 9.421875 64.59375 \n",
       "z\n",
       "\" id=\"DejaVuSans-105\"/>\n",
       "      <path d=\"M 54.890625 33.015625 \n",
       "L 54.890625 0 \n",
       "L 45.90625 0 \n",
       "L 45.90625 32.71875 \n",
       "Q 45.90625 40.484375 42.875 44.328125 \n",
       "Q 39.84375 48.1875 33.796875 48.1875 \n",
       "Q 26.515625 48.1875 22.3125 43.546875 \n",
       "Q 18.109375 38.921875 18.109375 30.90625 \n",
       "L 18.109375 0 \n",
       "L 9.078125 0 \n",
       "L 9.078125 54.6875 \n",
       "L 18.109375 54.6875 \n",
       "L 18.109375 46.1875 \n",
       "Q 21.34375 51.125 25.703125 53.5625 \n",
       "Q 30.078125 56 35.796875 56 \n",
       "Q 45.21875 56 50.046875 50.171875 \n",
       "Q 54.890625 44.34375 54.890625 33.015625 \n",
       "z\n",
       "\" id=\"DejaVuSans-110\"/>\n",
       "      <path id=\"DejaVuSans-32\"/>\n",
       "      <path d=\"M 9.421875 75.984375 \n",
       "L 18.40625 75.984375 \n",
       "L 18.40625 0 \n",
       "L 9.421875 0 \n",
       "z\n",
       "\" id=\"DejaVuSans-108\"/>\n",
       "      <path d=\"M 44.28125 53.078125 \n",
       "L 44.28125 44.578125 \n",
       "Q 40.484375 46.53125 36.375 47.5 \n",
       "Q 32.28125 48.484375 27.875 48.484375 \n",
       "Q 21.1875 48.484375 17.84375 46.4375 \n",
       "Q 14.5 44.390625 14.5 40.28125 \n",
       "Q 14.5 37.15625 16.890625 35.375 \n",
       "Q 19.28125 33.59375 26.515625 31.984375 \n",
       "L 29.59375 31.296875 \n",
       "Q 39.15625 29.25 43.1875 25.515625 \n",
       "Q 47.21875 21.78125 47.21875 15.09375 \n",
       "Q 47.21875 7.46875 41.1875 3.015625 \n",
       "Q 35.15625 -1.421875 24.609375 -1.421875 \n",
       "Q 20.21875 -1.421875 15.453125 -0.5625 \n",
       "Q 10.6875 0.296875 5.421875 2 \n",
       "L 5.421875 11.28125 \n",
       "Q 10.40625 8.6875 15.234375 7.390625 \n",
       "Q 20.0625 6.109375 24.8125 6.109375 \n",
       "Q 31.15625 6.109375 34.5625 8.28125 \n",
       "Q 37.984375 10.453125 37.984375 14.40625 \n",
       "Q 37.984375 18.0625 35.515625 20.015625 \n",
       "Q 33.0625 21.96875 24.703125 23.78125 \n",
       "L 21.578125 24.515625 \n",
       "Q 13.234375 26.265625 9.515625 29.90625 \n",
       "Q 5.8125 33.546875 5.8125 39.890625 \n",
       "Q 5.8125 47.609375 11.28125 51.796875 \n",
       "Q 16.75 56 26.8125 56 \n",
       "Q 31.78125 56 36.171875 55.265625 \n",
       "Q 40.578125 54.546875 44.28125 53.078125 \n",
       "z\n",
       "\" id=\"DejaVuSans-115\"/>\n",
       "     </defs>\n",
       "     <g transform=\"translate(170.634375 67.030469)scale(0.1 -0.1)\">\n",
       "      <use xlink:href=\"#DejaVuSans-116\"/>\n",
       "      <use x=\"39.208984\" xlink:href=\"#DejaVuSans-114\"/>\n",
       "      <use x=\"80.322266\" xlink:href=\"#DejaVuSans-97\"/>\n",
       "      <use x=\"141.601562\" xlink:href=\"#DejaVuSans-105\"/>\n",
       "      <use x=\"169.384766\" xlink:href=\"#DejaVuSans-110\"/>\n",
       "      <use x=\"232.763672\" xlink:href=\"#DejaVuSans-32\"/>\n",
       "      <use x=\"264.550781\" xlink:href=\"#DejaVuSans-108\"/>\n",
       "      <use x=\"292.333984\" xlink:href=\"#DejaVuSans-111\"/>\n",
       "      <use x=\"353.515625\" xlink:href=\"#DejaVuSans-115\"/>\n",
       "      <use x=\"405.615234\" xlink:href=\"#DejaVuSans-115\"/>\n",
       "     </g>\n",
       "    </g>\n",
       "    <g id=\"line2d_28\">\n",
       "     <path d=\"M 142.634375 78.208594 \n",
       "L 162.634375 78.208594 \n",
       "\" style=\"fill:none;stroke:#bf00bf;stroke-dasharray:5.55,2.4;stroke-dashoffset:0;stroke-width:1.5;\"/>\n",
       "    </g>\n",
       "    <g id=\"line2d_29\"/>\n",
       "    <g id=\"text_14\">\n",
       "     <!-- train acc -->\n",
       "     <g transform=\"translate(170.634375 81.708594)scale(0.1 -0.1)\">\n",
       "      <use xlink:href=\"#DejaVuSans-116\"/>\n",
       "      <use x=\"39.208984\" xlink:href=\"#DejaVuSans-114\"/>\n",
       "      <use x=\"80.322266\" xlink:href=\"#DejaVuSans-97\"/>\n",
       "      <use x=\"141.601562\" xlink:href=\"#DejaVuSans-105\"/>\n",
       "      <use x=\"169.384766\" xlink:href=\"#DejaVuSans-110\"/>\n",
       "      <use x=\"232.763672\" xlink:href=\"#DejaVuSans-32\"/>\n",
       "      <use x=\"264.550781\" xlink:href=\"#DejaVuSans-97\"/>\n",
       "      <use x=\"325.830078\" xlink:href=\"#DejaVuSans-99\"/>\n",
       "      <use x=\"380.810547\" xlink:href=\"#DejaVuSans-99\"/>\n",
       "     </g>\n",
       "    </g>\n",
       "    <g id=\"line2d_30\">\n",
       "     <path d=\"M 142.634375 92.886719 \n",
       "L 162.634375 92.886719 \n",
       "\" style=\"fill:none;stroke:#008000;stroke-dasharray:9.6,2.4,1.5,2.4;stroke-dashoffset:0;stroke-width:1.5;\"/>\n",
       "    </g>\n",
       "    <g id=\"line2d_31\"/>\n",
       "    <g id=\"text_15\">\n",
       "     <!-- test acc -->\n",
       "     <g transform=\"translate(170.634375 96.386719)scale(0.1 -0.1)\">\n",
       "      <use xlink:href=\"#DejaVuSans-116\"/>\n",
       "      <use x=\"39.208984\" xlink:href=\"#DejaVuSans-101\"/>\n",
       "      <use x=\"100.732422\" xlink:href=\"#DejaVuSans-115\"/>\n",
       "      <use x=\"152.832031\" xlink:href=\"#DejaVuSans-116\"/>\n",
       "      <use x=\"192.041016\" xlink:href=\"#DejaVuSans-32\"/>\n",
       "      <use x=\"223.828125\" xlink:href=\"#DejaVuSans-97\"/>\n",
       "      <use x=\"285.107422\" xlink:href=\"#DejaVuSans-99\"/>\n",
       "      <use x=\"340.087891\" xlink:href=\"#DejaVuSans-99\"/>\n",
       "     </g>\n",
       "    </g>\n",
       "   </g>\n",
       "  </g>\n",
       " </g>\n",
       " <defs>\n",
       "  <clipPath id=\"p80346aa1f9\">\n",
       "   <rect height=\"135.9\" width=\"195.3\" x=\"30.103125\" y=\"10.999219\"/>\n",
       "  </clipPath>\n",
       " </defs>\n",
       "</svg>\n"
      ],
      "text/plain": [
       "<Figure size 252x180 with 1 Axes>"
      ]
     },
     "metadata": {
      "needs_background": "light"
     },
     "output_type": "display_data"
    }
   ],
   "source": [
    "lr, num_epochs = 0.01, 5\n",
    "trainer = torch.optim.Adam(net.parameters(), lr=lr)\n",
    "loss = nn.CrossEntropyLoss(reduction=\"none\")\n",
    "d2l.train_ch13(net, train_iter, test_iter, loss, trainer, num_epochs, devices)"
   ]
  },
  {
   "cell_type": "markdown",
   "metadata": {
    "id": "jo1jzECUWgza",
    "origin_pos": 20
   },
   "source": [
    "We define the following function to predict the sentiment of a text sequence using the trained model `net`.\n"
   ]
  },
  {
   "cell_type": "code",
   "execution_count": 23,
   "metadata": {
    "executionInfo": {
     "elapsed": 94,
     "status": "ok",
     "timestamp": 1634003465717,
     "user": {
      "displayName": "James Yang",
      "photoUrl": "https://lh3.googleusercontent.com/a/default-user=s64",
      "userId": "05522971510241172115"
     },
     "user_tz": 240
    },
    "id": "FE0BHRhZWgza",
    "origin_pos": 22,
    "tab": [
     "pytorch"
    ]
   },
   "outputs": [],
   "source": [
    "def predict_sentiment(net, vocab, sequence):\n",
    "    \"\"\"Predict the sentiment of a text sequence.\"\"\"\n",
    "    sequence = torch.tensor(vocab[sequence.split()], device=d2l.try_gpu())\n",
    "    label = torch.argmax(net(sequence.reshape(1, -1)), dim=1)\n",
    "    return 'positive' if label == 1 else 'negative'"
   ]
  },
  {
   "cell_type": "markdown",
   "metadata": {
    "id": "Ex6E89RrWgzb",
    "origin_pos": 23
   },
   "source": [
    "Finally, let us use the trained model to predict the sentiment for two simple sentences.\n"
   ]
  },
  {
   "cell_type": "code",
   "execution_count": 24,
   "metadata": {
    "colab": {
     "base_uri": "https://localhost:8080/",
     "height": 35
    },
    "executionInfo": {
     "elapsed": 98,
     "status": "ok",
     "timestamp": 1634003468739,
     "user": {
      "displayName": "James Yang",
      "photoUrl": "https://lh3.googleusercontent.com/a/default-user=s64",
      "userId": "05522971510241172115"
     },
     "user_tz": 240
    },
    "id": "9_DRATrTWgzb",
    "origin_pos": 24,
    "outputId": "968b41e6-c0dd-49ec-acbc-b7c1b0c65229",
    "tab": [
     "pytorch"
    ]
   },
   "outputs": [
    {
     "data": {
      "application/vnd.google.colaboratory.intrinsic+json": {
       "type": "string"
      },
      "text/plain": [
       "'positive'"
      ]
     },
     "execution_count": 24,
     "metadata": {},
     "output_type": "execute_result"
    }
   ],
   "source": [
    "predict_sentiment(net, vocab, 'this movie is so great')"
   ]
  },
  {
   "cell_type": "code",
   "execution_count": 27,
   "metadata": {
    "colab": {
     "base_uri": "https://localhost:8080/",
     "height": 35
    },
    "executionInfo": {
     "elapsed": 100,
     "status": "ok",
     "timestamp": 1634003493184,
     "user": {
      "displayName": "James Yang",
      "photoUrl": "https://lh3.googleusercontent.com/a/default-user=s64",
      "userId": "05522971510241172115"
     },
     "user_tz": 240
    },
    "id": "wJRC6Z3wWgzb",
    "origin_pos": 25,
    "outputId": "06244870-e95b-418b-8432-2f76d734116a",
    "tab": [
     "pytorch"
    ]
   },
   "outputs": [
    {
     "data": {
      "application/vnd.google.colaboratory.intrinsic+json": {
       "type": "string"
      },
      "text/plain": [
       "'negative'"
      ]
     },
     "execution_count": 27,
     "metadata": {},
     "output_type": "execute_result"
    }
   ],
   "source": [
    "predict_sentiment(net, vocab, 'this movie is bad')"
   ]
  },
  {
   "cell_type": "markdown",
   "metadata": {
    "id": "FQQ855hdWgzc",
    "origin_pos": 26
   },
   "source": [
    "## Summary\n",
    "\n",
    "* Pretrained word vectors can represent individual tokens in a text sequence.\n",
    "* Bidirectional RNNs can represent a text sequence, such as via the concatenation of its hidden states at the initial and final time steps. This single text representation can be transformed into categories using a fully-connected layer.\n",
    "\n"
   ]
  }
 ],
 "metadata": {
  "accelerator": "GPU",
  "colab": {
   "collapsed_sections": [],
   "name": "NB11_Sentiment_Analysis_RNN.ipynb",
   "provenance": [
    {
     "file_id": "https://github.com/d2l-ai/d2l-pytorch-colab/blob/master/chapter_natural-language-processing-applications/sentiment-analysis-rnn.ipynb",
     "timestamp": 1633620225197
    }
   ]
  },
  "kernelspec": {
   "display_name": "Python 3 (ipykernel)",
   "language": "python",
   "name": "python3"
  },
  "language_info": {
   "codemirror_mode": {
    "name": "ipython",
    "version": 3
   },
   "file_extension": ".py",
   "mimetype": "text/x-python",
   "name": "python",
   "nbconvert_exporter": "python",
   "pygments_lexer": "ipython3",
   "version": "3.8.12"
  }
 },
 "nbformat": 4,
 "nbformat_minor": 1
}
