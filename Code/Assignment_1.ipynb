{
 "cells": [
  {
   "cell_type": "markdown",
   "metadata": {
    "id": "-pgc5CELZsO2"
   },
   "source": [
    "## Assignment 1 - Gradient Descent Algorithms with PyTorch\n",
    "The following code cell is used to generate some noisy data (don't change this code).  You will need to use the data generated here to train a linear model $y=ax+b$ (i.e., Perform gradient descent on the two parameters $a$ and $b$). \n",
    "\n",
    "\n",
    "1.   You will need to code two algorithms (1) Gradient Descent + regular momentum, and (2) Adam, using PyTorch \"autograd\".\n",
    "2.   Check your results against the linear regression model. You can do linear regression using \"sklearn.linear_model\" (Hint: you need to convert tensor to numpy array.)\n",
    "\n",
    "\n",
    "\n",
    "\n"
   ]
  },
  {
   "cell_type": "code",
   "execution_count": 1,
   "metadata": {
    "id": "kuDFZCgdwE27"
   },
   "outputs": [],
   "source": [
    "import torch\n",
    "torch.manual_seed(42)\n",
    "x = torch.rand(100,1)\n",
    "y = 1 + 2 * x + .1 * torch.rand(100, 1)"
   ]
  },
  {
   "cell_type": "code",
   "execution_count": 2,
   "metadata": {
    "colab": {
     "base_uri": "https://localhost:8080/"
    },
    "executionInfo": {
     "elapsed": 12,
     "status": "ok",
     "timestamp": 1630443310668,
     "user": {
      "displayName": "James Yang",
      "photoUrl": "",
      "userId": "05522971510241172115"
     },
     "user_tz": 240
    },
    "id": "-R-1-3K7ZaSf",
    "outputId": "299e2146-8fa1-49c3-a6bd-d94e8ce62284"
   },
   "outputs": [
    {
     "data": {
      "text/plain": [
       "(tensor([-0.6430], requires_grad=True), tensor([0.7113], requires_grad=True))"
      ]
     },
     "execution_count": 2,
     "metadata": {},
     "output_type": "execute_result"
    }
   ],
   "source": [
    "a = torch.randn(1, requires_grad=True)\n",
    "b = torch.randn(1, requires_grad=True)\n",
    "a, b"
   ]
  },
  {
   "cell_type": "markdown",
   "metadata": {
    "id": "mJd4pArDd7c6"
   },
   "source": [
    "## Your code goes here:"
   ]
  },
  {
   "cell_type": "code",
   "execution_count": 3,
   "metadata": {},
   "outputs": [],
   "source": [
    "aa = a\n",
    "bb = b"
   ]
  },
  {
   "cell_type": "code",
   "execution_count": 4,
   "metadata": {},
   "outputs": [
    {
     "data": {
      "text/plain": [
       "torch.Size([100, 2])"
      ]
     },
     "execution_count": 4,
     "metadata": {},
     "output_type": "execute_result"
    }
   ],
   "source": [
    "train_loader = torch.cat([x,y],1)\n",
    "train_loader.shape"
   ]
  },
  {
   "cell_type": "code",
   "execution_count": 5,
   "metadata": {},
   "outputs": [
    {
     "name": "stderr",
     "output_type": "stream",
     "text": [
      "C:\\Users\\gs70055\\Anaconda3\\envs\\su\\lib\\site-packages\\torch\\nn\\modules\\loss.py:528: UserWarning: Using a target size (torch.Size([])) that is different to the input size (torch.Size([1])). This will likely lead to incorrect results due to broadcasting. Please ensure they have the same size.\n",
      "  return F.mse_loss(input, target, reduction=self.reduction)\n"
     ]
    },
    {
     "name": "stdout",
     "output_type": "stream",
     "text": [
      "('Epoch:', 1, 'Loss:', 0.9364055199837458)\n",
      "('Epoch:', 2, 'Loss:', 0.15476775919403735)\n",
      "('Epoch:', 3, 'Loss:', 0.10187073704061789)\n",
      "('Epoch:', 4, 'Loss:', 0.06569679600195741)\n",
      "('Epoch:', 5, 'Loss:', 0.04256844145369541)\n",
      "('Epoch:', 6, 'Loss:', 0.02767523824343698)\n",
      "('Epoch:', 7, 'Loss:', 0.018090252663087086)\n",
      "('Epoch:', 8, 'Loss:', 0.011921936206565533)\n",
      "('Epoch:', 9, 'Loss:', 0.00795285160516869)\n",
      "('Epoch:', 10, 'Loss:', 0.0053992455031720964)\n",
      "('Epoch:', 11, 'Loss:', 0.0037566226674016433)\n",
      "('Epoch:', 12, 'Loss:', 0.0027002321166601463)\n",
      "('Epoch:', 13, 'Loss:', 0.0020210451711801625)\n",
      "('Epoch:', 14, 'Loss:', 0.0015845225137633178)\n",
      "('Epoch:', 15, 'Loss:', 0.0013040856593624995)\n",
      "('Epoch:', 16, 'Loss:', 0.0011240265802808834)\n",
      "('Epoch:', 17, 'Loss:', 0.0010084910241630496)\n",
      "('Epoch:', 18, 'Loss:', 0.0009344255778695753)\n",
      "('Epoch:', 19, 'Loss:', 0.0008869943905392574)\n",
      "('Epoch:', 20, 'Loss:', 0.0008566562247779075)\n",
      "('Epoch:', 21, 'Loss:', 0.0008373003928359424)\n",
      "('Epoch:', 22, 'Loss:', 0.0008249585231754963)\n",
      "('Epoch:', 23, 'Loss:', 0.0008171220552846137)\n",
      "('Epoch:', 24, 'Loss:', 0.0008121627535086873)\n",
      "('Epoch:', 25, 'Loss:', 0.0008090390797093506)\n",
      "('Epoch:', 26, 'Loss:', 0.0008070818251361799)\n",
      "('Epoch:', 27, 'Loss:', 0.0008058639608145768)\n",
      "('Epoch:', 28, 'Loss:', 0.0008051213287143355)\n",
      "('Epoch:', 29, 'Loss:', 0.0008046662238018599)\n",
      "('Epoch:', 30, 'Loss:', 0.0008043932393553633)\n",
      "tensor([2.0106], grad_fn=<SubBackward0>) tensor([1.0479], grad_fn=<SubBackward0>)\n"
     ]
    }
   ],
   "source": [
    "from torch.nn import MSELoss\n",
    "#from torch.optim import SGD,Adam\n",
    "\n",
    "#optimizer = SGD([a,b], lr=1e-3, momentum=0.95)\n",
    "loss_fn = MSELoss()\n",
    "lr = 1e-3 \n",
    "\n",
    "running_loss = 0.0\n",
    "epochs = 30\n",
    "for epoch in range(epochs):\n",
    "    v_a = torch.tensor(([0]),dtype=torch.float)\n",
    "    v_b = torch.tensor(([0]),dtype=torch.float)\n",
    "    for batch in train_loader:\n",
    "        a = torch.tensor([a], requires_grad=True)\n",
    "        b = torch.tensor([b], requires_grad=True)\n",
    "        m, n = batch\n",
    "        preds = a*m + b\n",
    "        loss = loss_fn(preds, n)\n",
    "        loss.backward()\n",
    "        v_a = 0.95 * v_a + a.grad\n",
    "        v_b = 0.95 * v_b + b.grad\n",
    "        v_a.requires_grad = False\n",
    "        v_b.requires_grad = False\n",
    "        a = a - lr * v_a\n",
    "        b = b - lr * v_b \n",
    "        running_loss += loss.item()\n",
    "    print((\"Epoch:\",epoch+1, \"Loss:\",running_loss/len(train_loader)))\n",
    "    running_loss = 0.0\n",
    "print(a,b)"
   ]
  },
  {
   "cell_type": "code",
   "execution_count": 6,
   "metadata": {},
   "outputs": [
    {
     "name": "stdout",
     "output_type": "stream",
     "text": [
      "('Epoch:', 1, 'Loss:', 1.9046681172435638)\n",
      "('Epoch:', 2, 'Loss:', 0.45292966659497325)\n",
      "('Epoch:', 3, 'Loss:', 0.21255243357285508)\n",
      "('Epoch:', 4, 'Loss:', 0.16313746707448445)\n",
      "('Epoch:', 5, 'Loss:', 0.13129399892564833)\n",
      "('Epoch:', 6, 'Loss:', 0.10371002784144366)\n",
      "('Epoch:', 7, 'Loss:', 0.07998817684216192)\n",
      "('Epoch:', 8, 'Loss:', 0.06022684182717057)\n",
      "('Epoch:', 9, 'Loss:', 0.044280735114734855)\n",
      "('Epoch:', 10, 'Loss:', 0.03179911006706334)\n",
      "('Epoch:', 11, 'Loss:', 0.022316238234789124)\n",
      "('Epoch:', 12, 'Loss:', 0.015323684040849913)\n",
      "('Epoch:', 13, 'Loss:', 0.010321764795526179)\n",
      "('Epoch:', 14, 'Loss:', 0.006853839183604577)\n",
      "('Epoch:', 15, 'Loss:', 0.004525926434155281)\n",
      "('Epoch:', 16, 'Loss:', 0.0030149358391918213)\n",
      "('Epoch:', 17, 'Loss:', 0.002067952577220353)\n",
      "('Epoch:', 18, 'Loss:', 0.0014958178928753795)\n",
      "('Epoch:', 19, 'Loss:', 0.0011632249372452463)\n",
      "('Epoch:', 20, 'Loss:', 0.0009775779800492046)\n",
      "('Epoch:', 21, 'Loss:', 0.0008783370340057673)\n",
      "('Epoch:', 22, 'Loss:', 0.0008276862218060899)\n",
      "('Epoch:', 23, 'Loss:', 0.0008030995628075744)\n",
      "('Epoch:', 24, 'Loss:', 0.0007918064524886859)\n",
      "('Epoch:', 25, 'Loss:', 0.0007869154845049309)\n",
      "('Epoch:', 26, 'Loss:', 0.0007849391977981667)\n",
      "('Epoch:', 27, 'Loss:', 0.00078420546147413)\n",
      "('Epoch:', 28, 'Loss:', 0.0007839751096003056)\n",
      "('Epoch:', 29, 'Loss:', 0.0007839667358942393)\n",
      "('Epoch:', 30, 'Loss:', 0.0007840925121013243)\n",
      "tensor([2.0160], requires_grad=True) tensor([1.0460], requires_grad=True)\n"
     ]
    }
   ],
   "source": [
    "from torch.nn import MSELoss\n",
    "from torch.optim import Adam\n",
    "\n",
    "a = aa \n",
    "b = bb\n",
    "\n",
    "optimizer = Adam([a,b], lr=1e-2)\n",
    "loss_fn = MSELoss()\n",
    "\n",
    "running_loss = 0.0\n",
    "epochs = 30\n",
    "for epoch in range(epochs):\n",
    "    for batch in train_loader:\n",
    "        m, n = batch\n",
    "        preds = a*m + b\n",
    "        loss = loss_fn(preds, n)\n",
    "        loss.backward()\n",
    "        optimizer.step()\n",
    "        optimizer.zero_grad()\n",
    "        #print(loss.item())\n",
    "        running_loss += loss.item()\n",
    "    print((\"Epoch:\",epoch+1, \"Loss:\",running_loss/len(train_loader)))\n",
    "    running_loss = 0.0\n",
    "print(a,b)"
   ]
  },
  {
   "cell_type": "code",
   "execution_count": 7,
   "metadata": {
    "id": "m4hcTpsw__Gz"
   },
   "outputs": [
    {
     "data": {
      "text/plain": [
       "LinearRegression()"
      ]
     },
     "execution_count": 7,
     "metadata": {},
     "output_type": "execute_result"
    }
   ],
   "source": [
    "from sklearn import linear_model\n",
    "regr = linear_model.LinearRegression()\n",
    "regr.fit(x, y)"
   ]
  },
  {
   "cell_type": "code",
   "execution_count": 8,
   "metadata": {},
   "outputs": [
    {
     "data": {
      "text/plain": [
       "array([[2.0108864]], dtype=float32)"
      ]
     },
     "execution_count": 8,
     "metadata": {},
     "output_type": "execute_result"
    }
   ],
   "source": [
    "regr.coef_"
   ]
  },
  {
   "cell_type": "code",
   "execution_count": 9,
   "metadata": {},
   "outputs": [
    {
     "data": {
      "text/plain": [
       "array([1.0401307], dtype=float32)"
      ]
     },
     "execution_count": 9,
     "metadata": {},
     "output_type": "execute_result"
    }
   ],
   "source": [
    "regr.intercept_"
   ]
  }
 ],
 "metadata": {
  "colab": {
   "authorship_tag": "ABX9TyNn5EgYowc0epLdgSn3mX93",
   "collapsed_sections": [],
   "name": "Assignment_1.ipynb",
   "provenance": [
    {
     "file_id": "10eZYT-ExC_NOlfAr84h2r0x4s9-iJTP2",
     "timestamp": 1630443353038
    }
   ]
  },
  "kernelspec": {
   "display_name": "Python 3",
   "language": "python",
   "name": "python3"
  },
  "language_info": {
   "codemirror_mode": {
    "name": "ipython",
    "version": 3
   },
   "file_extension": ".py",
   "mimetype": "text/x-python",
   "name": "python",
   "nbconvert_exporter": "python",
   "pygments_lexer": "ipython3",
   "version": "3.8.10"
  }
 },
 "nbformat": 4,
 "nbformat_minor": 1
}
