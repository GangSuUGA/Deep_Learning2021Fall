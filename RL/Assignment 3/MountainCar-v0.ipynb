{
 "cells": [
  {
   "cell_type": "code",
   "execution_count": 1,
   "id": "1798c1ba",
   "metadata": {},
   "outputs": [],
   "source": [
    "import gym\n",
    "import numpy as np\n",
    "from collections import deque\n",
    "import matplotlib.pyplot as plt\n",
    "plt.rcParams['figure.figsize'] = (16, 10)\n",
    "\n",
    "import torch\n",
    "import torch.nn as nn\n",
    "import torch.nn.functional as F\n",
    "import torch.optim as optim\n",
    "from torch.distributions import Categorical\n",
    "torch.manual_seed(0)\n",
    "\n",
    "import base64, io\n",
    "\n",
    "# For visualization\n",
    "from gym.wrappers.monitoring import video_recorder\n",
    "from IPython.display import HTML\n",
    "from IPython import display \n",
    "import glob"
   ]
  },
  {
   "cell_type": "code",
   "execution_count": 2,
   "id": "7b868914",
   "metadata": {},
   "outputs": [
    {
     "data": {
      "text/plain": [
       "device(type='cuda', index=0)"
      ]
     },
     "execution_count": 2,
     "metadata": {},
     "output_type": "execute_result"
    }
   ],
   "source": [
    "device = torch.device(\"cuda:0\" if torch.cuda.is_available() else \"cpu\")\n",
    "device"
   ]
  },
  {
   "cell_type": "code",
   "execution_count": 3,
   "id": "c578925b",
   "metadata": {},
   "outputs": [
    {
     "name": "stdout",
     "output_type": "stream",
     "text": [
      "observation space: Box([-1.2  -0.07], [0.6  0.07], (2,), float32)\n",
      "action space: Discrete(3)\n"
     ]
    }
   ],
   "source": [
    "env = gym.make('MountainCar-v0')\n",
    "env.seed(0)\n",
    "\n",
    "print('observation space:', env.observation_space)\n",
    "print('action space:', env.action_space)"
   ]
  },
  {
   "cell_type": "code",
   "execution_count": 4,
   "id": "147adc3a",
   "metadata": {},
   "outputs": [],
   "source": [
    "class Policy(nn.Module):\n",
    "    def __init__(self, state_size=2, action_size=3, hidden_size=32):\n",
    "        super(Policy, self).__init__()\n",
    "        self.fc1 = nn.Linear(state_size, hidden_size)\n",
    "        #self.fc2 = nn.Linear(hidden_size, hidden_size)\n",
    "        self.fc3 = nn.Linear(hidden_size, action_size)\n",
    "        \n",
    "    def forward(self, state):\n",
    "        x = F.relu(self.fc1(state))\n",
    "        #x = F.relu(self.fc2(x))\n",
    "        x = self.fc3(x)\n",
    "        # we just consider 1 dimensional probability of action\n",
    "        return F.softmax(x, dim=1)\n",
    "    \n",
    "    def act(self, state):\n",
    "        state = torch.from_numpy(state).float().unsqueeze(0).to(device)\n",
    "        probs = self.forward(state).cpu()\n",
    "        model = Categorical(probs)\n",
    "        action = model.sample()\n",
    "        return action.item(), model.log_prob(action)"
   ]
  },
  {
   "cell_type": "code",
   "execution_count": 5,
   "id": "b7d22eb3",
   "metadata": {},
   "outputs": [],
   "source": [
    "def reinforce(policy, optimizer, n_episodes=1000, max_t=1000, gamma=1.0, print_every=100):\n",
    "    scores_deque = deque(maxlen=100)\n",
    "    scores = []\n",
    "    for e in range(1, n_episodes):\n",
    "        saved_log_probs = []\n",
    "        rewards = []\n",
    "        state = env.reset()\n",
    "        # Collect trajectory\n",
    "        for t in range(max_t):\n",
    "            # Sample the action from current policy\n",
    "            action, log_prob = policy.act(state)\n",
    "            saved_log_probs.append(log_prob)\n",
    "            state, reward, done, _ = env.step(action)\n",
    "            rewards.append(reward)\n",
    "            if done:\n",
    "                break\n",
    "        # Calculate total expected reward\n",
    "        scores_deque.append(sum(rewards))\n",
    "        scores.append(sum(rewards))\n",
    "        \n",
    "        # Recalculate the total reward applying discounted factor\n",
    "        discounts = [gamma ** i for i in range(len(rewards) + 1)]\n",
    "        R = sum([a * b for a,b in zip(discounts, rewards)])\n",
    "        \n",
    "        # Calculate the loss \n",
    "        policy_loss = []\n",
    "        for log_prob in saved_log_probs:\n",
    "            # Note that we are using Gradient Ascent, not Descent. So we need to calculate it with negative rewards.\n",
    "            policy_loss.append(-log_prob * R)\n",
    "        # After that, we concatenate whole policy loss in 0th dimension\n",
    "        policy_loss = torch.cat(policy_loss).sum()\n",
    "        \n",
    "        # Backpropagation\n",
    "        optimizer.zero_grad()\n",
    "        policy_loss.backward()\n",
    "        optimizer.step()\n",
    "        \n",
    "        if e % print_every == 0:\n",
    "            print('Episode {}\\tAverage Score: {:.2f}'.format(e, np.mean(scores_deque)))\n",
    "        if np.mean(scores_deque) >= -110.0:\n",
    "            print('Environment solved in {:d} episodes!\\tAverage Score: {:.2f}'.format(e - 100, np.mean(scores_deque)))\n",
    "            break\n",
    "    return scores"
   ]
  },
  {
   "cell_type": "code",
   "execution_count": 6,
   "id": "e119841a",
   "metadata": {},
   "outputs": [
    {
     "name": "stdout",
     "output_type": "stream",
     "text": [
      "Episode 100\tAverage Score: -200.00\n",
      "Episode 200\tAverage Score: -200.00\n",
      "Episode 300\tAverage Score: -200.00\n",
      "Episode 400\tAverage Score: -200.00\n",
      "Episode 500\tAverage Score: -200.00\n",
      "Episode 600\tAverage Score: -200.00\n",
      "Episode 700\tAverage Score: -200.00\n",
      "Episode 800\tAverage Score: -200.00\n",
      "Episode 900\tAverage Score: -200.00\n",
      "Episode 1000\tAverage Score: -200.00\n",
      "Episode 1100\tAverage Score: -200.00\n",
      "Episode 1200\tAverage Score: -200.00\n",
      "Episode 1300\tAverage Score: -200.00\n",
      "Episode 1400\tAverage Score: -200.00\n",
      "Episode 1500\tAverage Score: -200.00\n",
      "Episode 1600\tAverage Score: -200.00\n",
      "Episode 1700\tAverage Score: -200.00\n",
      "Episode 1800\tAverage Score: -200.00\n",
      "Episode 1900\tAverage Score: -200.00\n",
      "Episode 2000\tAverage Score: -200.00\n",
      "Episode 2100\tAverage Score: -200.00\n",
      "Episode 2200\tAverage Score: -200.00\n",
      "Episode 2300\tAverage Score: -200.00\n",
      "Episode 2400\tAverage Score: -200.00\n",
      "Episode 2500\tAverage Score: -200.00\n",
      "Episode 2600\tAverage Score: -200.00\n",
      "Episode 2700\tAverage Score: -200.00\n",
      "Episode 2800\tAverage Score: -200.00\n",
      "Episode 2900\tAverage Score: -200.00\n",
      "Episode 3000\tAverage Score: -200.00\n",
      "Episode 3100\tAverage Score: -200.00\n",
      "Episode 3200\tAverage Score: -200.00\n",
      "Episode 3300\tAverage Score: -200.00\n",
      "Episode 3400\tAverage Score: -200.00\n",
      "Episode 3500\tAverage Score: -200.00\n",
      "Episode 3600\tAverage Score: -200.00\n",
      "Episode 3700\tAverage Score: -200.00\n",
      "Episode 3800\tAverage Score: -200.00\n",
      "Episode 3900\tAverage Score: -200.00\n",
      "Episode 4000\tAverage Score: -200.00\n",
      "Episode 4100\tAverage Score: -200.00\n",
      "Episode 4200\tAverage Score: -200.00\n",
      "Episode 4300\tAverage Score: -200.00\n",
      "Episode 4400\tAverage Score: -200.00\n",
      "Episode 4500\tAverage Score: -200.00\n",
      "Episode 4600\tAverage Score: -200.00\n",
      "Episode 4700\tAverage Score: -200.00\n",
      "Episode 4800\tAverage Score: -200.00\n",
      "Episode 4900\tAverage Score: -200.00\n"
     ]
    }
   ],
   "source": [
    "policy = Policy().to(device)\n",
    "optimizer = optim.Adam(policy.parameters(), lr=1e-2)\n",
    "scores = reinforce(policy, optimizer, n_episodes=5000)"
   ]
  },
  {
   "cell_type": "code",
   "execution_count": 7,
   "id": "06b55d6a",
   "metadata": {},
   "outputs": [
    {
     "data": {
      "image/png": "[encoded data removed]",
      "text/plain": [
       "<Figure size 1152x720 with 1 Axes>"
      ]
     },
     "metadata": {
      "needs_background": "light"
     },
     "output_type": "display_data"
    }
   ],
   "source": [
    "fig = plt.figure()\n",
    "ax = fig.add_subplot(111)\n",
    "plt.plot(np.arange(1, len(scores)+1), scores)\n",
    "plt.ylabel('Cumulative Reward G0')\n",
    "plt.xlabel('Episode #')\n",
    "plt.show()"
   ]
  },
  {
   "cell_type": "code",
   "execution_count": null,
   "id": "717f6fdc",
   "metadata": {},
   "outputs": [],
   "source": []
  }
 ],
 "metadata": {
  "kernelspec": {
   "display_name": "Python 3 (ipykernel)",
   "language": "python",
   "name": "python3"
  },
  "language_info": {
   "codemirror_mode": {
    "name": "ipython",
    "version": 3
   },
   "file_extension": ".py",
   "mimetype": "text/x-python",
   "name": "python",
   "nbconvert_exporter": "python",
   "pygments_lexer": "ipython3",
   "version": "3.8.12"
  }
 },
 "nbformat": 4,
 "nbformat_minor": 5
}
